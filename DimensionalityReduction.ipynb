{
 "cells": [
  {
   "cell_type": "code",
   "execution_count": 1,
   "metadata": {},
   "outputs": [
    {
     "name": "stdout",
     "output_type": "stream",
     "text": [
      "Populating the interactive namespace from numpy and matplotlib\n"
     ]
    }
   ],
   "source": [
    "%run functions.ipynb\n",
    "%load_ext autoreload\n",
    "%autoreload 2"
   ]
  },
  {
   "cell_type": "code",
   "execution_count": 2,
   "metadata": {},
   "outputs": [
    {
     "name": "stdout",
     "output_type": "stream",
     "text": [
      "Train and test sizes: (726, 12179) (243, 12179)\n",
      "(1, 0) labels count in train test: (289, 437) (104, 139)\n"
     ]
    }
   ],
   "source": [
    "X_train, X_test, y_train, y_test = load_train_and_test_parts()\n",
    "print(\"Train and test sizes: {} {}\".format(X_train.shape, X_test.shape))\n",
    "print(\n",
    "    \"(1, 0) labels count in train test: {} {}\".format(\n",
    "        (np.count_nonzero(y_train == 1), np.count_nonzero(y_train == 0)),\n",
    "        (np.count_nonzero(y_test == 1), np.count_nonzero(y_test == 0)),\n",
    "    )\n",
    ")"
   ]
  },
  {
   "cell_type": "code",
   "execution_count": 6,
   "metadata": {
    "tags": [
     "parameters"
    ]
   },
   "outputs": [],
   "source": [
    "scoring = 'roc_auc'\n",
    "cv = 4\n",
    "cv_out = 5\n",
    "cv_in = 2\n",
    "n_iter = 1\n",
    "n_jobs = 3"
   ]
  },
  {
   "cell_type": "markdown",
   "metadata": {},
   "source": [
    "# PCA"
   ]
  },
  {
   "cell_type": "code",
   "execution_count": 5,
   "metadata": {},
   "outputs": [],
   "source": [
    "dim_params = {'n_components' : [50, 150, 300, 450, 500]}"
   ]
  },
  {
   "cell_type": "code",
   "execution_count": 6,
   "metadata": {},
   "outputs": [
    {
     "name": "stdout",
     "output_type": "stream",
     "text": [
      "{'dim__n_components': 300, 'clf__solver': 'liblinear', 'clf__penalty': 'l1', 'clf__C': 0.46734693877551026}\n"
     ]
    },
    {
     "data": {
      "text/html": [
       "<div>\n",
       "<style scoped>\n",
       "    .dataframe tbody tr th:only-of-type {\n",
       "        vertical-align: middle;\n",
       "    }\n",
       "\n",
       "    .dataframe tbody tr th {\n",
       "        vertical-align: top;\n",
       "    }\n",
       "\n",
       "    .dataframe thead th {\n",
       "        text-align: right;\n",
       "    }\n",
       "</style>\n",
       "<table border=\"1\" class=\"dataframe\">\n",
       "  <thead>\n",
       "    <tr style=\"text-align: right;\">\n",
       "      <th></th>\n",
       "      <th>ROC AUC</th>\n",
       "      <th>Precision</th>\n",
       "      <th>Recall</th>\n",
       "      <th>F1</th>\n",
       "    </tr>\n",
       "  </thead>\n",
       "  <tbody>\n",
       "    <tr>\n",
       "      <th>train</th>\n",
       "      <td>0.997</td>\n",
       "      <td>0.983</td>\n",
       "      <td>0.972</td>\n",
       "      <td>0.977</td>\n",
       "    </tr>\n",
       "    <tr>\n",
       "      <th>test</th>\n",
       "      <td>0.772</td>\n",
       "      <td>0.680</td>\n",
       "      <td>0.654</td>\n",
       "      <td>0.667</td>\n",
       "    </tr>\n",
       "  </tbody>\n",
       "</table>\n",
       "</div>"
      ],
      "text/plain": [
       "       ROC AUC  Precision  Recall    F1\n",
       "train    0.997      0.983   0.972 0.977\n",
       "test     0.772      0.680   0.654 0.667"
      ]
     },
     "metadata": {},
     "output_type": "display_data"
    }
   ],
   "source": [
    "models_logit_pca = fit_dim_reduction_pipeline(PCA(random_state=random_state), dim_params, X_train, y_train, \n",
    "                                              n_iter=n_iter, cv=cv, n_jobs=n_jobs, scoring=scoring)\n",
    "models_logit_pca = clf_print_scores(models_logit_pca, X_train, y_train, X_test, y_test)"
   ]
  },
  {
   "cell_type": "markdown",
   "metadata": {},
   "source": [
    "# MLCC"
   ]
  },
  {
   "cell_type": "code",
   "execution_count": 7,
   "metadata": {},
   "outputs": [
    {
     "name": "stdout",
     "output_type": "stream",
     "text": [
      "{'dim__filename': 'output500_8_40_30.RData', 'clf__solver': 'liblinear', 'clf__penalty': 'l1', 'clf__C': 0.43061224489795924}\n"
     ]
    },
    {
     "data": {
      "text/html": [
       "<div>\n",
       "<style scoped>\n",
       "    .dataframe tbody tr th:only-of-type {\n",
       "        vertical-align: middle;\n",
       "    }\n",
       "\n",
       "    .dataframe tbody tr th {\n",
       "        vertical-align: top;\n",
       "    }\n",
       "\n",
       "    .dataframe thead th {\n",
       "        text-align: right;\n",
       "    }\n",
       "</style>\n",
       "<table border=\"1\" class=\"dataframe\">\n",
       "  <thead>\n",
       "    <tr style=\"text-align: right;\">\n",
       "      <th></th>\n",
       "      <th>ROC AUC</th>\n",
       "      <th>Precision</th>\n",
       "      <th>Recall</th>\n",
       "      <th>F1</th>\n",
       "    </tr>\n",
       "  </thead>\n",
       "  <tbody>\n",
       "    <tr>\n",
       "      <th>train</th>\n",
       "      <td>1.000</td>\n",
       "      <td>1.000</td>\n",
       "      <td>0.997</td>\n",
       "      <td>0.998</td>\n",
       "    </tr>\n",
       "    <tr>\n",
       "      <th>test</th>\n",
       "      <td>0.791</td>\n",
       "      <td>0.660</td>\n",
       "      <td>0.635</td>\n",
       "      <td>0.647</td>\n",
       "    </tr>\n",
       "  </tbody>\n",
       "</table>\n",
       "</div>"
      ],
      "text/plain": [
       "       ROC AUC  Precision  Recall    F1\n",
       "train    1.000      1.000   0.997 0.998\n",
       "test     0.791      0.660   0.635 0.647"
      ]
     },
     "metadata": {},
     "output_type": "display_data"
    }
   ],
   "source": [
    "filenames = get_mlcc_result_files()\n",
    "models_logit_mlcc = fit_dim_reduction_pipeline(MLCCWrapper(), {'filename' : filenames}, X_train, y_train, \n",
    "                                              n_iter=n_iter, cv=cv, n_jobs=n_jobs, scoring=scoring)\n",
    "models_logit_mlcc = clf_print_scores(models_logit_mlcc, X_train, y_train, X_test, y_test)"
   ]
  },
  {
   "cell_type": "code",
   "execution_count": 8,
   "metadata": {},
   "outputs": [
    {
     "name": "stdout",
     "output_type": "stream",
     "text": [
      "0\n",
      "['output500_8_40_30.RData', 'output500_1_40_30.RData', 'output50_4_40_30.RData', 'output50_8_40_30.RData', 'output50_50_40_30.RData', 'output100_8_40_30.RData', 'output250_1_40_30.RData', 'output150_8_40_30.RData', 'output25_50_40_30.RData', 'output100_4_40_30.RData', 'output10_8_40_30.RData', 'output75_4_40_30.RData', 'output20_4_40_30.RData', 'output20_8_40_30.RData', 'output200_8_40_30.RData']\n",
      "Highest mBIC is from output25_50_40_30.RData\n",
      "[271 499 125 ... 169  26  35] [2 4 3 5 2 3 2 2 2 1 8 2 1 3 2 1 1 3 8 5 6 1 3 1 1 4 3 2 3 2 1 1 3 4 1 1 2\n",
      " 7 1 5 5 4 5 1 1 4 2 5 6 2 1 2 1 8 7 2 1 2 1 2 1 2 8 1 8 4 1 2 2 1 3 3 1 2\n",
      " 2 1 4 2 1 1 1 1 1 2 2 3 5 1 3 1 4 3 3 1 4 2 1 2 2 5 2 3 1 3 4 4 6 1 1 1 4\n",
      " 2 1 4 5 6 6 1 2 1 3 7 4 1 3 4 2 3 4 1 2 1 6 2 3 2 4 3 1 5 2 3 2 2 1 1 3 1\n",
      " 2 1 1 7 3 1 5 4 1 1 2 7 3 3 1 4 4 8 2 3 3 8 4 3 2 2 6 2 2 5 4 8 4 4 4 6 6\n",
      " 3 1 4 2 4 8 3 4 3 3 1 6 8 1 2 1 4 2 1 4 4 6 1 4 4 2 4 1 1 7 1 2 4 4 3 2 2\n",
      " 1 6 8 2 4 1 2 2 1 4 1 4 1 7 1 8 6 2 2 1 5 8 2 4 2 2 1 2 5 1 4 7 3 2 1 1 1\n",
      " 1 2 3 3 2 5 8 4 1 2 4 3 8 2 5 3 4 4 4 1 2 3 1 1 5 1 1 5 3 4 2 3 4 1 1 3 2\n",
      " 2 2 5 4 2 1 2 1 1 3 4 1 3 4 5 2 1 8 3 8 2 1 2 2 4 1 1 8 2 2 1 3 5 3 6 2 8\n",
      " 2 2 2 8 8 3 2 1 1 4 3 2 4 4 3 6 5 1 2 8 1 4 1 2 2 8 5 6 1 2 4 3 8 2 3 2 5\n",
      " 2 3 6 4 5 2 2 3 2 8 3 8 2 2 4 1 1 1 6 2 4 1 3 1 1 2 3 1 2 5 7 2 5 6 1 1 2\n",
      " 2 4 1 3 1 1 3 6 1 2 5 5 2 1 4 5 2 1 1 1 1 1 3 3 4 3 1 1 2 1 3 1 2 2 1 1 1\n",
      " 4 1 4 3 2 3 1 4 3 2 2 1 3 1 1 2 7 3 1 7 3 3 2 8 2 3 6 4 6 2 3 4 1 3 2 2 2\n",
      " 8 3 1 8 6 1 6 3 2 4 1 5 5 2 3 4 8 2 5]\n"
     ]
    },
    {
     "data": {
      "image/png": "[encoded data removed]",
      "text/plain": [
       "<Figure size 432x288 with 1 Axes>"
      ]
     },
     "metadata": {
      "needs_background": "light"
     },
     "output_type": "display_data"
    }
   ],
   "source": [
    "best_index = filenames.index(models_logit_mlcc.best_params_['dim__filename'])\n",
    "print(best_index)\n",
    "models_logit_mlcc.best_estimator_.steps[1][1].summary(best_index)"
   ]
  },
  {
   "cell_type": "markdown",
   "metadata": {},
   "source": [
    "# SPCA"
   ]
  },
  {
   "cell_type": "code",
   "execution_count": 9,
   "metadata": {},
   "outputs": [],
   "source": [
    "n_components = [50, 150, 300, 450, 600, 750, 1000]"
   ]
  },
  {
   "cell_type": "code",
   "execution_count": 10,
   "metadata": {},
   "outputs": [],
   "source": [
    "dim_params = {'n_components' : n_components, 'threshold_val' : [0.01, 0.1, 0.5, 1, 3, 5, 10], 'threshold_mode': ['soft', 'hard', 'garrote'], \n",
    "              'max_iter': [25, 50, 100, 250]}"
   ]
  },
  {
   "cell_type": "code",
   "execution_count": 11,
   "metadata": {},
   "outputs": [
    {
     "name": "stdout",
     "output_type": "stream",
     "text": [
      "{'dim__threshold_val': 0.1, 'dim__threshold_mode': 'hard', 'dim__n_components': 1000, 'dim__max_iter': 25, 'clf__solver': 'liblinear', 'clf__penalty': 'l1', 'clf__C': 0.8346938775510204}\n"
     ]
    },
    {
     "data": {
      "text/html": [
       "<div>\n",
       "<style scoped>\n",
       "    .dataframe tbody tr th:only-of-type {\n",
       "        vertical-align: middle;\n",
       "    }\n",
       "\n",
       "    .dataframe tbody tr th {\n",
       "        vertical-align: top;\n",
       "    }\n",
       "\n",
       "    .dataframe thead th {\n",
       "        text-align: right;\n",
       "    }\n",
       "</style>\n",
       "<table border=\"1\" class=\"dataframe\">\n",
       "  <thead>\n",
       "    <tr style=\"text-align: right;\">\n",
       "      <th></th>\n",
       "      <th>ROC AUC</th>\n",
       "      <th>Precision</th>\n",
       "      <th>Recall</th>\n",
       "      <th>F1</th>\n",
       "    </tr>\n",
       "  </thead>\n",
       "  <tbody>\n",
       "    <tr>\n",
       "      <th>train</th>\n",
       "      <td>0.981</td>\n",
       "      <td>0.963</td>\n",
       "      <td>0.910</td>\n",
       "      <td>0.936</td>\n",
       "    </tr>\n",
       "    <tr>\n",
       "      <th>test</th>\n",
       "      <td>0.810</td>\n",
       "      <td>0.705</td>\n",
       "      <td>0.644</td>\n",
       "      <td>0.673</td>\n",
       "    </tr>\n",
       "  </tbody>\n",
       "</table>\n",
       "</div>"
      ],
      "text/plain": [
       "       ROC AUC  Precision  Recall    F1\n",
       "train    0.981      0.963   0.910 0.936\n",
       "test     0.810      0.705   0.644 0.673"
      ]
     },
     "metadata": {},
     "output_type": "display_data"
    }
   ],
   "source": [
    "models_logit_spca = fit_dim_reduction_pipeline(SPCWrapper(), dim_params, X_train, y_train, \n",
    "                                               n_iter=n_iter, cv=cv, n_jobs=n_jobs, scoring=scoring)\n",
    "models_logit_spca = clf_print_scores(models_logit_spca, X_train, y_train, X_test, y_test)"
   ]
  },
  {
   "cell_type": "markdown",
   "metadata": {},
   "source": [
    "## PLS"
   ]
  },
  {
   "cell_type": "code",
   "execution_count": 12,
   "metadata": {},
   "outputs": [],
   "source": [
    "dim_params = {'n_components' : n_components}"
   ]
  },
  {
   "cell_type": "code",
   "execution_count": 13,
   "metadata": {},
   "outputs": [
    {
     "name": "stderr",
     "output_type": "stream",
     "text": [
      "/pio/scratch/1/i272955/anaconda3/envs/master/lib/python3.7/site-packages/sklearn/cross_decomposition/pls_.py:291: UserWarning: Y residual constant at iteration 108\n",
      "  warnings.warn('Y residual constant at iteration %s' % k)\n"
     ]
    },
    {
     "name": "stdout",
     "output_type": "stream",
     "text": [
      "{'dim__n_components': 600, 'clf__solver': 'liblinear', 'clf__penalty': 'l1', 'clf__C': 0.3571428571428572}\n"
     ]
    },
    {
     "data": {
      "text/html": [
       "<div>\n",
       "<style scoped>\n",
       "    .dataframe tbody tr th:only-of-type {\n",
       "        vertical-align: middle;\n",
       "    }\n",
       "\n",
       "    .dataframe tbody tr th {\n",
       "        vertical-align: top;\n",
       "    }\n",
       "\n",
       "    .dataframe thead th {\n",
       "        text-align: right;\n",
       "    }\n",
       "</style>\n",
       "<table border=\"1\" class=\"dataframe\">\n",
       "  <thead>\n",
       "    <tr style=\"text-align: right;\">\n",
       "      <th></th>\n",
       "      <th>ROC AUC</th>\n",
       "      <th>Precision</th>\n",
       "      <th>Recall</th>\n",
       "      <th>F1</th>\n",
       "    </tr>\n",
       "  </thead>\n",
       "  <tbody>\n",
       "    <tr>\n",
       "      <th>train</th>\n",
       "      <td>1.000</td>\n",
       "      <td>1.000</td>\n",
       "      <td>1.000</td>\n",
       "      <td>1.000</td>\n",
       "    </tr>\n",
       "    <tr>\n",
       "      <th>test</th>\n",
       "      <td>0.818</td>\n",
       "      <td>0.667</td>\n",
       "      <td>0.750</td>\n",
       "      <td>0.706</td>\n",
       "    </tr>\n",
       "  </tbody>\n",
       "</table>\n",
       "</div>"
      ],
      "text/plain": [
       "       ROC AUC  Precision  Recall    F1\n",
       "train    1.000      1.000   1.000 1.000\n",
       "test     0.818      0.667   0.750 0.706"
      ]
     },
     "metadata": {},
     "output_type": "display_data"
    }
   ],
   "source": [
    "models_logit_pls = fit_dim_reduction_pipeline(PLSRegressionWrapper(), dim_params, X_train, y_train, standardizer=stubTransformer,\n",
    "                                             n_iter=n_iter, cv=cv, n_jobs=n_jobs, scoring=scoring)\n",
    "models_logit_pls = clf_print_scores(models_logit_pls, X_train, y_train, X_test, y_test)"
   ]
  },
  {
   "cell_type": "markdown",
   "metadata": {},
   "source": [
    "## [fDNN](https://www.nature.com/articles/s41598-018-34833-6) model"
   ]
  },
  {
   "cell_type": "code",
   "execution_count": 14,
   "metadata": {},
   "outputs": [],
   "source": [
    "clf_params = {'lr' : np.linspace(0.0001, 0.1, 50) , 'module__dropout': np.linspace(0.0, 0.4, 30), 'module__num_hidden0': [5, 10, 20, 50], \n",
    "              'module__num_hidden1': [5, 10, 20, 50], 'optimizer__weight_decay': [0.001, 0.01, 0.1, 1, 5, 10]}\n",
    "dim_params = {'n_components' : [100, 250, 500], 'transformer': [RandomForestClassifier(max_depth=5, min_samples_leaf=20, random_state=random_state),\n",
    "                                                               RandomLogisticsRegressions(penalty='l1', C=0.5, n_variables=500)]}\n",
    "\n",
    "early_stopping = EarlyStopping(scoring, patience=10, threshold_mode='abs', threshold=1e-3)"
   ]
  },
  {
   "cell_type": "code",
   "execution_count": 15,
   "metadata": {},
   "outputs": [
    {
     "name": "stderr",
     "output_type": "stream",
     "text": [
      "/pio/scratch/1/i272955/anaconda3/envs/master/lib/python3.7/site-packages/sklearn/externals/joblib/externals/loky/process_executor.py:706: UserWarning: A worker stopped while some jobs were given to the executor. This can be caused by a too short worker timeout or by a memory leak.\n",
      "  \"timeout or by a memory leak.\", UserWarning\n",
      "/pio/scratch/1/i272955/anaconda3/envs/master/lib/python3.7/site-packages/sklearn/metrics/classification.py:1143: UndefinedMetricWarning: Precision and F-score are ill-defined and being set to 0.0 due to no predicted samples.\n",
      "  'precision', 'predicted', average, warn_for)\n"
     ]
    },
    {
     "name": "stdout",
     "output_type": "stream",
     "text": [
      "{'dim__transformer': RandomForestClassifier(bootstrap=True, class_weight=None, criterion='gini',\n",
      "            max_depth=5, max_features='auto', max_leaf_nodes=None,\n",
      "            min_impurity_decrease=0.0, min_impurity_split=None,\n",
      "            min_samples_leaf=20, min_samples_split=2,\n",
      "            min_weight_fraction_leaf=0.0, n_estimators=250, n_jobs=None,\n",
      "            oob_score=False, random_state=42, verbose=0, warm_start=False), 'dim__n_components': 250, 'clf__optimizer__weight_decay': 5, 'clf__module__num_hidden1': 50, 'clf__module__num_hidden0': 20, 'clf__module__dropout': 0.013793103448275864, 'clf__lr': 0.014371428571428571}\n"
     ]
    },
    {
     "name": "stderr",
     "output_type": "stream",
     "text": [
      "/pio/scratch/1/i272955/anaconda3/envs/master/lib/python3.7/site-packages/sklearn/metrics/classification.py:1143: UndefinedMetricWarning: Precision and F-score are ill-defined and being set to 0.0 due to no predicted samples.\n",
      "  'precision', 'predicted', average, warn_for)\n"
     ]
    },
    {
     "data": {
      "text/html": [
       "<div>\n",
       "<style scoped>\n",
       "    .dataframe tbody tr th:only-of-type {\n",
       "        vertical-align: middle;\n",
       "    }\n",
       "\n",
       "    .dataframe tbody tr th {\n",
       "        vertical-align: top;\n",
       "    }\n",
       "\n",
       "    .dataframe thead th {\n",
       "        text-align: right;\n",
       "    }\n",
       "</style>\n",
       "<table border=\"1\" class=\"dataframe\">\n",
       "  <thead>\n",
       "    <tr style=\"text-align: right;\">\n",
       "      <th></th>\n",
       "      <th>ROC AUC</th>\n",
       "      <th>Precision</th>\n",
       "      <th>Recall</th>\n",
       "      <th>F1</th>\n",
       "    </tr>\n",
       "  </thead>\n",
       "  <tbody>\n",
       "    <tr>\n",
       "      <th>train</th>\n",
       "      <td>0.813</td>\n",
       "      <td>0.000</td>\n",
       "      <td>0.000</td>\n",
       "      <td>0.000</td>\n",
       "    </tr>\n",
       "    <tr>\n",
       "      <th>test</th>\n",
       "      <td>0.642</td>\n",
       "      <td>0.000</td>\n",
       "      <td>0.000</td>\n",
       "      <td>0.000</td>\n",
       "    </tr>\n",
       "  </tbody>\n",
       "</table>\n",
       "</div>"
      ],
      "text/plain": [
       "       ROC AUC  Precision  Recall    F1\n",
       "train    0.813      0.000   0.000 0.000\n",
       "test     0.642      0.000   0.000 0.000"
      ]
     },
     "metadata": {},
     "output_type": "display_data"
    }
   ],
   "source": [
    "representation_transformer = RepresentationTransformer(transformer=RandomForestClassifier())\n",
    "clf = NeuralNetClassifierWrapper(ClassifierModule, train_split=None, optimizer=torch.optim.Adam, callbacks=[skorch_scoring[scoring], early_stopping], \n",
    "                          max_epochs=1000, verbose=0)\n",
    "\n",
    "\n",
    "model_fdnn = fit_dim_reduction_pipeline(representation_transformer, dim_params, X_train, y_train, stubTransformer, clf, clf_params, \n",
    "                                       n_iter=n_iter, cv=cv, n_jobs=n_jobs, scoring=scoring)\n",
    "model_fdnn = clf_print_scores(model_fdnn, X_train , y_train, X_test , y_test)"
   ]
  }
 ],
 "metadata": {
  "kernelspec": {
   "display_name": "Python 3",
   "language": "python",
   "name": "python3"
  },
  "language_info": {
   "codemirror_mode": {
    "name": "ipython",
    "version": 3
   },
   "file_extension": ".py",
   "mimetype": "text/x-python",
   "name": "python",
   "nbconvert_exporter": "python",
   "pygments_lexer": "ipython3",
   "version": "3.7.3"
  }
 },
 "nbformat": 4,
 "nbformat_minor": 4
}
