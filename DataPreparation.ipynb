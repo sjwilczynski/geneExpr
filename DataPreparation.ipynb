{
 "cells": [
  {
   "cell_type": "code",
   "execution_count": 1,
   "metadata": {},
   "outputs": [
    {
     "name": "stdout",
     "output_type": "stream",
     "text": [
      "Populating the interactive namespace from numpy and matplotlib\n"
     ]
    }
   ],
   "source": [
    "%run functions.ipynb"
   ]
  },
  {
   "cell_type": "code",
   "execution_count": 2,
   "metadata": {},
   "outputs": [
    {
     "name": "stdout",
     "output_type": "stream",
     "text": [
      "(969,) (969, 12179)\n"
     ]
    }
   ],
   "source": [
    "labels = load_file('data/labels_for_microarray_data.csv')\n",
    "dataset = load_file('data/microarray_data.csv')[:, 1:].T\n",
    "print(labels.shape, dataset.shape)"
   ]
  },
  {
   "cell_type": "code",
   "execution_count": 3,
   "metadata": {},
   "outputs": [
    {
     "name": "stdout",
     "output_type": "stream",
     "text": [
      "Train and test sizes: (726, 12179) (243, 12179)\n",
      "(1, 0) labels count in train test: (289, 437) (104, 139)\n"
     ]
    }
   ],
   "source": [
    "X_train, X_test, y_train, y_test = train_test_split(dataset, labels, test_size=0.25, random_state = random_state)\n",
    "print(\"Train and test sizes: {} {}\".format(X_train.shape, X_test.shape))\n",
    "print(\"(1, 0) labels count in train test: {} {}\".format((np.count_nonzero(y_train==1), np.count_nonzero(y_train==0)), \n",
    "                                                        (np.count_nonzero(y_test==1), np.count_nonzero(y_test==0))))"
   ]
  },
  {
   "cell_type": "code",
   "execution_count": 4,
   "metadata": {},
   "outputs": [],
   "source": [
    "#Save splitted data for varclust\n",
    "def save_data(data, name):\n",
    "    np.savetxt(name, np.vstack((np.arange(data.shape[-1]), data)), delimiter=',', fmt='%.13f')\n",
    "\n",
    "def save_labels(data, name):\n",
    "    np.savetxt(name, np.vstack((np.arange(data.shape[-1]), data)), delimiter=',', fmt='%i')\n",
    "    \n",
    "save_data(X_train, \"data/microarray_train.csv\")\n",
    "save_labels(y_train, \"data/labels_train.csv\")\n",
    "save_data(X_test, \"data/microarray_test.csv\")\n",
    "save_labels(y_test,\"data/labels_test.csv\")"
   ]
  }
 ],
 "metadata": {
  "kernelspec": {
   "display_name": "Python 3",
   "language": "python",
   "name": "python3"
  },
  "language_info": {
   "codemirror_mode": {
    "name": "ipython",
    "version": 3
   },
   "file_extension": ".py",
   "mimetype": "text/x-python",
   "name": "python",
   "nbconvert_exporter": "python",
   "pygments_lexer": "ipython3",
   "version": "3.7.3"
  }
 },
 "nbformat": 4,
 "nbformat_minor": 2
}
