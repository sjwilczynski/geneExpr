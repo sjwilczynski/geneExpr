{
 "cells": [
  {
   "cell_type": "code",
   "execution_count": 1,
   "metadata": {
    "papermill": {
     "duration": 5.751659,
     "end_time": "2019-06-05T15:34:03.314953",
     "exception": false,
     "start_time": "2019-06-05T15:33:57.563294",
     "status": "completed"
    },
    "tags": []
   },
   "outputs": [
    {
     "name": "stdout",
     "output_type": "stream",
     "text": [
      "Populating the interactive namespace from numpy and matplotlib\n"
     ]
    }
   ],
   "source": [
    "%run functions.ipynb\n",
    "%load_ext autoreload\n",
    "%autoreload 2"
   ]
  },
  {
   "cell_type": "code",
   "execution_count": 2,
   "metadata": {
    "papermill": {
     "duration": 8.761142,
     "end_time": "2019-06-05T15:34:12.086409",
     "exception": false,
     "start_time": "2019-06-05T15:34:03.325267",
     "status": "completed"
    },
    "tags": []
   },
   "outputs": [
    {
     "name": "stdout",
     "output_type": "stream",
     "text": [
      "Train and test sizes: (726, 12179) (243, 12179)\n",
      "(1, 0) labels count in train test: (289, 437) (104, 139)\n"
     ]
    }
   ],
   "source": [
    "X_train, X_test, y_train, y_test = load_train_and_test_parts()\n",
    "print(\"Train and test sizes: {} {}\".format(X_train.shape, X_test.shape))\n",
    "print(\n",
    "    \"(1, 0) labels count in train test: {} {}\".format(\n",
    "        (np.count_nonzero(y_train == 1), np.count_nonzero(y_train == 0)),\n",
    "        (np.count_nonzero(y_test == 1), np.count_nonzero(y_test == 0)),\n",
    "    )\n",
    ")"
   ]
  },
  {
   "cell_type": "code",
   "execution_count": 3,
   "metadata": {
    "papermill": {
     "duration": 0.040089,
     "end_time": "2019-06-05T15:34:12.137011",
     "exception": false,
     "start_time": "2019-06-05T15:34:12.096922",
     "status": "completed"
    },
    "tags": [
     "parameters"
    ]
   },
   "outputs": [],
   "source": [
    "n_iter = 1\n",
    "cv = 4\n",
    "n_jobs = 3\n",
    "scoring = 'roc_auc'"
   ]
  },
  {
   "cell_type": "code",
   "execution_count": 4,
   "metadata": {
    "papermill": {
     "duration": 0.039023,
     "end_time": "2019-06-05T15:34:12.185540",
     "exception": false,
     "start_time": "2019-06-05T15:34:12.146517",
     "status": "completed"
    },
    "tags": [
     "injected-parameters"
    ]
   },
   "outputs": [],
   "source": [
    "# Parameters\n",
    "scoring = \"roc_auc\"\n",
    "cv = 4\n",
    "n_iter = 100\n",
    "n_jobs = 4\n"
   ]
  },
  {
   "cell_type": "code",
   "execution_count": 5,
   "metadata": {
    "papermill": {
     "duration": 0.038768,
     "end_time": "2019-06-05T15:34:12.233789",
     "exception": false,
     "start_time": "2019-06-05T15:34:12.195021",
     "status": "completed"
    },
    "tags": []
   },
   "outputs": [
    {
     "name": "stdout",
     "output_type": "stream",
     "text": [
      "n_iter: 100\n",
      "cv: 4\n",
      "n_jobs: 4\n",
      "scoring: roc_auc\n"
     ]
    }
   ],
   "source": [
    "print('n_iter: {}\\ncv: {}\\nn_jobs: {}\\nscoring: {}'.format(n_iter, cv, n_jobs, scoring))"
   ]
  },
  {
   "cell_type": "code",
   "execution_count": 6,
   "metadata": {
    "papermill": {
     "duration": 0.044812,
     "end_time": "2019-06-05T15:34:12.288842",
     "exception": false,
     "start_time": "2019-06-05T15:34:12.244030",
     "status": "completed"
    },
    "tags": []
   },
   "outputs": [],
   "source": [
    "class ClassifierModule(nn.Module):\n",
    "    def __init__(\n",
    "            self,\n",
    "            num_hidden0=10,\n",
    "            num_hidden1=10,\n",
    "            dropout=0.0\n",
    "    ):\n",
    "        super().__init__()\n",
    "        self.num_hidden0 = num_hidden0\n",
    "        self.num_hidden1 = num_hidden1\n",
    "        self.dropout = dropout\n",
    "\n",
    "        self.input_initialized = False\n",
    "        self.dense0 = None\n",
    "        self.dropout = nn.Dropout(dropout)\n",
    "        self.dense1 = nn.Linear(num_hidden0, num_hidden1)\n",
    "        self.output = nn.Linear(num_hidden1, 2)\n",
    "        \n",
    "\n",
    "    def forward(self, X, **kwargs):\n",
    "        \n",
    "        if not self.input_initialized:\n",
    "            self.dense0 = nn.Linear(X.shape[-1], self.num_hidden0)\n",
    "            self.input_initialized = True\n",
    "            \n",
    "        X = F.relu(self.dense0(X))\n",
    "        X = self.dropout(X)\n",
    "        X = F.relu(self.dense1(X))\n",
    "        X = F.softmax(self.output(X), dim=-1)\n",
    "        return X"
   ]
  },
  {
   "cell_type": "code",
   "execution_count": 7,
   "metadata": {
    "papermill": {
     "duration": 0.038598,
     "end_time": "2019-06-05T15:34:12.337558",
     "exception": false,
     "start_time": "2019-06-05T15:34:12.298960",
     "status": "completed"
    },
    "tags": []
   },
   "outputs": [],
   "source": [
    "early_stopping = EarlyStopping(scoring, patience=10, threshold_mode='abs', threshold=1e-3)\n",
    "y_train = np.array(y_train, dtype=np.int64)\n",
    "y_test = np.array(y_test, dtype=np.int64)"
   ]
  },
  {
   "cell_type": "markdown",
   "metadata": {
    "papermill": {
     "duration": 0.011405,
     "end_time": "2019-06-05T15:34:12.360631",
     "exception": false,
     "start_time": "2019-06-05T15:34:12.349226",
     "status": "completed"
    },
    "tags": []
   },
   "source": [
    "## [fDNN](https://www.nature.com/articles/s41598-018-34833-6) model"
   ]
  },
  {
   "cell_type": "code",
   "execution_count": 8,
   "metadata": {
    "papermill": {
     "duration": 0.041748,
     "end_time": "2019-06-05T15:34:12.412872",
     "exception": false,
     "start_time": "2019-06-05T15:34:12.371124",
     "status": "completed"
    },
    "tags": []
   },
   "outputs": [],
   "source": [
    "clf_params = {'lr' : np.linspace(0.0001, 0.1, 50) , 'module__dropout': np.linspace(0.0, 0.5, 10), 'module__num_hidden0': [5, 10, 20, 50], \n",
    "              'module__num_hidden1': [5, 10, 20, 50], 'optimizer__weight_decay': [0.001, 0.01, 0.1, 1, 5, 10]}\n",
    "dim_params = {'n_components' : [100, 250, 500]}"
   ]
  },
  {
   "cell_type": "markdown",
   "metadata": {
    "papermill": {
     "duration": 0.01152,
     "end_time": "2019-06-05T15:34:12.436065",
     "exception": false,
     "start_time": "2019-06-05T15:34:12.424545",
     "status": "completed"
    },
    "tags": []
   },
   "source": [
    "From skorch documentation:\n",
    "\n",
    "When you use the NeuralNetClassifier, the criterion is set to PyTorch NLLLoss by default. Furthermore, if you don’t change it loss to another criterion, NeuralNetClassifier assumes that the module returns probabilities and will automatically apply a logarithm on them (which is what NLLLoss expects).\n"
   ]
  },
  {
   "cell_type": "code",
   "execution_count": 9,
   "metadata": {
    "papermill": {
     "duration": 8358.847133,
     "end_time": "2019-06-05T17:53:31.294782",
     "exception": false,
     "start_time": "2019-06-05T15:34:12.447649",
     "status": "completed"
    },
    "tags": []
   },
   "outputs": [],
   "source": [
    "red_rf = RepresentationTransformer(RandomForestClassifier(max_depth=5, min_samples_leaf=20, random_state=random_state))\n",
    "clf = NeuralNetClassifier(ClassifierModule, train_split=None, optimizer=torch.optim.Adam, callbacks=[skorch_scoring[scoring], early_stopping], \n",
    "                          max_epochs=1000, verbose=0)\n",
    "models_rf = fit_dim_reduction_pipeline(red_rf, clf, dim_params, clf_params, X_train, y_train, \n",
    "                                       n_iter=n_iter, cv=cv, n_jobs=n_jobs, scoring=scoring)"
   ]
  },
  {
   "cell_type": "code",
   "execution_count": 10,
   "metadata": {
    "papermill": {
     "duration": 32.934611,
     "end_time": "2019-06-05T17:54:04.247526",
     "exception": false,
     "start_time": "2019-06-05T17:53:31.312915",
     "status": "completed"
    },
    "tags": []
   },
   "outputs": [
    {
     "name": "stdout",
     "output_type": "stream",
     "text": [
      "Pipeline(memory=None,\n",
      "     steps=[('dim', RepresentationTransformer(clf=RandomForestClassifier(bootstrap=True, class_weight=None, criterion='gini',\n",
      "            max_depth=5, max_features='auto', max_leaf_nodes=None,\n",
      "            min_impurity_decrease=0.0, min_impurity_split=None,\n",
      "            min_samples_leaf=20, min_samples_spl...ut_features=2, bias=True)\n",
      "    (dense0): Linear(in_features=100, out_features=50, bias=True)\n",
      "  ),\n",
      "))])\n"
     ]
    },
    {
     "data": {
      "text/html": [
       "<div>\n",
       "<style scoped>\n",
       "    .dataframe tbody tr th:only-of-type {\n",
       "        vertical-align: middle;\n",
       "    }\n",
       "\n",
       "    .dataframe tbody tr th {\n",
       "        vertical-align: top;\n",
       "    }\n",
       "\n",
       "    .dataframe thead th {\n",
       "        text-align: right;\n",
       "    }\n",
       "</style>\n",
       "<table border=\"1\" class=\"dataframe\">\n",
       "  <thead>\n",
       "    <tr style=\"text-align: right;\">\n",
       "      <th></th>\n",
       "      <th>ROC AUC</th>\n",
       "      <th>Precision</th>\n",
       "      <th>Recall</th>\n",
       "      <th>F1</th>\n",
       "    </tr>\n",
       "  </thead>\n",
       "  <tbody>\n",
       "    <tr>\n",
       "      <th>train</th>\n",
       "      <td>0.949</td>\n",
       "      <td>0.886</td>\n",
       "      <td>0.806</td>\n",
       "      <td>0.844</td>\n",
       "    </tr>\n",
       "    <tr>\n",
       "      <th>test</th>\n",
       "      <td>0.757</td>\n",
       "      <td>0.711</td>\n",
       "      <td>0.567</td>\n",
       "      <td>0.631</td>\n",
       "    </tr>\n",
       "  </tbody>\n",
       "</table>\n",
       "</div>"
      ],
      "text/plain": [
       "       ROC AUC  Precision  Recall    F1\n",
       "train    0.949      0.886   0.806 0.844\n",
       "test     0.757      0.711   0.567 0.631"
      ]
     },
     "metadata": {},
     "output_type": "display_data"
    },
    {
     "name": "stdout",
     "output_type": "stream",
     "text": [
      "<class 'skorch.classifier.NeuralNetClassifier'>[initialized](\n",
      "  module_=ClassifierModule(\n",
      "    (dropout): Dropout(p=0.1111111111111111)\n",
      "    (dense1): Linear(in_features=50, out_features=20, bias=True)\n",
      "    (output): Linear(in_features=20, out_features=2, bias=True)\n",
      "    (dense0): Linear(in_features=100, out_features=50, bias=True)\n",
      "  ),\n",
      ") Adam (\n",
      "Parameter Group 0\n",
      "    amsgrad: False\n",
      "    betas: (0.9, 0.999)\n",
      "    eps: 1e-08\n",
      "    lr: 0.07757346938775511\n",
      "    weight_decay: 0.001\n",
      ")\n"
     ]
    }
   ],
   "source": [
    "models_rf = clf_print_scores(models_rf, X_train, y_train, X_test, y_test)\n",
    "print(models_rf.best_estimator_.steps[1][1], models_rf.best_estimator_.steps[1][1].optimizer_)"
   ]
  },
  {
   "cell_type": "code",
   "execution_count": 11,
   "metadata": {
    "papermill": {
     "duration": 45577.375166,
     "end_time": "2019-06-06T06:33:41.647986",
     "exception": false,
     "start_time": "2019-06-05T17:54:04.272820",
     "status": "completed"
    },
    "tags": []
   },
   "outputs": [],
   "source": [
    "red_rlr = RepresentationTransformer(RandomLogisticsRegressions(penalty='l1', C=0.5, n_variables=500))\n",
    "clf = NeuralNetClassifier(ClassifierModule, train_split=None, optimizer=torch.optim.Adam, callbacks=[skorch_scoring[scoring], early_stopping], \n",
    "                          max_epochs=1000, verbose=0)\n",
    "models_rlr = fit_dim_reduction_pipeline(red_rlr, clf, dim_params, clf_params, X_train, y_train, \n",
    "                                        n_iter=n_iter, cv=cv, n_jobs=n_jobs, scoring=scoring)"
   ]
  },
  {
   "cell_type": "code",
   "execution_count": 12,
   "metadata": {
    "papermill": {
     "duration": 3.888758,
     "end_time": "2019-06-06T06:33:45.555382",
     "exception": false,
     "start_time": "2019-06-06T06:33:41.666624",
     "status": "completed"
    },
    "tags": []
   },
   "outputs": [
    {
     "name": "stdout",
     "output_type": "stream",
     "text": [
      "Pipeline(memory=None,\n",
      "     steps=[('dim', RepresentationTransformer(clf=RandomLogisticsRegressions(C=0.5, n_estimators=250, n_variables=500,\n",
      "              penalty='l1', solver='liblinear', tol=0.0001),\n",
      "             n_components=250, probabilistic=True)), ('clf', <class 'skorch.classifier.NeuralNetClassifier'>[initialized](\n",
      "  ...ut_features=2, bias=True)\n",
      "    (dense0): Linear(in_features=250, out_features=50, bias=True)\n",
      "  ),\n",
      "))])\n"
     ]
    },
    {
     "data": {
      "text/html": [
       "<div>\n",
       "<style scoped>\n",
       "    .dataframe tbody tr th:only-of-type {\n",
       "        vertical-align: middle;\n",
       "    }\n",
       "\n",
       "    .dataframe tbody tr th {\n",
       "        vertical-align: top;\n",
       "    }\n",
       "\n",
       "    .dataframe thead th {\n",
       "        text-align: right;\n",
       "    }\n",
       "</style>\n",
       "<table border=\"1\" class=\"dataframe\">\n",
       "  <thead>\n",
       "    <tr style=\"text-align: right;\">\n",
       "      <th></th>\n",
       "      <th>ROC AUC</th>\n",
       "      <th>Precision</th>\n",
       "      <th>Recall</th>\n",
       "      <th>F1</th>\n",
       "    </tr>\n",
       "  </thead>\n",
       "  <tbody>\n",
       "    <tr>\n",
       "      <th>train</th>\n",
       "      <td>0.956</td>\n",
       "      <td>0.883</td>\n",
       "      <td>0.865</td>\n",
       "      <td>0.874</td>\n",
       "    </tr>\n",
       "    <tr>\n",
       "      <th>test</th>\n",
       "      <td>0.824</td>\n",
       "      <td>0.701</td>\n",
       "      <td>0.721</td>\n",
       "      <td>0.711</td>\n",
       "    </tr>\n",
       "  </tbody>\n",
       "</table>\n",
       "</div>"
      ],
      "text/plain": [
       "       ROC AUC  Precision  Recall    F1\n",
       "train    0.956      0.883   0.865 0.874\n",
       "test     0.824      0.701   0.721 0.711"
      ]
     },
     "metadata": {},
     "output_type": "display_data"
    },
    {
     "name": "stdout",
     "output_type": "stream",
     "text": [
      "<class 'skorch.classifier.NeuralNetClassifier'>[initialized](\n",
      "  module_=ClassifierModule(\n",
      "    (dropout): Dropout(p=0.1111111111111111)\n",
      "    (dense1): Linear(in_features=50, out_features=20, bias=True)\n",
      "    (output): Linear(in_features=20, out_features=2, bias=True)\n",
      "    (dense0): Linear(in_features=100, out_features=50, bias=True)\n",
      "  ),\n",
      ") Adam (\n",
      "Parameter Group 0\n",
      "    amsgrad: False\n",
      "    betas: (0.9, 0.999)\n",
      "    eps: 1e-08\n",
      "    lr: 0.07757346938775511\n",
      "    weight_decay: 0.001\n",
      ")\n"
     ]
    }
   ],
   "source": [
    "models_rlr = clf_print_scores(models_rlr, X_train, y_train, X_test, y_test)\n",
    "print(models_rf.best_estimator_.steps[1][1], models_rf.best_estimator_.steps[1][1].optimizer_)"
   ]
  },
  {
   "cell_type": "code",
   "execution_count": 13,
   "metadata": {
    "papermill": {
     "duration": 92.470532,
     "end_time": "2019-06-06T06:35:18.038754",
     "exception": false,
     "start_time": "2019-06-06T06:33:45.568222",
     "status": "completed"
    },
    "tags": []
   },
   "outputs": [
    {
     "data": {
      "image/png": "[encoded data removed]",
      "text/plain": [
       "<Figure size 1152x576 with 2 Axes>"
      ]
     },
     "metadata": {
      "needs_background": "light"
     },
     "output_type": "display_data"
    }
   ],
   "source": [
    "clf_random_lrs = fit_clf_with_cross_val(RandomLogisticsRegressions(n_estimators=21, penalty='l1', C=0.3, n_variables=2000), X_train, y_train, X_test, y_test, title='Random lrs')"
   ]
  }
 ],
 "metadata": {
  "kernelspec": {
   "display_name": "Python 3",
   "language": "python",
   "name": "python3"
  },
  "language_info": {
   "codemirror_mode": {
    "name": "ipython",
    "version": 3
   },
   "file_extension": ".py",
   "mimetype": "text/x-python",
   "name": "python",
   "nbconvert_exporter": "python",
   "pygments_lexer": "ipython3",
   "version": "3.7.3"
  },
  "papermill": {
   "duration": 54083.975402,
   "end_time": "2019-06-06T06:35:19.331291",
   "environment_variables": {},
   "exception": null,
   "input_path": "fDNN.ipynb",
   "output_path": "./notebook_results/0506/fDNN_roc_auc_4_100.ipynb",
   "parameters": {
    "cv": 4,
    "n_iter": 100,
    "n_jobs": 4,
    "scoring": "roc_auc"
   },
   "start_time": "2019-06-05T15:33:55.355889",
   "version": "0.19.1"
  }
 },
 "nbformat": 4,
 "nbformat_minor": 2
}