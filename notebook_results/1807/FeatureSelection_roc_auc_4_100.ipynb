{
 "cells": [
  {
   "cell_type": "code",
   "execution_count": 1,
   "metadata": {
    "papermill": {
     "duration": 9.099031,
     "end_time": "2019-07-19T16:45:24.324768",
     "exception": false,
     "start_time": "2019-07-19T16:45:15.225737",
     "status": "completed"
    },
    "tags": []
   },
   "outputs": [
    {
     "name": "stdout",
     "output_type": "stream",
     "text": [
      "Populating the interactive namespace from numpy and matplotlib\n"
     ]
    }
   ],
   "source": [
    "%run functions.ipynb\n",
    "%load_ext autoreload\n",
    "%autoreload 2"
   ]
  },
  {
   "cell_type": "markdown",
   "metadata": {
    "papermill": {
     "duration": 0.01471,
     "end_time": "2019-07-19T16:45:24.354599",
     "exception": false,
     "start_time": "2019-07-19T16:45:24.339889",
     "status": "completed"
    },
    "tags": []
   },
   "source": [
    "## Feature selection based on SAM"
   ]
  },
  {
   "cell_type": "code",
   "execution_count": 2,
   "metadata": {
    "papermill": {
     "duration": 0.060569,
     "end_time": "2019-07-19T16:45:24.430012",
     "exception": false,
     "start_time": "2019-07-19T16:45:24.369443",
     "status": "completed"
    },
    "tags": [
     "parameters"
    ]
   },
   "outputs": [],
   "source": [
    "scoring = 'roc_auc'\n",
    "cv = 4\n",
    "cv_out = 5\n",
    "cv_in = 2\n",
    "n_iter = 100\n",
    "n_jobs = 10"
   ]
  },
  {
   "cell_type": "code",
   "execution_count": 3,
   "metadata": {
    "papermill": {
     "duration": 0.062255,
     "end_time": "2019-07-19T16:45:24.507159",
     "exception": false,
     "start_time": "2019-07-19T16:45:24.444904",
     "status": "completed"
    },
    "tags": [
     "injected-parameters"
    ]
   },
   "outputs": [],
   "source": [
    "# Parameters\n",
    "scoring = \"roc_auc\"\n",
    "cv = 4\n",
    "cv_out = 5\n",
    "cv_in = 2\n",
    "n_iter = 100\n",
    "n_jobs = 4\n"
   ]
  },
  {
   "cell_type": "code",
   "execution_count": 4,
   "metadata": {
    "papermill": {
     "duration": 14.799233,
     "end_time": "2019-07-19T16:45:39.331463",
     "exception": false,
     "start_time": "2019-07-19T16:45:24.532230",
     "status": "completed"
    },
    "tags": []
   },
   "outputs": [
    {
     "name": "stdout",
     "output_type": "stream",
     "text": [
      "Train and test sizes: (726, 12179) (243, 12179)\n",
      "(1, 0) labels count in train test: (289, 437) (104, 139)\n"
     ]
    }
   ],
   "source": [
    "X_train, X_test, y_train, y_test = load_train_and_test_parts()\n",
    "print(\"Train and test sizes: {} {}\".format(X_train.shape, X_test.shape))\n",
    "print(\"(1, 0) labels count in train test: {} {}\".format((np.count_nonzero(y_train==1), np.count_nonzero(y_train==0)), \n",
    "                                                        (np.count_nonzero(y_test==1), np.count_nonzero(y_test==0))))"
   ]
  },
  {
   "cell_type": "code",
   "execution_count": 5,
   "metadata": {
    "papermill": {
     "duration": 0.593565,
     "end_time": "2019-07-19T16:45:39.941314",
     "exception": false,
     "start_time": "2019-07-19T16:45:39.347749",
     "status": "completed"
    },
    "tags": []
   },
   "outputs": [],
   "source": [
    "sam_filenames = get_sam_result_files()"
   ]
  },
  {
   "cell_type": "code",
   "execution_count": 6,
   "metadata": {
    "papermill": {
     "duration": 859.451464,
     "end_time": "2019-07-19T16:59:59.407308",
     "exception": false,
     "start_time": "2019-07-19T16:45:39.955844",
     "status": "completed"
    },
    "tags": []
   },
   "outputs": [
    {
     "name": "stderr",
     "output_type": "stream",
     "text": [
      "/pio/scratch/1/i272955/anaconda3/envs/master/lib/python3.7/site-packages/sklearn/model_selection/_search.py:271: UserWarning: The total space of parameters 50 is smaller than n_iter=100. Running 50 iterations. For exhaustive searches, use GridSearchCV.\n",
      "  % (grid_size, self.n_iter, grid_size), UserWarning)\n"
     ]
    },
    {
     "name": "stderr",
     "output_type": "stream",
     "text": [
      "/pio/scratch/1/i272955/anaconda3/envs/master/lib/python3.7/site-packages/sklearn/model_selection/_search.py:271: UserWarning: The total space of parameters 50 is smaller than n_iter=100. Running 50 iterations. For exhaustive searches, use GridSearchCV.\n",
      "  % (grid_size, self.n_iter, grid_size), UserWarning)\n"
     ]
    },
    {
     "name": "stderr",
     "output_type": "stream",
     "text": [
      "/pio/scratch/1/i272955/anaconda3/envs/master/lib/python3.7/site-packages/sklearn/model_selection/_search.py:271: UserWarning: The total space of parameters 50 is smaller than n_iter=100. Running 50 iterations. For exhaustive searches, use GridSearchCV.\n",
      "  % (grid_size, self.n_iter, grid_size), UserWarning)\n"
     ]
    },
    {
     "name": "stderr",
     "output_type": "stream",
     "text": [
      "/pio/scratch/1/i272955/anaconda3/envs/master/lib/python3.7/site-packages/sklearn/model_selection/_search.py:271: UserWarning: The total space of parameters 50 is smaller than n_iter=100. Running 50 iterations. For exhaustive searches, use GridSearchCV.\n",
      "  % (grid_size, self.n_iter, grid_size), UserWarning)\n"
     ]
    },
    {
     "name": "stderr",
     "output_type": "stream",
     "text": [
      "/pio/scratch/1/i272955/anaconda3/envs/master/lib/python3.7/site-packages/sklearn/model_selection/_search.py:271: UserWarning: The total space of parameters 50 is smaller than n_iter=100. Running 50 iterations. For exhaustive searches, use GridSearchCV.\n",
      "  % (grid_size, self.n_iter, grid_size), UserWarning)\n"
     ]
    },
    {
     "name": "stderr",
     "output_type": "stream",
     "text": [
      "/pio/scratch/1/i272955/anaconda3/envs/master/lib/python3.7/site-packages/sklearn/model_selection/_search.py:271: UserWarning: The total space of parameters 50 is smaller than n_iter=100. Running 50 iterations. For exhaustive searches, use GridSearchCV.\n",
      "  % (grid_size, self.n_iter, grid_size), UserWarning)\n"
     ]
    },
    {
     "name": "stderr",
     "output_type": "stream",
     "text": [
      "/pio/scratch/1/i272955/anaconda3/envs/master/lib/python3.7/site-packages/sklearn/model_selection/_search.py:271: UserWarning: The total space of parameters 50 is smaller than n_iter=100. Running 50 iterations. For exhaustive searches, use GridSearchCV.\n",
      "  % (grid_size, self.n_iter, grid_size), UserWarning)\n"
     ]
    },
    {
     "name": "stderr",
     "output_type": "stream",
     "text": [
      "/pio/scratch/1/i272955/anaconda3/envs/master/lib/python3.7/site-packages/sklearn/model_selection/_search.py:271: UserWarning: The total space of parameters 50 is smaller than n_iter=100. Running 50 iterations. For exhaustive searches, use GridSearchCV.\n",
      "  % (grid_size, self.n_iter, grid_size), UserWarning)\n"
     ]
    },
    {
     "name": "stderr",
     "output_type": "stream",
     "text": [
      "/pio/scratch/1/i272955/anaconda3/envs/master/lib/python3.7/site-packages/sklearn/model_selection/_search.py:271: UserWarning: The total space of parameters 50 is smaller than n_iter=100. Running 50 iterations. For exhaustive searches, use GridSearchCV.\n",
      "  % (grid_size, self.n_iter, grid_size), UserWarning)\n"
     ]
    },
    {
     "name": "stderr",
     "output_type": "stream",
     "text": [
      "/pio/scratch/1/i272955/anaconda3/envs/master/lib/python3.7/site-packages/sklearn/model_selection/_search.py:271: UserWarning: The total space of parameters 50 is smaller than n_iter=100. Running 50 iterations. For exhaustive searches, use GridSearchCV.\n",
      "  % (grid_size, self.n_iter, grid_size), UserWarning)\n"
     ]
    },
    {
     "name": "stderr",
     "output_type": "stream",
     "text": [
      "/pio/scratch/1/i272955/anaconda3/envs/master/lib/python3.7/site-packages/sklearn/model_selection/_search.py:271: UserWarning: The total space of parameters 50 is smaller than n_iter=100. Running 50 iterations. For exhaustive searches, use GridSearchCV.\n",
      "  % (grid_size, self.n_iter, grid_size), UserWarning)\n"
     ]
    },
    {
     "name": "stderr",
     "output_type": "stream",
     "text": [
      "/pio/scratch/1/i272955/anaconda3/envs/master/lib/python3.7/site-packages/sklearn/model_selection/_search.py:271: UserWarning: The total space of parameters 50 is smaller than n_iter=100. Running 50 iterations. For exhaustive searches, use GridSearchCV.\n",
      "  % (grid_size, self.n_iter, grid_size), UserWarning)\n"
     ]
    },
    {
     "name": "stderr",
     "output_type": "stream",
     "text": [
      "/pio/scratch/1/i272955/anaconda3/envs/master/lib/python3.7/site-packages/sklearn/model_selection/_search.py:271: UserWarning: The total space of parameters 50 is smaller than n_iter=100. Running 50 iterations. For exhaustive searches, use GridSearchCV.\n",
      "  % (grid_size, self.n_iter, grid_size), UserWarning)\n"
     ]
    },
    {
     "name": "stderr",
     "output_type": "stream",
     "text": [
      "/pio/scratch/1/i272955/anaconda3/envs/master/lib/python3.7/site-packages/sklearn/model_selection/_search.py:271: UserWarning: The total space of parameters 50 is smaller than n_iter=100. Running 50 iterations. For exhaustive searches, use GridSearchCV.\n",
      "  % (grid_size, self.n_iter, grid_size), UserWarning)\n"
     ]
    },
    {
     "name": "stderr",
     "output_type": "stream",
     "text": [
      "/pio/scratch/1/i272955/anaconda3/envs/master/lib/python3.7/site-packages/sklearn/model_selection/_search.py:271: UserWarning: The total space of parameters 50 is smaller than n_iter=100. Running 50 iterations. For exhaustive searches, use GridSearchCV.\n",
      "  % (grid_size, self.n_iter, grid_size), UserWarning)\n"
     ]
    },
    {
     "name": "stderr",
     "output_type": "stream",
     "text": [
      "/pio/scratch/1/i272955/anaconda3/envs/master/lib/python3.7/site-packages/sklearn/model_selection/_search.py:271: UserWarning: The total space of parameters 50 is smaller than n_iter=100. Running 50 iterations. For exhaustive searches, use GridSearchCV.\n",
      "  % (grid_size, self.n_iter, grid_size), UserWarning)\n"
     ]
    },
    {
     "name": "stderr",
     "output_type": "stream",
     "text": [
      "/pio/scratch/1/i272955/anaconda3/envs/master/lib/python3.7/site-packages/sklearn/model_selection/_search.py:271: UserWarning: The total space of parameters 50 is smaller than n_iter=100. Running 50 iterations. For exhaustive searches, use GridSearchCV.\n",
      "  % (grid_size, self.n_iter, grid_size), UserWarning)\n"
     ]
    },
    {
     "name": "stderr",
     "output_type": "stream",
     "text": [
      "/pio/scratch/1/i272955/anaconda3/envs/master/lib/python3.7/site-packages/sklearn/model_selection/_search.py:271: UserWarning: The total space of parameters 50 is smaller than n_iter=100. Running 50 iterations. For exhaustive searches, use GridSearchCV.\n",
      "  % (grid_size, self.n_iter, grid_size), UserWarning)\n"
     ]
    },
    {
     "name": "stderr",
     "output_type": "stream",
     "text": [
      "/pio/scratch/1/i272955/anaconda3/envs/master/lib/python3.7/site-packages/sklearn/model_selection/_search.py:271: UserWarning: The total space of parameters 50 is smaller than n_iter=100. Running 50 iterations. For exhaustive searches, use GridSearchCV.\n",
      "  % (grid_size, self.n_iter, grid_size), UserWarning)\n"
     ]
    },
    {
     "name": "stderr",
     "output_type": "stream",
     "text": [
      "/pio/scratch/1/i272955/anaconda3/envs/master/lib/python3.7/site-packages/sklearn/model_selection/_search.py:271: UserWarning: The total space of parameters 50 is smaller than n_iter=100. Running 50 iterations. For exhaustive searches, use GridSearchCV.\n",
      "  % (grid_size, self.n_iter, grid_size), UserWarning)\n"
     ]
    },
    {
     "name": "stderr",
     "output_type": "stream",
     "text": [
      "/pio/scratch/1/i272955/anaconda3/envs/master/lib/python3.7/site-packages/sklearn/model_selection/_search.py:271: UserWarning: The total space of parameters 50 is smaller than n_iter=100. Running 50 iterations. For exhaustive searches, use GridSearchCV.\n",
      "  % (grid_size, self.n_iter, grid_size), UserWarning)\n"
     ]
    },
    {
     "name": "stderr",
     "output_type": "stream",
     "text": [
      "/pio/scratch/1/i272955/anaconda3/envs/master/lib/python3.7/site-packages/sklearn/model_selection/_search.py:271: UserWarning: The total space of parameters 50 is smaller than n_iter=100. Running 50 iterations. For exhaustive searches, use GridSearchCV.\n",
      "  % (grid_size, self.n_iter, grid_size), UserWarning)\n"
     ]
    }
   ],
   "source": [
    "sam_scores = {}\n",
    "for filename in sam_filenames:\n",
    "    models_logit_sam = fit_dim_reduction_pipeline(SAMSelection(filename=filename), {}, X_train, y_train, \n",
    "                                              n_iter=n_iter, cv=cv, n_jobs=n_jobs, scoring=scoring)\n",
    "    _, _, roc_auc = calculate_roc_score(models_logit_sam, X_test, y_test)\n",
    "    \n",
    "    start_index = filename.rfind('_') + 1\n",
    "    end_index = filename.rfind('.')\n",
    "    sam_scores[int(filename[start_index:end_index])] = roc_auc"
   ]
  },
  {
   "cell_type": "code",
   "execution_count": 7,
   "metadata": {
    "papermill": {
     "duration": 0.960794,
     "end_time": "2019-07-19T17:00:00.402451",
     "exception": false,
     "start_time": "2019-07-19T16:59:59.441657",
     "status": "completed"
    },
    "tags": []
   },
   "outputs": [
    {
     "data": {
      "image/png": "[encoded data removed]",
      "text/plain": [
       "<Figure size 864x720 with 1 Axes>"
      ]
     },
     "metadata": {
      "needs_background": "light"
     },
     "output_type": "display_data"
    }
   ],
   "source": [
    "sorted_keys = sorted(sam_scores.keys())\n",
    "key_names = [str(x) for x in sorted_keys]\n",
    "figure(figsize = (12,10))\n",
    "scatter(key_names, [sam_scores[key] for key in sorted_keys])\n",
    "scatter(['1266'], [sam_scores[1266]], c='r')\n",
    "yticks(np.arange(0.7, 0.82, 0.01))\n",
    "xlabel('Number of selected features')\n",
    "ylabel('ROC AUC')\n",
    "title('ROC AUC for LR fitted with different number of features selected by SAM')\n",
    "show()"
   ]
  },
  {
   "cell_type": "code",
   "execution_count": 8,
   "metadata": {
    "papermill": {
     "duration": 0.074652,
     "end_time": "2019-07-19T17:00:00.515109",
     "exception": false,
     "start_time": "2019-07-19T17:00:00.440457",
     "status": "completed"
    },
    "tags": []
   },
   "outputs": [
    {
     "name": "stdout",
     "output_type": "stream",
     "text": [
      "0.7470254565578307 0.7824432761483121 0.7906751521859435 0.7930962921970116\n",
      "['LRIG1', 'ABAT', 'EVL', 'ELOVL5', 'IL6ST', 'TBC1D9', 'KIF13B', 'SIK3', 'MYB', 'CST3', 'FOS', 'CIRBP', 'SCUBE2']\n"
     ]
    }
   ],
   "source": [
    "print(sam_scores[13], sam_scores[82], sam_scores[212], sam_scores[1266])\n",
    "significant_genes = np.genfromtxt(\"./../selection_results/sig_genes_13.csv\", skip_header=1, delimiter=',', dtype=np.str)\n",
    "significant_genes = [x.replace('\"', '') for x in significant_genes]\n",
    "print(significant_genes)"
   ]
  },
  {
   "cell_type": "markdown",
   "metadata": {
    "papermill": {
     "duration": 0.023311,
     "end_time": "2019-07-19T17:00:00.561433",
     "exception": false,
     "start_time": "2019-07-19T17:00:00.538122",
     "status": "completed"
    },
    "tags": []
   },
   "source": [
    "### RFE using SVC"
   ]
  },
  {
   "cell_type": "code",
   "execution_count": 9,
   "metadata": {
    "papermill": {
     "duration": 0.057776,
     "end_time": "2019-07-19T17:00:00.642794",
     "exception": false,
     "start_time": "2019-07-19T17:00:00.585018",
     "status": "completed"
    },
    "tags": []
   },
   "outputs": [],
   "source": [
    "ranking = np.load('./../selection_results/svc_rfe_ranking.npy', allow_pickle=False)\n",
    "ranking = ranking - 1"
   ]
  },
  {
   "cell_type": "code",
   "execution_count": 10,
   "metadata": {
    "papermill": {
     "duration": 0.077355,
     "end_time": "2019-07-19T17:00:00.758809",
     "exception": false,
     "start_time": "2019-07-19T17:00:00.681454",
     "status": "completed"
    },
    "tags": []
   },
   "outputs": [
    {
     "name": "stdout",
     "output_type": "stream",
     "text": [
      "[12178 12177 12176 ... 12052 12054 12056] 12178 0\n"
     ]
    }
   ],
   "source": [
    "print(ranking, max(ranking), min(ranking))"
   ]
  },
  {
   "cell_type": "code",
   "execution_count": 11,
   "metadata": {
    "papermill": {
     "duration": 3098.580991,
     "end_time": "2019-07-19T17:51:39.363659",
     "exception": false,
     "start_time": "2019-07-19T17:00:00.782668",
     "status": "completed"
    },
    "tags": []
   },
   "outputs": [],
   "source": [
    "ranked_feature_indices = [list(ranking).index(i) for i in np.arange(len(ranking))]\n",
    "svc_rfe_scores = {}\n",
    "for num_features in sorted_keys:\n",
    "    logistic_params = {'C' : np.linspace(0.01, 1, 100), 'penalty' : ['l1'], 'solver' : ['liblinear']}\n",
    "    logit_cv = RandomizedSearchCV(LogisticRegression(random_state=random_state), cv=cv, scoring=scoring, random_state=random_state,\n",
    "                              n_iter=n_iter, n_jobs=n_jobs, iid=False, param_distributions=logistic_params) \n",
    "\n",
    "    feature_indices = ranked_feature_indices[:num_features]\n",
    "    logit_cv = logit_cv.fit(X_train[:, feature_indices], y_train)\n",
    "    _, _, roc_auc = calculate_roc_score(logit_cv, X_test[:, feature_indices], y_test)\n",
    "    svc_rfe_scores[num_features] = roc_auc"
   ]
  },
  {
   "cell_type": "code",
   "execution_count": 12,
   "metadata": {
    "papermill": {
     "duration": 1.166188,
     "end_time": "2019-07-19T17:51:40.571264",
     "exception": false,
     "start_time": "2019-07-19T17:51:39.405076",
     "status": "completed"
    },
    "tags": []
   },
   "outputs": [
    {
     "data": {
      "image/png": "[encoded data removed]",
      "text/plain": [
       "<Figure size 864x720 with 1 Axes>"
      ]
     },
     "metadata": {
      "needs_background": "light"
     },
     "output_type": "display_data"
    },
    {
     "name": "stdout",
     "output_type": "stream",
     "text": [
      "['ABAT', 'ADM', 'KCNK3', 'CXCL12', 'CALD1', 'AGPAT5', 'FOS', 'RB1CC1', 'PTPRA', 'HSPB1', 'HSPA2', 'SCRN1', 'SEPT9']\n"
     ]
    }
   ],
   "source": [
    "figure(figsize = (12,10))\n",
    "scatter(key_names, [svc_rfe_scores[key] for key in sorted_keys])\n",
    "xlabel('Number of selected features')\n",
    "ylabel('ROC AUC')\n",
    "yticks(np.arange(0.7, 0.84, 0.01))\n",
    "title('ROC AUC for LR fitted with different number of features selected by RFE and SVC')\n",
    "show()\n",
    "significant_genes = [gene_names[i] for i in ranked_feature_indices[:13]]\n",
    "print(significant_genes)"
   ]
  },
  {
   "cell_type": "code",
   "execution_count": 13,
   "metadata": {
    "papermill": {
     "duration": 0.057126,
     "end_time": "2019-07-19T17:51:40.653320",
     "exception": false,
     "start_time": "2019-07-19T17:51:40.596194",
     "status": "completed"
    },
    "tags": []
   },
   "outputs": [
    {
     "name": "stdout",
     "output_type": "stream",
     "text": [
      "0.7610680686220255 0.8294133923630328 0.8207664637520753 0.826715550636414\n"
     ]
    }
   ],
   "source": [
    "print(svc_rfe_scores[13], svc_rfe_scores[105], svc_rfe_scores[212], svc_rfe_scores[1266])"
   ]
  },
  {
   "cell_type": "markdown",
   "metadata": {
    "papermill": {
     "duration": 0.025182,
     "end_time": "2019-07-19T17:51:40.703217",
     "exception": false,
     "start_time": "2019-07-19T17:51:40.678035",
     "status": "completed"
    },
    "tags": []
   },
   "source": [
    "### Number of common features selected"
   ]
  },
  {
   "cell_type": "code",
   "execution_count": 14,
   "metadata": {
    "papermill": {
     "duration": 0.056882,
     "end_time": "2019-07-19T17:51:40.785506",
     "exception": false,
     "start_time": "2019-07-19T17:51:40.728624",
     "status": "completed"
    },
    "tags": []
   },
   "outputs": [],
   "source": [
    "def intersection_count(k):\n",
    "    sam = SAMSelection(filename='sig_genes_{}.csv'.format(k))\n",
    "    sam.fit(X_train, y_train)\n",
    "    set1 = set(sam.significant_genes_indices)\n",
    "    set2 = set(ranked_feature_indices[:k])\n",
    "    return len(set1.intersection(set2))"
   ]
  },
  {
   "cell_type": "code",
   "execution_count": 15,
   "metadata": {
    "papermill": {
     "duration": 1.282437,
     "end_time": "2019-07-19T17:51:42.092510",
     "exception": false,
     "start_time": "2019-07-19T17:51:40.810073",
     "status": "completed"
    },
    "tags": []
   },
   "outputs": [
    {
     "name": "stdout",
     "output_type": "stream",
     "text": [
      "4 : 1\n",
      "7 : 1\n",
      "13 : 2\n",
      "19 : 2\n",
      "25 : 3\n",
      "42 : 7\n",
      "63 : 10\n",
      "82 : 13\n",
      "105 : 14\n",
      "140 : 17\n",
      "212 : 26\n",
      "293 : 31\n",
      "401 : 43\n",
      "526 : 64\n",
      "649 : 84\n"
     ]
    },
    {
     "name": "stdout",
     "output_type": "stream",
     "text": [
      "823 : 108\n",
      "1012 : 141\n"
     ]
    },
    {
     "name": "stdout",
     "output_type": "stream",
     "text": [
      "1266 : 198\n",
      "1575 : 287\n"
     ]
    },
    {
     "name": "stdout",
     "output_type": "stream",
     "text": [
      "1980 : 431\n",
      "2412 : 602\n"
     ]
    },
    {
     "name": "stdout",
     "output_type": "stream",
     "text": [
      "2975 : 874\n"
     ]
    }
   ],
   "source": [
    "for num_features in sorted_keys:\n",
    "    print(\"{} : {}\".format(num_features, intersection_count(num_features)))"
   ]
  },
  {
   "cell_type": "code",
   "execution_count": 16,
   "metadata": {
    "papermill": {
     "duration": 103313.636163,
     "end_time": "2019-07-20T22:33:35.755528",
     "exception": false,
     "start_time": "2019-07-19T17:51:42.119365",
     "status": "completed"
    },
    "tags": []
   },
   "outputs": [
    {
     "name": "stderr",
     "output_type": "stream",
     "text": [
      "/pio/scratch/1/i272955/anaconda3/envs/master/lib/python3.7/site-packages/sklearn/svm/base.py:931: ConvergenceWarning: Liblinear failed to converge, increase the number of iterations.\n",
      "  \"the number of iterations.\", ConvergenceWarning)\n"
     ]
    }
   ],
   "source": [
    "num_random = 30\n",
    "random_scores = {}\n",
    "for num_features in sorted_keys:\n",
    "    random_scores[num_features] = []\n",
    "    for _ in range(num_random):\n",
    "        ranking = np.arange(X_train.shape[1])\n",
    "        np.random.shuffle(ranking)\n",
    "        ranked_feature_indices = [list(ranking).index(i) for i in np.arange(len(ranking))]\n",
    "        \n",
    "        logistic_params = {'C' : np.linspace(0.01, 1, 100), 'penalty' : ['l1'], 'solver' : ['liblinear']}\n",
    "        logit_cv = RandomizedSearchCV(LogisticRegression(random_state=random_state), cv=cv, scoring=scoring, random_state=random_state,\n",
    "                                  n_iter=n_iter, n_jobs=n_jobs, iid=False, param_distributions=logistic_params) \n",
    "\n",
    "        feature_indices = ranked_feature_indices[:num_features]\n",
    "        logit_cv = logit_cv.fit(X_train[:, feature_indices], y_train)\n",
    "        _, _, roc_auc = calculate_roc_score(logit_cv, X_test[:, feature_indices], y_test)\n",
    "        random_scores[num_features] += [roc_auc]"
   ]
  },
  {
   "cell_type": "code",
   "execution_count": 17,
   "metadata": {
    "papermill": {
     "duration": 0.990284,
     "end_time": "2019-07-20T22:33:36.775027",
     "exception": false,
     "start_time": "2019-07-20T22:33:35.784743",
     "status": "completed"
    },
    "tags": []
   },
   "outputs": [
    {
     "data": {
      "image/png": "[encoded data removed]",
      "text/plain": [
       "<Figure size 864x720 with 1 Axes>"
      ]
     },
     "metadata": {
      "needs_background": "light"
     },
     "output_type": "display_data"
    }
   ],
   "source": [
    "figure(figsize = (12,10))\n",
    "stds = [np.std(random_scores[key]) for key in sorted_keys]\n",
    "means = [np.mean(random_scores[key]) for key in sorted_keys]\n",
    "errorbar(key_names, means, yerr=stds, linestyle='None', fmt='o', capsize=5, barsabove=False)\n",
    "xlabel('Number of selected features')\n",
    "ylabel('ROC AUC')\n",
    "title('ROC AUC for LR fitted with different number of randomly selected features')\n",
    "show()"
   ]
  },
  {
   "cell_type": "code",
   "execution_count": 18,
   "metadata": {
    "papermill": {
     "duration": 0.318301,
     "end_time": "2019-07-20T22:33:37.119049",
     "exception": false,
     "start_time": "2019-07-20T22:33:36.800748",
     "status": "completed"
    },
    "tags": []
   },
   "outputs": [
    {
     "data": {
      "image/png": "[encoded data removed]",
      "text/plain": [
       "<Figure size 864x720 with 1 Axes>"
      ]
     },
     "metadata": {
      "needs_background": "light"
     },
     "output_type": "display_data"
    }
   ],
   "source": [
    "figure(figsize = (12,10))\n",
    "scatter(key_names, [sam_scores[key] for key in sorted_keys], label='SAM')\n",
    "scatter(['1266'], [sam_scores[1266]], c='r', label='SAM (FDR = 0)')\n",
    "scatter(key_names, [svc_rfe_scores[key] for key in sorted_keys], label='RFE and SVC')\n",
    "errorbar(key_names, means, yerr=stds, linestyle='None', fmt='o', capsize=5, \n",
    "         barsabove=False, label='Random features', c='g')\n",
    "xlabel('Number of selected features')\n",
    "ylabel('ROC AUC')\n",
    "yticks(np.arange(0.5, 0.85, 0.02))\n",
    "legend(loc='lower right')\n",
    "title('Feature selection methods')\n",
    "show()"
   ]
  }
 ],
 "metadata": {
  "kernelspec": {
   "display_name": "Python 3",
   "language": "python",
   "name": "python3"
  },
  "language_info": {
   "codemirror_mode": {
    "name": "ipython",
    "version": 3
   },
   "file_extension": ".py",
   "mimetype": "text/x-python",
   "name": "python",
   "nbconvert_exporter": "python",
   "pygments_lexer": "ipython3",
   "version": "3.7.3"
  },
  "papermill": {
   "duration": 107326.927815,
   "end_time": "2019-07-20T22:33:40.934497",
   "environment_variables": {},
   "exception": null,
   "input_path": "FeatureSelection.ipynb",
   "output_path": "./../notebook_results/1807/FeatureSelection_roc_auc_4_100.ipynb",
   "parameters": {
    "cv": 4,
    "cv_in": 2,
    "cv_out": 5,
    "n_iter": 100,
    "n_jobs": 4,
    "scoring": "roc_auc"
   },
   "start_time": "2019-07-19T16:44:54.006682",
   "version": "0.19.1"
  }
 },
 "nbformat": 4,
 "nbformat_minor": 4
}