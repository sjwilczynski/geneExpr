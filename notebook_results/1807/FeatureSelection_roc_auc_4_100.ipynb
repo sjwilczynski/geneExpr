{
 "cells": [
  {
   "cell_type": "code",
   "execution_count": 1,
   "metadata": {
    "papermill": {
     "duration": 10.315652,
     "end_time": "2019-08-14T17:05:37.818906",
     "exception": false,
     "start_time": "2019-08-14T17:05:27.503254",
     "status": "completed"
    },
    "tags": []
   },
   "outputs": [
    {
     "name": "stdout",
     "output_type": "stream",
     "text": [
      "Populating the interactive namespace from numpy and matplotlib\n"
     ]
    }
   ],
   "source": [
    "%run functions.ipynb\n",
    "%load_ext autoreload\n",
    "%autoreload 2"
   ]
  },
  {
   "cell_type": "markdown",
   "metadata": {
    "papermill": {
     "duration": 0.01274,
     "end_time": "2019-08-14T17:05:37.844788",
     "exception": false,
     "start_time": "2019-08-14T17:05:37.832048",
     "status": "completed"
    },
    "tags": []
   },
   "source": [
    "## Feature selection based on SAM"
   ]
  },
  {
   "cell_type": "code",
   "execution_count": 2,
   "metadata": {
    "papermill": {
     "duration": 0.040458,
     "end_time": "2019-08-14T17:05:37.897615",
     "exception": false,
     "start_time": "2019-08-14T17:05:37.857157",
     "status": "completed"
    },
    "tags": [
     "parameters"
    ]
   },
   "outputs": [],
   "source": [
    "scoring = 'roc_auc'\n",
    "cv = 4\n",
    "cv_out = 5\n",
    "cv_in = 2\n",
    "n_iter = 100\n",
    "n_jobs = 10"
   ]
  },
  {
   "cell_type": "code",
   "execution_count": 3,
   "metadata": {
    "papermill": {
     "duration": 0.040624,
     "end_time": "2019-08-14T17:05:37.951348",
     "exception": false,
     "start_time": "2019-08-14T17:05:37.910724",
     "status": "completed"
    },
    "tags": [
     "injected-parameters"
    ]
   },
   "outputs": [],
   "source": [
    "# Parameters\n",
    "scoring = \"roc_auc\"\n",
    "cv = 4\n",
    "cv_out = 5\n",
    "cv_in = 2\n",
    "n_iter = 100\n",
    "n_jobs = 10\n"
   ]
  },
  {
   "cell_type": "code",
   "execution_count": 4,
   "metadata": {
    "papermill": {
     "duration": 8.689323,
     "end_time": "2019-08-14T17:05:46.653897",
     "exception": false,
     "start_time": "2019-08-14T17:05:37.964574",
     "status": "completed"
    },
    "tags": []
   },
   "outputs": [
    {
     "name": "stdout",
     "output_type": "stream",
     "text": [
      "Train and test sizes: (726, 12179) (243, 12179)\n",
      "(1, 0) labels count in train test: (289, 437) (104, 139)\n"
     ]
    }
   ],
   "source": [
    "X_train, X_test, y_train, y_test = load_train_and_test_parts()\n",
    "print(\"Train and test sizes: {} {}\".format(X_train.shape, X_test.shape))\n",
    "print(\"(1, 0) labels count in train test: {} {}\".format((np.count_nonzero(y_train==1), np.count_nonzero(y_train==0)), \n",
    "                                                        (np.count_nonzero(y_test==1), np.count_nonzero(y_test==0))))"
   ]
  },
  {
   "cell_type": "code",
   "execution_count": 5,
   "metadata": {
    "papermill": {
     "duration": 0.041827,
     "end_time": "2019-08-14T17:05:46.711146",
     "exception": false,
     "start_time": "2019-08-14T17:05:46.669319",
     "status": "completed"
    },
    "tags": []
   },
   "outputs": [],
   "source": [
    "sam_filenames = get_sam_result_files()"
   ]
  },
  {
   "cell_type": "code",
   "execution_count": 6,
   "metadata": {
    "papermill": {
     "duration": 1466.904719,
     "end_time": "2019-08-14T17:30:13.630041",
     "exception": false,
     "start_time": "2019-08-14T17:05:46.725322",
     "status": "completed"
    },
    "tags": []
   },
   "outputs": [
    {
     "name": "stderr",
     "output_type": "stream",
     "text": [
      "/pio/scratch/1/i272955/anaconda3/envs/master/lib/python3.7/site-packages/sklearn/model_selection/_search.py:271: UserWarning: The total space of parameters 50 is smaller than n_iter=100. Running 50 iterations. For exhaustive searches, use GridSearchCV.\n",
      "  % (grid_size, self.n_iter, grid_size), UserWarning)\n"
     ]
    },
    {
     "name": "stderr",
     "output_type": "stream",
     "text": [
      "/pio/scratch/1/i272955/anaconda3/envs/master/lib/python3.7/site-packages/sklearn/model_selection/_search.py:271: UserWarning: The total space of parameters 50 is smaller than n_iter=100. Running 50 iterations. For exhaustive searches, use GridSearchCV.\n",
      "  % (grid_size, self.n_iter, grid_size), UserWarning)\n"
     ]
    },
    {
     "name": "stderr",
     "output_type": "stream",
     "text": [
      "/pio/scratch/1/i272955/anaconda3/envs/master/lib/python3.7/site-packages/sklearn/model_selection/_search.py:271: UserWarning: The total space of parameters 50 is smaller than n_iter=100. Running 50 iterations. For exhaustive searches, use GridSearchCV.\n",
      "  % (grid_size, self.n_iter, grid_size), UserWarning)\n"
     ]
    },
    {
     "name": "stderr",
     "output_type": "stream",
     "text": [
      "/pio/scratch/1/i272955/anaconda3/envs/master/lib/python3.7/site-packages/sklearn/model_selection/_search.py:271: UserWarning: The total space of parameters 50 is smaller than n_iter=100. Running 50 iterations. For exhaustive searches, use GridSearchCV.\n",
      "  % (grid_size, self.n_iter, grid_size), UserWarning)\n"
     ]
    },
    {
     "name": "stderr",
     "output_type": "stream",
     "text": [
      "/pio/scratch/1/i272955/anaconda3/envs/master/lib/python3.7/site-packages/sklearn/model_selection/_search.py:271: UserWarning: The total space of parameters 50 is smaller than n_iter=100. Running 50 iterations. For exhaustive searches, use GridSearchCV.\n",
      "  % (grid_size, self.n_iter, grid_size), UserWarning)\n"
     ]
    },
    {
     "name": "stderr",
     "output_type": "stream",
     "text": [
      "/pio/scratch/1/i272955/anaconda3/envs/master/lib/python3.7/site-packages/sklearn/model_selection/_search.py:271: UserWarning: The total space of parameters 50 is smaller than n_iter=100. Running 50 iterations. For exhaustive searches, use GridSearchCV.\n",
      "  % (grid_size, self.n_iter, grid_size), UserWarning)\n"
     ]
    },
    {
     "name": "stderr",
     "output_type": "stream",
     "text": [
      "/pio/scratch/1/i272955/anaconda3/envs/master/lib/python3.7/site-packages/sklearn/model_selection/_search.py:271: UserWarning: The total space of parameters 50 is smaller than n_iter=100. Running 50 iterations. For exhaustive searches, use GridSearchCV.\n",
      "  % (grid_size, self.n_iter, grid_size), UserWarning)\n"
     ]
    },
    {
     "name": "stderr",
     "output_type": "stream",
     "text": [
      "/pio/scratch/1/i272955/anaconda3/envs/master/lib/python3.7/site-packages/sklearn/model_selection/_search.py:271: UserWarning: The total space of parameters 50 is smaller than n_iter=100. Running 50 iterations. For exhaustive searches, use GridSearchCV.\n",
      "  % (grid_size, self.n_iter, grid_size), UserWarning)\n"
     ]
    },
    {
     "name": "stderr",
     "output_type": "stream",
     "text": [
      "/pio/scratch/1/i272955/anaconda3/envs/master/lib/python3.7/site-packages/sklearn/model_selection/_search.py:271: UserWarning: The total space of parameters 50 is smaller than n_iter=100. Running 50 iterations. For exhaustive searches, use GridSearchCV.\n",
      "  % (grid_size, self.n_iter, grid_size), UserWarning)\n"
     ]
    },
    {
     "name": "stderr",
     "output_type": "stream",
     "text": [
      "/pio/scratch/1/i272955/anaconda3/envs/master/lib/python3.7/site-packages/sklearn/model_selection/_search.py:271: UserWarning: The total space of parameters 50 is smaller than n_iter=100. Running 50 iterations. For exhaustive searches, use GridSearchCV.\n",
      "  % (grid_size, self.n_iter, grid_size), UserWarning)\n"
     ]
    },
    {
     "name": "stderr",
     "output_type": "stream",
     "text": [
      "/pio/scratch/1/i272955/anaconda3/envs/master/lib/python3.7/site-packages/sklearn/model_selection/_search.py:271: UserWarning: The total space of parameters 50 is smaller than n_iter=100. Running 50 iterations. For exhaustive searches, use GridSearchCV.\n",
      "  % (grid_size, self.n_iter, grid_size), UserWarning)\n"
     ]
    },
    {
     "name": "stderr",
     "output_type": "stream",
     "text": [
      "/pio/scratch/1/i272955/anaconda3/envs/master/lib/python3.7/site-packages/sklearn/model_selection/_search.py:271: UserWarning: The total space of parameters 50 is smaller than n_iter=100. Running 50 iterations. For exhaustive searches, use GridSearchCV.\n",
      "  % (grid_size, self.n_iter, grid_size), UserWarning)\n"
     ]
    },
    {
     "name": "stderr",
     "output_type": "stream",
     "text": [
      "/pio/scratch/1/i272955/anaconda3/envs/master/lib/python3.7/site-packages/sklearn/model_selection/_search.py:271: UserWarning: The total space of parameters 50 is smaller than n_iter=100. Running 50 iterations. For exhaustive searches, use GridSearchCV.\n",
      "  % (grid_size, self.n_iter, grid_size), UserWarning)\n"
     ]
    },
    {
     "name": "stderr",
     "output_type": "stream",
     "text": [
      "/pio/scratch/1/i272955/anaconda3/envs/master/lib/python3.7/site-packages/sklearn/model_selection/_search.py:271: UserWarning: The total space of parameters 50 is smaller than n_iter=100. Running 50 iterations. For exhaustive searches, use GridSearchCV.\n",
      "  % (grid_size, self.n_iter, grid_size), UserWarning)\n"
     ]
    },
    {
     "name": "stderr",
     "output_type": "stream",
     "text": [
      "/pio/scratch/1/i272955/anaconda3/envs/master/lib/python3.7/site-packages/sklearn/model_selection/_search.py:271: UserWarning: The total space of parameters 50 is smaller than n_iter=100. Running 50 iterations. For exhaustive searches, use GridSearchCV.\n",
      "  % (grid_size, self.n_iter, grid_size), UserWarning)\n"
     ]
    },
    {
     "name": "stderr",
     "output_type": "stream",
     "text": [
      "/pio/scratch/1/i272955/anaconda3/envs/master/lib/python3.7/site-packages/sklearn/model_selection/_search.py:271: UserWarning: The total space of parameters 50 is smaller than n_iter=100. Running 50 iterations. For exhaustive searches, use GridSearchCV.\n",
      "  % (grid_size, self.n_iter, grid_size), UserWarning)\n"
     ]
    },
    {
     "name": "stderr",
     "output_type": "stream",
     "text": [
      "/pio/scratch/1/i272955/anaconda3/envs/master/lib/python3.7/site-packages/sklearn/model_selection/_search.py:271: UserWarning: The total space of parameters 50 is smaller than n_iter=100. Running 50 iterations. For exhaustive searches, use GridSearchCV.\n",
      "  % (grid_size, self.n_iter, grid_size), UserWarning)\n"
     ]
    },
    {
     "name": "stderr",
     "output_type": "stream",
     "text": [
      "/pio/scratch/1/i272955/anaconda3/envs/master/lib/python3.7/site-packages/sklearn/model_selection/_search.py:271: UserWarning: The total space of parameters 50 is smaller than n_iter=100. Running 50 iterations. For exhaustive searches, use GridSearchCV.\n",
      "  % (grid_size, self.n_iter, grid_size), UserWarning)\n"
     ]
    },
    {
     "name": "stderr",
     "output_type": "stream",
     "text": [
      "/pio/scratch/1/i272955/anaconda3/envs/master/lib/python3.7/site-packages/sklearn/model_selection/_search.py:271: UserWarning: The total space of parameters 50 is smaller than n_iter=100. Running 50 iterations. For exhaustive searches, use GridSearchCV.\n",
      "  % (grid_size, self.n_iter, grid_size), UserWarning)\n"
     ]
    },
    {
     "name": "stderr",
     "output_type": "stream",
     "text": [
      "/pio/scratch/1/i272955/anaconda3/envs/master/lib/python3.7/site-packages/sklearn/model_selection/_search.py:271: UserWarning: The total space of parameters 50 is smaller than n_iter=100. Running 50 iterations. For exhaustive searches, use GridSearchCV.\n",
      "  % (grid_size, self.n_iter, grid_size), UserWarning)\n"
     ]
    },
    {
     "name": "stderr",
     "output_type": "stream",
     "text": [
      "/pio/scratch/1/i272955/anaconda3/envs/master/lib/python3.7/site-packages/sklearn/model_selection/_search.py:271: UserWarning: The total space of parameters 50 is smaller than n_iter=100. Running 50 iterations. For exhaustive searches, use GridSearchCV.\n",
      "  % (grid_size, self.n_iter, grid_size), UserWarning)\n"
     ]
    },
    {
     "name": "stderr",
     "output_type": "stream",
     "text": [
      "/pio/scratch/1/i272955/anaconda3/envs/master/lib/python3.7/site-packages/sklearn/model_selection/_search.py:271: UserWarning: The total space of parameters 50 is smaller than n_iter=100. Running 50 iterations. For exhaustive searches, use GridSearchCV.\n",
      "  % (grid_size, self.n_iter, grid_size), UserWarning)\n"
     ]
    }
   ],
   "source": [
    "sam_scores = {}\n",
    "for filename in sam_filenames:\n",
    "    models_logit_sam = fit_dim_reduction_pipeline(SAMSelection(filename=filename), {}, X_train, y_train, \n",
    "                                              n_iter=n_iter, cv=cv, n_jobs=n_jobs, scoring=scoring)\n",
    "    _, _, roc_auc = calculate_roc_score(models_logit_sam, X_test, y_test)\n",
    "    \n",
    "    start_index = filename.rfind('_') + 1\n",
    "    end_index = filename.rfind('.')\n",
    "    sam_scores[int(filename[start_index:end_index])] = roc_auc"
   ]
  },
  {
   "cell_type": "code",
   "execution_count": 7,
   "metadata": {
    "papermill": {
     "duration": 0.704218,
     "end_time": "2019-08-14T17:30:14.368015",
     "exception": false,
     "start_time": "2019-08-14T17:30:13.663797",
     "status": "completed"
    },
    "tags": []
   },
   "outputs": [
    {
     "data": {
      "image/png": "[encoded data removed]",
      "text/plain": [
       "<Figure size 864x720 with 1 Axes>"
      ]
     },
     "metadata": {
      "needs_background": "light"
     },
     "output_type": "display_data"
    }
   ],
   "source": [
    "sorted_keys = sorted(sam_scores.keys())\n",
    "key_names = [str(x) for x in sorted_keys]\n",
    "figure(figsize = (12,10))\n",
    "scatter(key_names, [sam_scores[key] for key in sorted_keys])\n",
    "scatter(['1266'], [sam_scores[1266]], c='r')\n",
    "yticks(np.arange(0.7, 0.82, 0.01))\n",
    "xlabel('Number of selected features')\n",
    "ylabel('ROC AUC')\n",
    "title('ROC AUC for LR fitted with different number of features selected by SAM')\n",
    "show()"
   ]
  },
  {
   "cell_type": "code",
   "execution_count": 8,
   "metadata": {
    "papermill": {
     "duration": 0.053775,
     "end_time": "2019-08-14T17:30:14.443147",
     "exception": false,
     "start_time": "2019-08-14T17:30:14.389372",
     "status": "completed"
    },
    "tags": []
   },
   "outputs": [
    {
     "name": "stdout",
     "output_type": "stream",
     "text": [
      "0.7470254565578307 0.7824432761483121 0.7906751521859435 0.7930962921970116\n",
      "['LRIG1', 'ABAT', 'EVL', 'ELOVL5', 'IL6ST', 'TBC1D9', 'KIF13B', 'SIK3', 'MYB', 'CST3', 'FOS', 'CIRBP', 'SCUBE2']\n"
     ]
    }
   ],
   "source": [
    "print(sam_scores[13], sam_scores[82], sam_scores[212], sam_scores[1266])\n",
    "significant_genes = np.genfromtxt(\"./../selection_results/sig_genes_13.csv\", skip_header=1, delimiter=',', dtype=np.str)\n",
    "significant_genes = [x.replace('\"', '') for x in significant_genes]\n",
    "print(significant_genes)"
   ]
  },
  {
   "cell_type": "markdown",
   "metadata": {
    "papermill": {
     "duration": 0.020488,
     "end_time": "2019-08-14T17:30:14.487060",
     "exception": false,
     "start_time": "2019-08-14T17:30:14.466572",
     "status": "completed"
    },
    "tags": []
   },
   "source": [
    "### RFE using SVC"
   ]
  },
  {
   "cell_type": "code",
   "execution_count": 9,
   "metadata": {
    "papermill": {
     "duration": 0.052172,
     "end_time": "2019-08-14T17:30:14.560394",
     "exception": false,
     "start_time": "2019-08-14T17:30:14.508222",
     "status": "completed"
    },
    "tags": []
   },
   "outputs": [],
   "source": [
    "ranking = np.load('./../selection_results/svc_rfe_ranking.npy', allow_pickle=False)\n",
    "ranking = ranking - 1"
   ]
  },
  {
   "cell_type": "code",
   "execution_count": 10,
   "metadata": {
    "papermill": {
     "duration": 0.052414,
     "end_time": "2019-08-14T17:30:14.637032",
     "exception": false,
     "start_time": "2019-08-14T17:30:14.584618",
     "status": "completed"
    },
    "tags": []
   },
   "outputs": [
    {
     "name": "stdout",
     "output_type": "stream",
     "text": [
      "[12178 12177 12176 ... 12052 12054 12056] 12178 0\n"
     ]
    }
   ],
   "source": [
    "print(ranking, max(ranking), min(ranking))"
   ]
  },
  {
   "cell_type": "code",
   "execution_count": 11,
   "metadata": {
    "papermill": {
     "duration": 3681.445165,
     "end_time": "2019-08-14T18:31:36.103446",
     "exception": false,
     "start_time": "2019-08-14T17:30:14.658281",
     "status": "completed"
    },
    "tags": []
   },
   "outputs": [],
   "source": [
    "ranked_feature_indices = [list(ranking).index(i) for i in np.arange(len(ranking))]\n",
    "svc_rfe_scores = {}\n",
    "for num_features in sorted_keys:\n",
    "    logistic_params = {'C' : np.linspace(0.01, 1, 100), 'penalty' : ['l1'], 'solver' : ['liblinear']}\n",
    "    logit_cv = RandomizedSearchCV(LogisticRegression(random_state=random_state), cv=cv, scoring=scoring, random_state=random_state,\n",
    "                              n_iter=n_iter, n_jobs=n_jobs, iid=False, param_distributions=logistic_params) \n",
    "\n",
    "    feature_indices = ranked_feature_indices[:num_features]\n",
    "    logit_cv = logit_cv.fit(X_train[:, feature_indices], y_train)\n",
    "    _, _, roc_auc = calculate_roc_score(logit_cv, X_test[:, feature_indices], y_test)\n",
    "    svc_rfe_scores[num_features] = roc_auc"
   ]
  },
  {
   "cell_type": "code",
   "execution_count": 12,
   "metadata": {
    "papermill": {
     "duration": 0.725391,
     "end_time": "2019-08-14T18:31:36.868347",
     "exception": false,
     "start_time": "2019-08-14T18:31:36.142956",
     "status": "completed"
    },
    "tags": []
   },
   "outputs": [
    {
     "data": {
      "image/png": "[encoded data removed]",
      "text/plain": [
       "<Figure size 864x720 with 1 Axes>"
      ]
     },
     "metadata": {
      "needs_background": "light"
     },
     "output_type": "display_data"
    },
    {
     "name": "stdout",
     "output_type": "stream",
     "text": [
      "['ABAT', 'ADM', 'KCNK3', 'CXCL12', 'CALD1', 'AGPAT5', 'FOS', 'RB1CC1', 'PTPRA', 'HSPB1', 'HSPA2', 'SCRN1', 'SEPT9']\n"
     ]
    }
   ],
   "source": [
    "figure(figsize = (12,10))\n",
    "scatter(key_names, [svc_rfe_scores[key] for key in sorted_keys])\n",
    "xlabel('Number of selected features')\n",
    "ylabel('ROC AUC')\n",
    "yticks(np.arange(0.7, 0.84, 0.01))\n",
    "title('ROC AUC for LR fitted with different number of features selected by RFE and SVC')\n",
    "show()\n",
    "significant_genes = [gene_names[i] for i in ranked_feature_indices[:13]]\n",
    "print(significant_genes)"
   ]
  },
  {
   "cell_type": "code",
   "execution_count": 13,
   "metadata": {
    "papermill": {
     "duration": 0.051766,
     "end_time": "2019-08-14T18:31:36.942792",
     "exception": false,
     "start_time": "2019-08-14T18:31:36.891026",
     "status": "completed"
    },
    "tags": []
   },
   "outputs": [
    {
     "name": "stdout",
     "output_type": "stream",
     "text": [
      "0.7610680686220255 0.8294133923630328 0.8207664637520753 0.826715550636414\n"
     ]
    }
   ],
   "source": [
    "print(svc_rfe_scores[13], svc_rfe_scores[105], svc_rfe_scores[212], svc_rfe_scores[1266])"
   ]
  },
  {
   "cell_type": "markdown",
   "metadata": {
    "papermill": {
     "duration": 0.022955,
     "end_time": "2019-08-14T18:31:36.988873",
     "exception": false,
     "start_time": "2019-08-14T18:31:36.965918",
     "status": "completed"
    },
    "tags": []
   },
   "source": [
    "### Number of common features selected"
   ]
  },
  {
   "cell_type": "code",
   "execution_count": 14,
   "metadata": {
    "papermill": {
     "duration": 0.050791,
     "end_time": "2019-08-14T18:31:37.062495",
     "exception": false,
     "start_time": "2019-08-14T18:31:37.011704",
     "status": "completed"
    },
    "tags": []
   },
   "outputs": [],
   "source": [
    "def intersection_count(k):\n",
    "    sam = SAMSelection(filename='sig_genes_{}.csv'.format(k))\n",
    "    sam.fit(X_train, y_train)\n",
    "    set1 = set(sam.significant_genes_indices)\n",
    "    set2 = set(ranked_feature_indices[:k])\n",
    "    return len(set1.intersection(set2))"
   ]
  },
  {
   "cell_type": "code",
   "execution_count": 15,
   "metadata": {
    "papermill": {
     "duration": 1.148627,
     "end_time": "2019-08-14T18:31:38.234038",
     "exception": false,
     "start_time": "2019-08-14T18:31:37.085411",
     "status": "completed"
    },
    "tags": []
   },
   "outputs": [
    {
     "name": "stdout",
     "output_type": "stream",
     "text": [
      "4 : 1\n",
      "7 : 1\n",
      "13 : 2\n",
      "19 : 2\n"
     ]
    },
    {
     "name": "stdout",
     "output_type": "stream",
     "text": [
      "25 : 3\n",
      "42 : 7\n",
      "63 : 10\n",
      "82 : 13\n",
      "105 : 14\n",
      "140 : 17\n",
      "212 : 26\n",
      "293 : 31\n",
      "401 : 43\n",
      "526 : 64\n",
      "649 : 84\n"
     ]
    },
    {
     "name": "stdout",
     "output_type": "stream",
     "text": [
      "823 : 108\n",
      "1012 : 141\n",
      "1266 : 198\n"
     ]
    },
    {
     "name": "stdout",
     "output_type": "stream",
     "text": [
      "1575 : 287\n",
      "1980 : 431\n"
     ]
    },
    {
     "name": "stdout",
     "output_type": "stream",
     "text": [
      "2412 : 602\n"
     ]
    },
    {
     "name": "stdout",
     "output_type": "stream",
     "text": [
      "2975 : 874\n"
     ]
    }
   ],
   "source": [
    "for num_features in sorted_keys:\n",
    "    print(\"{} : {}\".format(num_features, intersection_count(num_features)))"
   ]
  },
  {
   "cell_type": "code",
   "execution_count": 16,
   "metadata": {
    "papermill": {
     "duration": 135212.155966,
     "end_time": "2019-08-16T08:05:10.414951",
     "exception": false,
     "start_time": "2019-08-14T18:31:38.258985",
     "status": "completed"
    },
    "tags": []
   },
   "outputs": [
    {
     "name": "stderr",
     "output_type": "stream",
     "text": [
      "/pio/scratch/1/i272955/anaconda3/envs/master/lib/python3.7/site-packages/sklearn/svm/base.py:931: ConvergenceWarning: Liblinear failed to converge, increase the number of iterations.\n",
      "  \"the number of iterations.\", ConvergenceWarning)\n"
     ]
    },
    {
     "name": "stderr",
     "output_type": "stream",
     "text": [
      "/pio/scratch/1/i272955/anaconda3/envs/master/lib/python3.7/site-packages/sklearn/svm/base.py:931: ConvergenceWarning: Liblinear failed to converge, increase the number of iterations.\n",
      "  \"the number of iterations.\", ConvergenceWarning)\n"
     ]
    },
    {
     "name": "stderr",
     "output_type": "stream",
     "text": [
      "/pio/scratch/1/i272955/anaconda3/envs/master/lib/python3.7/site-packages/sklearn/svm/base.py:931: ConvergenceWarning: Liblinear failed to converge, increase the number of iterations.\n",
      "  \"the number of iterations.\", ConvergenceWarning)\n"
     ]
    },
    {
     "name": "stderr",
     "output_type": "stream",
     "text": [
      "/pio/scratch/1/i272955/anaconda3/envs/master/lib/python3.7/site-packages/sklearn/svm/base.py:931: ConvergenceWarning: Liblinear failed to converge, increase the number of iterations.\n",
      "  \"the number of iterations.\", ConvergenceWarning)\n"
     ]
    }
   ],
   "source": [
    "num_random = 30\n",
    "random_scores = {}\n",
    "for num_features in sorted_keys:\n",
    "    random_scores[num_features] = []\n",
    "    for _ in range(num_random):\n",
    "        ranking = np.arange(X_train.shape[1])\n",
    "        np.random.shuffle(ranking)\n",
    "        ranked_feature_indices = [list(ranking).index(i) for i in np.arange(len(ranking))]\n",
    "        \n",
    "        logistic_params = {'C' : np.linspace(0.01, 1, 100), 'penalty' : ['l1'], 'solver' : ['liblinear']}\n",
    "        logit_cv = RandomizedSearchCV(LogisticRegression(random_state=random_state), cv=cv, scoring=scoring, random_state=random_state,\n",
    "                                  n_iter=n_iter, n_jobs=n_jobs, iid=False, param_distributions=logistic_params) \n",
    "\n",
    "        feature_indices = ranked_feature_indices[:num_features]\n",
    "        logit_cv = logit_cv.fit(X_train[:, feature_indices], y_train)\n",
    "        _, _, roc_auc = calculate_roc_score(logit_cv, X_test[:, feature_indices], y_test)\n",
    "        random_scores[num_features] += [roc_auc]"
   ]
  },
  {
   "cell_type": "code",
   "execution_count": 17,
   "metadata": {
    "papermill": {
     "duration": 0.708019,
     "end_time": "2019-08-16T08:05:11.169392",
     "exception": false,
     "start_time": "2019-08-16T08:05:10.461373",
     "status": "completed"
    },
    "tags": []
   },
   "outputs": [
    {
     "data": {
      "image/png": "[encoded data removed]",
      "text/plain": [
       "<Figure size 864x720 with 1 Axes>"
      ]
     },
     "metadata": {
      "needs_background": "light"
     },
     "output_type": "display_data"
    }
   ],
   "source": [
    "figure(figsize = (12,10))\n",
    "stds = [np.std(random_scores[key]) for key in sorted_keys]\n",
    "means = [np.mean(random_scores[key]) for key in sorted_keys]\n",
    "errorbar(key_names, means, yerr=stds, linestyle='None', fmt='o', capsize=5, barsabove=False)\n",
    "xlabel('Number of selected features')\n",
    "ylabel('ROC AUC')\n",
    "title('ROC AUC for LR fitted with different number of randomly selected features')\n",
    "show()"
   ]
  },
  {
   "cell_type": "code",
   "execution_count": 18,
   "metadata": {
    "papermill": {
     "duration": 0.304054,
     "end_time": "2019-08-16T08:05:11.499873",
     "exception": false,
     "start_time": "2019-08-16T08:05:11.195819",
     "status": "completed"
    },
    "tags": []
   },
   "outputs": [
    {
     "data": {
      "image/png": "[encoded data removed]",
      "text/plain": [
       "<Figure size 864x720 with 1 Axes>"
      ]
     },
     "metadata": {
      "needs_background": "light"
     },
     "output_type": "display_data"
    }
   ],
   "source": [
    "figure(figsize = (12,10))\n",
    "scatter(key_names, [sam_scores[key] for key in sorted_keys], label='SAM', marker='x')\n",
    "scatter(['1266'], [sam_scores[1266]], c='r', label='SAM (FDR = 0)', marker='x', s=75)\n",
    "scatter(key_names, [svc_rfe_scores[key] for key in sorted_keys], label='RFE and SVC', marker='v')\n",
    "errorbar(key_names, means, yerr=stds, linestyle='None', fmt='o', capsize=5, \n",
    "         barsabove=False, label='Random features', c='g')\n",
    "xlabel('Number of selected features')\n",
    "ylabel('ROC AUC')\n",
    "yticks(np.arange(0.5, 0.85, 0.02))\n",
    "legend(loc='lower right')\n",
    "title('Feature selection methods')\n",
    "show()"
   ]
  }
 ],
 "metadata": {
  "kernelspec": {
   "display_name": "Python 3",
   "language": "python",
   "name": "python3"
  },
  "language_info": {
   "codemirror_mode": {
    "name": "ipython",
    "version": 3
   },
   "file_extension": ".py",
   "mimetype": "text/x-python",
   "name": "python",
   "nbconvert_exporter": "python",
   "pygments_lexer": "ipython3",
   "version": "3.7.3"
  },
  "papermill": {
   "duration": 140388.026768,
   "end_time": "2019-08-16T08:05:13.280114",
   "environment_variables": {},
   "exception": null,
   "input_path": "FeatureSelection.ipynb",
   "output_path": "./../notebook_results/1807/FeatureSelection_roc_auc_4_100.ipynb",
   "parameters": {
    "cv": 4,
    "cv_in": 2,
    "cv_out": 5,
    "n_iter": 100,
    "n_jobs": 10,
    "scoring": "roc_auc"
   },
   "start_time": "2019-08-14T17:05:25.253346",
   "version": "0.19.1"
  }
 },
 "nbformat": 4,
 "nbformat_minor": 4
}