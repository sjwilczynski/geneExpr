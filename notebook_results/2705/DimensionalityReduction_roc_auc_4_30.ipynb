{
 "cells": [
  {
   "cell_type": "code",
   "execution_count": 1,
   "metadata": {
    "papermill": {
     "duration": 4.112787,
     "end_time": "2019-05-27T06:58:09.512683",
     "exception": false,
     "start_time": "2019-05-27T06:58:05.399896",
     "status": "completed"
    },
    "tags": []
   },
   "outputs": [
    {
     "name": "stdout",
     "output_type": "stream",
     "text": [
      "Populating the interactive namespace from numpy and matplotlib\n"
     ]
    }
   ],
   "source": [
    "%run functions.ipynb\n",
    "\n",
    "np.set_printoptions(precision=3)\n",
    "np.random.seed(42)\n",
    "\n",
    "%load_ext autoreload\n",
    "%autoreload 2"
   ]
  },
  {
   "cell_type": "code",
   "execution_count": 2,
   "metadata": {
    "papermill": {
     "duration": 61.692547,
     "end_time": "2019-05-27T06:59:11.243325",
     "exception": false,
     "start_time": "2019-05-27T06:58:09.550778",
     "status": "completed"
    },
    "tags": []
   },
   "outputs": [
    {
     "name": "stdout",
     "output_type": "stream",
     "text": [
      "Train and test sizes: (726, 12179) (243, 12179)\n",
      "(1, 0) labels count in train test: (289, 437) (104, 139)\n"
     ]
    }
   ],
   "source": [
    "X_train, X_test, y_train, y_test = load_train_and_test_parts()\n",
    "print(\"Train and test sizes: {} {}\".format(X_train.shape, X_test.shape))\n",
    "print(\n",
    "    \"(1, 0) labels count in train test: {} {}\".format(\n",
    "        (np.count_nonzero(y_train == 1), np.count_nonzero(y_train == 0)),\n",
    "        (np.count_nonzero(y_test == 1), np.count_nonzero(y_test == 0)),\n",
    "    )\n",
    ")\n",
    "standarizer = StandardScaler().fit(X_train)\n",
    "X_std_train = standarizer.transform(X_train)\n",
    "X_std_test = standarizer.transform(X_test)"
   ]
  },
  {
   "cell_type": "code",
   "execution_count": 3,
   "metadata": {
    "papermill": {
     "duration": 0.531249,
     "end_time": "2019-05-27T06:59:11.802977",
     "exception": false,
     "start_time": "2019-05-27T06:59:11.271728",
     "status": "completed"
    },
    "tags": [
     "parameters"
    ]
   },
   "outputs": [],
   "source": [
    "n_iter = 1\n",
    "cv = 4\n",
    "n_jobs = 3\n",
    "scoring = 'roc_auc'"
   ]
  },
  {
   "cell_type": "code",
   "execution_count": 4,
   "metadata": {
    "papermill": {
     "duration": 0.189796,
     "end_time": "2019-05-27T06:59:12.075874",
     "exception": false,
     "start_time": "2019-05-27T06:59:11.886078",
     "status": "completed"
    },
    "tags": [
     "injected-parameters"
    ]
   },
   "outputs": [],
   "source": [
    "# Parameters\n",
    "scoring = \"roc_auc\"\n",
    "cv = 4\n",
    "n_iter = 30\n",
    "n_jobs = 4\n"
   ]
  },
  {
   "cell_type": "code",
   "execution_count": 5,
   "metadata": {
    "papermill": {
     "duration": 0.134625,
     "end_time": "2019-05-27T06:59:12.253995",
     "exception": false,
     "start_time": "2019-05-27T06:59:12.119370",
     "status": "completed"
    },
    "tags": []
   },
   "outputs": [],
   "source": [
    "n_components = [50, 150, 300, 450, 500]\n",
    "logistic_params = {'C' : np.linspace(0.1, 1, 50), 'penalty' : ['l1'], 'solver' : ['liblinear']}\n",
    "tree_params = {'n_estimators' : [100, 250, 500, 750], 'max_depth': [4, 6, 8], 'min_samples_leaf' : [20, 30]}"
   ]
  },
  {
   "cell_type": "markdown",
   "metadata": {
    "papermill": {
     "duration": 0.024157,
     "end_time": "2019-05-27T06:59:12.303546",
     "exception": false,
     "start_time": "2019-05-27T06:59:12.279389",
     "status": "completed"
    },
    "tags": []
   },
   "source": [
    "# PCA"
   ]
  },
  {
   "cell_type": "code",
   "execution_count": 6,
   "metadata": {
    "papermill": {
     "duration": 0.14335,
     "end_time": "2019-05-27T06:59:12.502368",
     "exception": false,
     "start_time": "2019-05-27T06:59:12.359018",
     "status": "completed"
    },
    "tags": []
   },
   "outputs": [],
   "source": [
    "dim_params = {'n_components' : n_components}"
   ]
  },
  {
   "cell_type": "code",
   "execution_count": 7,
   "metadata": {
    "papermill": {
     "duration": 301.595974,
     "end_time": "2019-05-27T07:04:14.154278",
     "exception": false,
     "start_time": "2019-05-27T06:59:12.558304",
     "status": "completed"
    },
    "tags": []
   },
   "outputs": [
    {
     "name": "stderr",
     "output_type": "stream",
     "text": [
      "/pio/scratch/1/i272955/anaconda3/envs/master/lib/python3.7/site-packages/sklearn/externals/joblib/externals/loky/process_executor.py:706: UserWarning: A worker stopped while some jobs were given to the executor. This can be caused by a too short worker timeout or by a memory leak.\n",
      "  \"timeout or by a memory leak.\", UserWarning\n"
     ]
    },
    {
     "name": "stderr",
     "output_type": "stream",
     "text": [
      "/pio/scratch/1/i272955/anaconda3/envs/master/lib/python3.7/site-packages/sklearn/externals/joblib/externals/loky/process_executor.py:706: UserWarning: A worker stopped while some jobs were given to the executor. This can be caused by a too short worker timeout or by a memory leak.\n",
      "  \"timeout or by a memory leak.\", UserWarning\n"
     ]
    },
    {
     "name": "stderr",
     "output_type": "stream",
     "text": [
      "/pio/scratch/1/i272955/anaconda3/envs/master/lib/python3.7/site-packages/sklearn/externals/joblib/externals/loky/process_executor.py:706: UserWarning: A worker stopped while some jobs were given to the executor. This can be caused by a too short worker timeout or by a memory leak.\n",
      "  \"timeout or by a memory leak.\", UserWarning\n"
     ]
    },
    {
     "name": "stdout",
     "output_type": "stream",
     "text": [
      "Pipeline(memory=None,\n",
      "     steps=[('dim', PCA(copy=True, iterated_power='auto', n_components=500, random_state=None,\n",
      "  svd_solver='auto', tol=0.0, whiten=False)), ('clf', LogisticRegression(C=0.11836734693877551, class_weight=None, dual=False,\n",
      "          fit_intercept=True, intercept_scaling=1, max_iter=100,\n",
      "          multi_class='warn', n_jobs=None, penalty='l1', random_state=None,\n",
      "          solver='liblinear', tol=0.0001, verbose=0, warm_start=False))])\n"
     ]
    },
    {
     "data": {
      "text/html": [
       "<div>\n",
       "<style scoped>\n",
       "    .dataframe tbody tr th:only-of-type {\n",
       "        vertical-align: middle;\n",
       "    }\n",
       "\n",
       "    .dataframe tbody tr th {\n",
       "        vertical-align: top;\n",
       "    }\n",
       "\n",
       "    .dataframe thead th {\n",
       "        text-align: right;\n",
       "    }\n",
       "</style>\n",
       "<table border=\"1\" class=\"dataframe\">\n",
       "  <thead>\n",
       "    <tr style=\"text-align: right;\">\n",
       "      <th></th>\n",
       "      <th>ROC AUC</th>\n",
       "      <th>Precision</th>\n",
       "      <th>Recall</th>\n",
       "      <th>F1</th>\n",
       "    </tr>\n",
       "  </thead>\n",
       "  <tbody>\n",
       "    <tr>\n",
       "      <th>train</th>\n",
       "      <td>0.998</td>\n",
       "      <td>0.986</td>\n",
       "      <td>0.962</td>\n",
       "      <td>0.974</td>\n",
       "    </tr>\n",
       "    <tr>\n",
       "      <th>test</th>\n",
       "      <td>0.815</td>\n",
       "      <td>0.699</td>\n",
       "      <td>0.692</td>\n",
       "      <td>0.696</td>\n",
       "    </tr>\n",
       "  </tbody>\n",
       "</table>\n",
       "</div>"
      ],
      "text/plain": [
       "       ROC AUC  Precision  Recall    F1\n",
       "train    0.998      0.986   0.962 0.974\n",
       "test     0.815      0.699   0.692 0.696"
      ]
     },
     "metadata": {},
     "output_type": "display_data"
    }
   ],
   "source": [
    "models_logit_pca = fit_dim_reduction_pipeline(PCA(), LogisticRegression(), dim_params, logistic_params, X_std_train, y_train, \n",
    "                                              n_iter=n_iter, cv=cv, n_jobs=n_jobs, scoring=scoring)\n",
    "models_logit_pca = clf_print_scores(models_logit_pca, X_std_train, y_train, X_std_test, y_test)"
   ]
  },
  {
   "cell_type": "code",
   "execution_count": 8,
   "metadata": {
    "papermill": {
     "duration": 423.20329,
     "end_time": "2019-05-27T07:11:17.384089",
     "exception": false,
     "start_time": "2019-05-27T07:04:14.180799",
     "status": "completed"
    },
    "tags": []
   },
   "outputs": [
    {
     "name": "stderr",
     "output_type": "stream",
     "text": [
      "/pio/scratch/1/i272955/anaconda3/envs/master/lib/python3.7/site-packages/sklearn/externals/joblib/externals/loky/process_executor.py:706: UserWarning: A worker stopped while some jobs were given to the executor. This can be caused by a too short worker timeout or by a memory leak.\n",
      "  \"timeout or by a memory leak.\", UserWarning\n"
     ]
    },
    {
     "name": "stderr",
     "output_type": "stream",
     "text": [
      "/pio/scratch/1/i272955/anaconda3/envs/master/lib/python3.7/site-packages/sklearn/externals/joblib/externals/loky/process_executor.py:706: UserWarning: A worker stopped while some jobs were given to the executor. This can be caused by a too short worker timeout or by a memory leak.\n",
      "  \"timeout or by a memory leak.\", UserWarning\n"
     ]
    },
    {
     "name": "stderr",
     "output_type": "stream",
     "text": [
      "/pio/scratch/1/i272955/anaconda3/envs/master/lib/python3.7/site-packages/sklearn/externals/joblib/externals/loky/process_executor.py:706: UserWarning: A worker stopped while some jobs were given to the executor. This can be caused by a too short worker timeout or by a memory leak.\n",
      "  \"timeout or by a memory leak.\", UserWarning\n"
     ]
    },
    {
     "name": "stdout",
     "output_type": "stream",
     "text": [
      "Pipeline(memory=None,\n",
      "     steps=[('dim', PCA(copy=True, iterated_power='auto', n_components=50, random_state=None,\n",
      "  svd_solver='auto', tol=0.0, whiten=False)), ('clf', RandomForestClassifier(bootstrap=True, class_weight=None, criterion='gini',\n",
      "            max_depth=6, max_features='auto', max_leaf_nodes=None,\n",
      "            mi...obs=None,\n",
      "            oob_score=False, random_state=None, verbose=0,\n",
      "            warm_start=False))])\n"
     ]
    },
    {
     "data": {
      "text/html": [
       "<div>\n",
       "<style scoped>\n",
       "    .dataframe tbody tr th:only-of-type {\n",
       "        vertical-align: middle;\n",
       "    }\n",
       "\n",
       "    .dataframe tbody tr th {\n",
       "        vertical-align: top;\n",
       "    }\n",
       "\n",
       "    .dataframe thead th {\n",
       "        text-align: right;\n",
       "    }\n",
       "</style>\n",
       "<table border=\"1\" class=\"dataframe\">\n",
       "  <thead>\n",
       "    <tr style=\"text-align: right;\">\n",
       "      <th></th>\n",
       "      <th>ROC AUC</th>\n",
       "      <th>Precision</th>\n",
       "      <th>Recall</th>\n",
       "      <th>F1</th>\n",
       "    </tr>\n",
       "  </thead>\n",
       "  <tbody>\n",
       "    <tr>\n",
       "      <th>train</th>\n",
       "      <td>0.937</td>\n",
       "      <td>0.923</td>\n",
       "      <td>0.661</td>\n",
       "      <td>0.770</td>\n",
       "    </tr>\n",
       "    <tr>\n",
       "      <th>test</th>\n",
       "      <td>0.789</td>\n",
       "      <td>0.800</td>\n",
       "      <td>0.346</td>\n",
       "      <td>0.483</td>\n",
       "    </tr>\n",
       "  </tbody>\n",
       "</table>\n",
       "</div>"
      ],
      "text/plain": [
       "       ROC AUC  Precision  Recall    F1\n",
       "train    0.937      0.923   0.661 0.770\n",
       "test     0.789      0.800   0.346 0.483"
      ]
     },
     "metadata": {},
     "output_type": "display_data"
    }
   ],
   "source": [
    "models_tree_pca = fit_dim_reduction_pipeline(PCA(), RandomForestClassifier(), dim_params, tree_params, X_std_train, y_train, \n",
    "                                             n_iter=n_iter, cv=cv, n_jobs=n_jobs, scoring=scoring)\n",
    "models_tree_pca = clf_print_scores(models_tree_pca, X_std_train, y_train, X_std_test, y_test)"
   ]
  },
  {
   "cell_type": "markdown",
   "metadata": {
    "papermill": {
     "duration": 0.022752,
     "end_time": "2019-05-27T07:11:17.436494",
     "exception": false,
     "start_time": "2019-05-27T07:11:17.413742",
     "status": "completed"
    },
    "tags": []
   },
   "source": [
    "# MLCC"
   ]
  },
  {
   "cell_type": "code",
   "execution_count": 9,
   "metadata": {
    "papermill": {
     "duration": 9.785237,
     "end_time": "2019-05-27T07:11:27.244361",
     "exception": false,
     "start_time": "2019-05-27T07:11:17.459124",
     "status": "completed"
    },
    "tags": []
   },
   "outputs": [
    {
     "name": "stdout",
     "output_type": "stream",
     "text": [
      "['output500_8_40_30.RData', 'output500_1_40_30.RData', 'output50_4_40_30.RData', 'output50_8_40_30.RData', 'output50_50_40_30.RData', 'output100_8_40_30.RData', 'output250_1_40_30.RData', 'output150_8_40_30.RData', 'output25_50_40_30.RData', 'output100_4_40_30.RData', 'output10_8_40_30.RData', 'output75_4_40_30.RData', 'output20_4_40_30.RData', 'output20_8_40_30.RData', 'output200_8_40_30.RData']\n"
     ]
    }
   ],
   "source": [
    "mlcc_results = []\n",
    "filenames = []\n",
    "for filename in os.listdir('./mlcc_results/'):\n",
    "    if filename.endswith('.RData'):\n",
    "        mlcc_results.append(tuple(read_mlcc_result(filename, 726)))\n",
    "        filenames.append(filename)\n",
    "print(filenames)\n",
    "#segmentation, mBIC, dimensionalities = read_mlcc_result(100, 969)"
   ]
  },
  {
   "cell_type": "code",
   "execution_count": 10,
   "metadata": {
    "papermill": {
     "duration": 0.742746,
     "end_time": "2019-05-27T07:11:28.037654",
     "exception": false,
     "start_time": "2019-05-27T07:11:27.294908",
     "status": "completed"
    },
    "tags": []
   },
   "outputs": [
    {
     "data": {
      "image/png": "[encoded data removed]",
      "text/plain": [
       "<Figure size 432x288 with 1 Axes>"
      ]
     },
     "metadata": {
      "needs_background": "light"
     },
     "output_type": "display_data"
    },
    {
     "name": "stdout",
     "output_type": "stream",
     "text": [
      "Highest mBIC is from output25_50_40_30.RData\n"
     ]
    }
   ],
   "source": [
    "mBICs = list(map(lambda x : x[1][0], mlcc_results))\n",
    "plt.figure()\n",
    "plt.scatter(np.arange(len(mBICs)), mBICs)\n",
    "plt.show()\n",
    "max_index = np.argmax(mBICs)\n",
    "print('Highest mBIC is from {}'.format(filenames[max_index]))"
   ]
  },
  {
   "cell_type": "code",
   "execution_count": 11,
   "metadata": {
    "papermill": {
     "duration": 3.779898,
     "end_time": "2019-05-27T07:11:31.866847",
     "exception": false,
     "start_time": "2019-05-27T07:11:28.086949",
     "status": "completed"
    },
    "tags": []
   },
   "outputs": [
    {
     "name": "stdout",
     "output_type": "stream",
     "text": [
      "[16  4  4 ...  9  9  9] [ 6  7 13 35 42  9 36 25 13 17  9 40  6  4  4 26 42  4 12 16 12  7  6 12\n",
      "  4]\n",
      "25\n"
     ]
    }
   ],
   "source": [
    "segmentation = mlcc_results[max_index][0]\n",
    "dimensionalities = mlcc_results[max_index][2]\n",
    "print(segmentation, dimensionalities)\n",
    "print(len(dimensionalities))\n",
    "\n",
    "X_mlcc_train = apply_mlcc_dim_reduction(X_std_train, segmentation, dimensionalities)\n",
    "X_mlcc_test = apply_mlcc_dim_reduction(X_std_test, segmentation, dimensionalities)"
   ]
  },
  {
   "cell_type": "code",
   "execution_count": 12,
   "metadata": {
    "papermill": {
     "duration": 173.160626,
     "end_time": "2019-05-27T07:14:25.075169",
     "exception": false,
     "start_time": "2019-05-27T07:11:31.914543",
     "status": "completed"
    },
    "tags": []
   },
   "outputs": [
    {
     "name": "stdout",
     "output_type": "stream",
     "text": [
      "LogisticRegression(C=0.21020408163265308, class_weight=None, dual=False,\n",
      "          fit_intercept=True, intercept_scaling=1, max_iter=100,\n",
      "          multi_class='warn', n_jobs=None, penalty='l1', random_state=None,\n",
      "          solver='liblinear', tol=0.0001, verbose=0, warm_start=False)\n"
     ]
    },
    {
     "data": {
      "text/html": [
       "<div>\n",
       "<style scoped>\n",
       "    .dataframe tbody tr th:only-of-type {\n",
       "        vertical-align: middle;\n",
       "    }\n",
       "\n",
       "    .dataframe tbody tr th {\n",
       "        vertical-align: top;\n",
       "    }\n",
       "\n",
       "    .dataframe thead th {\n",
       "        text-align: right;\n",
       "    }\n",
       "</style>\n",
       "<table border=\"1\" class=\"dataframe\">\n",
       "  <thead>\n",
       "    <tr style=\"text-align: right;\">\n",
       "      <th></th>\n",
       "      <th>ROC AUC</th>\n",
       "      <th>Precision</th>\n",
       "      <th>Recall</th>\n",
       "      <th>F1</th>\n",
       "    </tr>\n",
       "  </thead>\n",
       "  <tbody>\n",
       "    <tr>\n",
       "      <th>train</th>\n",
       "      <td>0.967</td>\n",
       "      <td>0.918</td>\n",
       "      <td>0.886</td>\n",
       "      <td>0.901</td>\n",
       "    </tr>\n",
       "    <tr>\n",
       "      <th>test</th>\n",
       "      <td>0.613</td>\n",
       "      <td>0.524</td>\n",
       "      <td>0.529</td>\n",
       "      <td>0.526</td>\n",
       "    </tr>\n",
       "  </tbody>\n",
       "</table>\n",
       "</div>"
      ],
      "text/plain": [
       "       ROC AUC  Precision  Recall    F1\n",
       "train    0.967      0.918   0.886 0.901\n",
       "test     0.613      0.524   0.529 0.526"
      ]
     },
     "metadata": {},
     "output_type": "display_data"
    },
    {
     "name": "stderr",
     "output_type": "stream",
     "text": [
      "/pio/scratch/1/i272955/anaconda3/envs/master/lib/python3.7/site-packages/sklearn/model_selection/_search.py:271: UserWarning: The total space of parameters 24 is smaller than n_iter=30. Running 24 iterations. For exhaustive searches, use GridSearchCV.\n",
      "  % (grid_size, self.n_iter, grid_size), UserWarning)\n"
     ]
    },
    {
     "name": "stdout",
     "output_type": "stream",
     "text": [
      "RandomForestClassifier(bootstrap=True, class_weight=None, criterion='gini',\n",
      "            max_depth=6, max_features='auto', max_leaf_nodes=None,\n",
      "            min_impurity_decrease=0.0, min_impurity_split=None,\n",
      "            min_samples_leaf=20, min_samples_split=2,\n",
      "            min_weight_fraction_leaf=0.0, n_estimators=500, n_jobs=None,\n",
      "            oob_score=False, random_state=None, verbose=0,\n",
      "            warm_start=False)\n"
     ]
    },
    {
     "data": {
      "text/html": [
       "<div>\n",
       "<style scoped>\n",
       "    .dataframe tbody tr th:only-of-type {\n",
       "        vertical-align: middle;\n",
       "    }\n",
       "\n",
       "    .dataframe tbody tr th {\n",
       "        vertical-align: top;\n",
       "    }\n",
       "\n",
       "    .dataframe thead th {\n",
       "        text-align: right;\n",
       "    }\n",
       "</style>\n",
       "<table border=\"1\" class=\"dataframe\">\n",
       "  <thead>\n",
       "    <tr style=\"text-align: right;\">\n",
       "      <th></th>\n",
       "      <th>ROC AUC</th>\n",
       "      <th>Precision</th>\n",
       "      <th>Recall</th>\n",
       "      <th>F1</th>\n",
       "    </tr>\n",
       "  </thead>\n",
       "  <tbody>\n",
       "    <tr>\n",
       "      <th>train</th>\n",
       "      <td>0.945</td>\n",
       "      <td>0.919</td>\n",
       "      <td>0.751</td>\n",
       "      <td>0.827</td>\n",
       "    </tr>\n",
       "    <tr>\n",
       "      <th>test</th>\n",
       "      <td>0.720</td>\n",
       "      <td>0.762</td>\n",
       "      <td>0.308</td>\n",
       "      <td>0.438</td>\n",
       "    </tr>\n",
       "  </tbody>\n",
       "</table>\n",
       "</div>"
      ],
      "text/plain": [
       "       ROC AUC  Precision  Recall    F1\n",
       "train    0.945      0.919   0.751 0.827\n",
       "test     0.720      0.762   0.308 0.438"
      ]
     },
     "metadata": {},
     "output_type": "display_data"
    }
   ],
   "source": [
    "logit_cv = RandomizedSearchCV(LogisticRegression(), cv=cv, scoring=scoring, n_iter=n_iter, n_jobs=n_jobs, iid=False, param_distributions=logistic_params) \n",
    "tree_cv = RandomizedSearchCV(RandomForestClassifier(), cv=cv, scoring=scoring, n_iter=n_iter, n_jobs=n_jobs, iid=False, param_distributions=tree_params) \n",
    "\n",
    "clf_logit = fit_clf_print_scores(logit_cv, X_mlcc_train, y_train, X_mlcc_test, y_test)\n",
    "clf_forest = fit_clf_print_scores(tree_cv, X_mlcc_train, y_train, X_mlcc_test, y_test)"
   ]
  },
  {
   "cell_type": "markdown",
   "metadata": {
    "papermill": {
     "duration": 0.047964,
     "end_time": "2019-05-27T07:14:25.172088",
     "exception": false,
     "start_time": "2019-05-27T07:14:25.124124",
     "status": "completed"
    },
    "tags": []
   },
   "source": [
    "# SPCA"
   ]
  },
  {
   "cell_type": "code",
   "execution_count": 13,
   "metadata": {
    "papermill": {
     "duration": 0.583845,
     "end_time": "2019-05-27T07:14:25.805253",
     "exception": false,
     "start_time": "2019-05-27T07:14:25.221408",
     "status": "completed"
    },
    "tags": []
   },
   "outputs": [],
   "source": [
    "n_components = [50, 150, 300, 450, 600, 750, 1000]"
   ]
  },
  {
   "cell_type": "code",
   "execution_count": 14,
   "metadata": {
    "papermill": {
     "duration": 0.133909,
     "end_time": "2019-05-27T07:14:25.995974",
     "exception": false,
     "start_time": "2019-05-27T07:14:25.862065",
     "status": "completed"
    },
    "tags": []
   },
   "outputs": [],
   "source": [
    "dim_params = {'n_components' : n_components, 'threshold_val' : [0.01, 0.1, 0.5, 1, 3, 5, 10], 'threshold_mode': ['soft', 'hard', 'garrote'], \n",
    "              'max_iter': [25, 50, 100, 250]}"
   ]
  },
  {
   "cell_type": "code",
   "execution_count": 15,
   "metadata": {
    "papermill": {
     "duration": 9889.574259,
     "end_time": "2019-05-27T09:59:15.622452",
     "exception": false,
     "start_time": "2019-05-27T07:14:26.048193",
     "status": "completed"
    },
    "tags": []
   },
   "outputs": [
    {
     "name": "stdout",
     "output_type": "stream",
     "text": [
      "Pipeline(memory=None,\n",
      "     steps=[('dim', SPCWrapper(max_iter=25, n_components=750, threshold_mode='soft',\n",
      "      threshold_val=1)), ('clf', LogisticRegression(C=0.3387755102040817, class_weight=None, dual=False,\n",
      "          fit_intercept=True, intercept_scaling=1, max_iter=100,\n",
      "          multi_class='warn', n_jobs=None, penalty='l1', random_state=None,\n",
      "          solver='liblinear', tol=0.0001, verbose=0, warm_start=False))])\n"
     ]
    },
    {
     "data": {
      "text/html": [
       "<div>\n",
       "<style scoped>\n",
       "    .dataframe tbody tr th:only-of-type {\n",
       "        vertical-align: middle;\n",
       "    }\n",
       "\n",
       "    .dataframe tbody tr th {\n",
       "        vertical-align: top;\n",
       "    }\n",
       "\n",
       "    .dataframe thead th {\n",
       "        text-align: right;\n",
       "    }\n",
       "</style>\n",
       "<table border=\"1\" class=\"dataframe\">\n",
       "  <thead>\n",
       "    <tr style=\"text-align: right;\">\n",
       "      <th></th>\n",
       "      <th>ROC AUC</th>\n",
       "      <th>Precision</th>\n",
       "      <th>Recall</th>\n",
       "      <th>F1</th>\n",
       "    </tr>\n",
       "  </thead>\n",
       "  <tbody>\n",
       "    <tr>\n",
       "      <th>train</th>\n",
       "      <td>0.958</td>\n",
       "      <td>0.911</td>\n",
       "      <td>0.855</td>\n",
       "      <td>0.882</td>\n",
       "    </tr>\n",
       "    <tr>\n",
       "      <th>test</th>\n",
       "      <td>0.818</td>\n",
       "      <td>0.708</td>\n",
       "      <td>0.654</td>\n",
       "      <td>0.680</td>\n",
       "    </tr>\n",
       "  </tbody>\n",
       "</table>\n",
       "</div>"
      ],
      "text/plain": [
       "       ROC AUC  Precision  Recall    F1\n",
       "train    0.958      0.911   0.855 0.882\n",
       "test     0.818      0.708   0.654 0.680"
      ]
     },
     "metadata": {},
     "output_type": "display_data"
    }
   ],
   "source": [
    "models_logit_spca = fit_dim_reduction_pipeline(SPCWrapper(), LogisticRegression(), dim_params, logistic_params, X_std_train, y_train, \n",
    "                                               n_iter=n_iter, cv=cv, n_jobs=n_jobs, scoring=scoring)\n",
    "models_logit_spca = clf_print_scores(models_logit_spca, X_std_train, y_train, X_std_test, y_test)"
   ]
  },
  {
   "cell_type": "code",
   "execution_count": 16,
   "metadata": {
    "papermill": {
     "duration": 10934.968967,
     "end_time": "2019-05-27T13:01:30.649382",
     "exception": false,
     "start_time": "2019-05-27T09:59:15.680415",
     "status": "completed"
    },
    "tags": []
   },
   "outputs": [
    {
     "name": "stdout",
     "output_type": "stream",
     "text": [
      "Pipeline(memory=None,\n",
      "     steps=[('dim', SPCWrapper(max_iter=25, n_components=600, threshold_mode='hard',\n",
      "      threshold_val=3)), ('clf', RandomForestClassifier(bootstrap=True, class_weight=None, criterion='gini',\n",
      "            max_depth=4, max_features='auto', max_leaf_nodes=None,\n",
      "            min_impurity_decrease=0.0, min_i...obs=None,\n",
      "            oob_score=False, random_state=None, verbose=0,\n",
      "            warm_start=False))])\n"
     ]
    },
    {
     "data": {
      "text/html": [
       "<div>\n",
       "<style scoped>\n",
       "    .dataframe tbody tr th:only-of-type {\n",
       "        vertical-align: middle;\n",
       "    }\n",
       "\n",
       "    .dataframe tbody tr th {\n",
       "        vertical-align: top;\n",
       "    }\n",
       "\n",
       "    .dataframe thead th {\n",
       "        text-align: right;\n",
       "    }\n",
       "</style>\n",
       "<table border=\"1\" class=\"dataframe\">\n",
       "  <thead>\n",
       "    <tr style=\"text-align: right;\">\n",
       "      <th></th>\n",
       "      <th>ROC AUC</th>\n",
       "      <th>Precision</th>\n",
       "      <th>Recall</th>\n",
       "      <th>F1</th>\n",
       "    </tr>\n",
       "  </thead>\n",
       "  <tbody>\n",
       "    <tr>\n",
       "      <th>train</th>\n",
       "      <td>0.885</td>\n",
       "      <td>0.807</td>\n",
       "      <td>0.651</td>\n",
       "      <td>0.720</td>\n",
       "    </tr>\n",
       "    <tr>\n",
       "      <th>test</th>\n",
       "      <td>0.757</td>\n",
       "      <td>0.688</td>\n",
       "      <td>0.529</td>\n",
       "      <td>0.598</td>\n",
       "    </tr>\n",
       "  </tbody>\n",
       "</table>\n",
       "</div>"
      ],
      "text/plain": [
       "       ROC AUC  Precision  Recall    F1\n",
       "train    0.885      0.807   0.651 0.720\n",
       "test     0.757      0.688   0.529 0.598"
      ]
     },
     "metadata": {},
     "output_type": "display_data"
    }
   ],
   "source": [
    "models_tree_spca = fit_dim_reduction_pipeline(SPCWrapper(), RandomForestClassifier(), dim_params, tree_params, X_std_train, y_train, \n",
    "                                              n_iter=n_iter, cv=cv, n_jobs=n_jobs, scoring=scoring)\n",
    "models_tree_spca = clf_print_scores(models_tree_spca, X_std_train, y_train, X_std_test, y_test)"
   ]
  },
  {
   "cell_type": "markdown",
   "metadata": {
    "papermill": {
     "duration": 0.045695,
     "end_time": "2019-05-27T13:01:30.770634",
     "exception": false,
     "start_time": "2019-05-27T13:01:30.724939",
     "status": "completed"
    },
    "tags": []
   },
   "source": [
    "## PLS"
   ]
  },
  {
   "cell_type": "code",
   "execution_count": 17,
   "metadata": {
    "papermill": {
     "duration": 0.516714,
     "end_time": "2019-05-27T13:01:31.333328",
     "exception": false,
     "start_time": "2019-05-27T13:01:30.816614",
     "status": "completed"
    },
    "tags": []
   },
   "outputs": [],
   "source": [
    "dim_params = {'n_components' : n_components}"
   ]
  },
  {
   "cell_type": "code",
   "execution_count": 18,
   "metadata": {
    "papermill": {
     "duration": 766.951494,
     "end_time": "2019-05-27T13:14:18.332525",
     "exception": false,
     "start_time": "2019-05-27T13:01:31.381031",
     "status": "completed"
    },
    "tags": []
   },
   "outputs": [
    {
     "name": "stderr",
     "output_type": "stream",
     "text": [
      "/pio/scratch/1/i272955/anaconda3/envs/master/lib/python3.7/site-packages/sklearn/cross_decomposition/pls_.py:291: UserWarning: Y residual constant at iteration 108\n",
      "  warnings.warn('Y residual constant at iteration %s' % k)\n"
     ]
    },
    {
     "name": "stdout",
     "output_type": "stream",
     "text": [
      "Pipeline(memory=None,\n",
      "     steps=[('dim', PLSRegressionWrapper(copy=True, max_iter=500, n_components=750, scale=True,\n",
      "           tol=1e-06)), ('clf', LogisticRegression(C=0.8530612244897959, class_weight=None, dual=False,\n",
      "          fit_intercept=True, intercept_scaling=1, max_iter=100,\n",
      "          multi_class='warn', n_jobs=None, penalty='l1', random_state=None,\n",
      "          solver='liblinear', tol=0.0001, verbose=0, warm_start=False))])\n"
     ]
    },
    {
     "data": {
      "text/html": [
       "<div>\n",
       "<style scoped>\n",
       "    .dataframe tbody tr th:only-of-type {\n",
       "        vertical-align: middle;\n",
       "    }\n",
       "\n",
       "    .dataframe tbody tr th {\n",
       "        vertical-align: top;\n",
       "    }\n",
       "\n",
       "    .dataframe thead th {\n",
       "        text-align: right;\n",
       "    }\n",
       "</style>\n",
       "<table border=\"1\" class=\"dataframe\">\n",
       "  <thead>\n",
       "    <tr style=\"text-align: right;\">\n",
       "      <th></th>\n",
       "      <th>ROC AUC</th>\n",
       "      <th>Precision</th>\n",
       "      <th>Recall</th>\n",
       "      <th>F1</th>\n",
       "    </tr>\n",
       "  </thead>\n",
       "  <tbody>\n",
       "    <tr>\n",
       "      <th>train</th>\n",
       "      <td>1.000</td>\n",
       "      <td>1.000</td>\n",
       "      <td>1.000</td>\n",
       "      <td>1.000</td>\n",
       "    </tr>\n",
       "    <tr>\n",
       "      <th>test</th>\n",
       "      <td>0.818</td>\n",
       "      <td>0.664</td>\n",
       "      <td>0.740</td>\n",
       "      <td>0.700</td>\n",
       "    </tr>\n",
       "  </tbody>\n",
       "</table>\n",
       "</div>"
      ],
      "text/plain": [
       "       ROC AUC  Precision  Recall    F1\n",
       "train    1.000      1.000   1.000 1.000\n",
       "test     0.818      0.664   0.740 0.700"
      ]
     },
     "metadata": {},
     "output_type": "display_data"
    }
   ],
   "source": [
    "models_logit_pls = fit_dim_reduction_pipeline(PLSRegressionWrapper(), LogisticRegression(), dim_params, logistic_params, X_std_train, y_train, \n",
    "                                             n_iter=n_iter, cv=cv, n_jobs=n_jobs, scoring=scoring)\n",
    "models_logit_pls = clf_print_scores(models_logit_pls, X_std_train, y_train, X_std_test, y_test)"
   ]
  },
  {
   "cell_type": "code",
   "execution_count": 19,
   "metadata": {
    "papermill": {
     "duration": 798.11632,
     "end_time": "2019-05-27T13:27:36.510820",
     "exception": false,
     "start_time": "2019-05-27T13:14:18.394500",
     "status": "completed"
    },
    "tags": []
   },
   "outputs": [
    {
     "name": "stderr",
     "output_type": "stream",
     "text": [
      "/pio/scratch/1/i272955/anaconda3/envs/master/lib/python3.7/site-packages/sklearn/cross_decomposition/pls_.py:291: UserWarning: Y residual constant at iteration 108\n",
      "  warnings.warn('Y residual constant at iteration %s' % k)\n"
     ]
    },
    {
     "name": "stdout",
     "output_type": "stream",
     "text": [
      "Pipeline(memory=None,\n",
      "     steps=[('dim', PLSRegressionWrapper(copy=True, max_iter=500, n_components=300, scale=True,\n",
      "           tol=1e-06)), ('clf', RandomForestClassifier(bootstrap=True, class_weight=None, criterion='gini',\n",
      "            max_depth=8, max_features='auto', max_leaf_nodes=None,\n",
      "            min_impurity_decrease=...obs=None,\n",
      "            oob_score=False, random_state=None, verbose=0,\n",
      "            warm_start=False))])\n"
     ]
    },
    {
     "data": {
      "text/html": [
       "<div>\n",
       "<style scoped>\n",
       "    .dataframe tbody tr th:only-of-type {\n",
       "        vertical-align: middle;\n",
       "    }\n",
       "\n",
       "    .dataframe tbody tr th {\n",
       "        vertical-align: top;\n",
       "    }\n",
       "\n",
       "    .dataframe thead th {\n",
       "        text-align: right;\n",
       "    }\n",
       "</style>\n",
       "<table border=\"1\" class=\"dataframe\">\n",
       "  <thead>\n",
       "    <tr style=\"text-align: right;\">\n",
       "      <th></th>\n",
       "      <th>ROC AUC</th>\n",
       "      <th>Precision</th>\n",
       "      <th>Recall</th>\n",
       "      <th>F1</th>\n",
       "    </tr>\n",
       "  </thead>\n",
       "  <tbody>\n",
       "    <tr>\n",
       "      <th>train</th>\n",
       "      <td>1.000</td>\n",
       "      <td>1.000</td>\n",
       "      <td>0.955</td>\n",
       "      <td>0.977</td>\n",
       "    </tr>\n",
       "    <tr>\n",
       "      <th>test</th>\n",
       "      <td>0.828</td>\n",
       "      <td>0.875</td>\n",
       "      <td>0.269</td>\n",
       "      <td>0.412</td>\n",
       "    </tr>\n",
       "  </tbody>\n",
       "</table>\n",
       "</div>"
      ],
      "text/plain": [
       "       ROC AUC  Precision  Recall    F1\n",
       "train    1.000      1.000   0.955 0.977\n",
       "test     0.828      0.875   0.269 0.412"
      ]
     },
     "metadata": {},
     "output_type": "display_data"
    }
   ],
   "source": [
    "models_tree_pls = fit_dim_reduction_pipeline(PLSRegressionWrapper(), RandomForestClassifier(), dim_params, tree_params, X_std_train, y_train, \n",
    "                                             n_iter=n_iter, cv=cv, n_jobs=n_jobs, scoring=scoring)\n",
    "models_tree_pls = clf_print_scores(models_tree_pls, X_std_train, y_train, X_std_test, y_test)"
   ]
  }
 ],
 "metadata": {
  "kernelspec": {
   "display_name": "Python 3",
   "language": "python",
   "name": "python3"
  },
  "language_info": {
   "codemirror_mode": {
    "name": "ipython",
    "version": 3
   },
   "file_extension": ".py",
   "mimetype": "text/x-python",
   "name": "python",
   "nbconvert_exporter": "python",
   "pygments_lexer": "ipython3",
   "version": "3.7.3"
  },
  "papermill": {
   "duration": 23375.931495,
   "end_time": "2019-05-27T13:27:39.151302",
   "environment_variables": {},
   "exception": null,
   "input_path": "DimensionalityReduction.ipynb",
   "output_path": "./notebook_results/2705/DimensionalityReduction_roc_auc_4_30.ipynb",
   "parameters": {
    "cv": 4,
    "n_iter": 30,
    "n_jobs": 4,
    "scoring": "roc_auc"
   },
   "start_time": "2019-05-27T06:58:03.219807",
   "version": "0.19.1"
  }
 },
 "nbformat": 4,
 "nbformat_minor": 2
}