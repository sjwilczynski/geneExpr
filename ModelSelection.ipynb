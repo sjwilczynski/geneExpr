{
 "cells": [
  {
   "cell_type": "code",
   "execution_count": 1,
   "metadata": {},
   "outputs": [
    {
     "name": "stdout",
     "output_type": "stream",
     "text": [
      "Populating the interactive namespace from numpy and matplotlib\n"
     ]
    }
   ],
   "source": [
    "%run functions.ipynb\n",
    "%load_ext autoreload\n",
    "%autoreload 2"
   ]
  },
  {
   "cell_type": "code",
   "execution_count": 2,
   "metadata": {},
   "outputs": [
    {
     "name": "stdout",
     "output_type": "stream",
     "text": [
      "Train and test sizes: (726, 12179) (243, 12179)\n",
      "(1, 0) labels count in train test: (289, 437) (104, 139)\n"
     ]
    }
   ],
   "source": [
    "X_train, X_test, y_train, y_test = load_train_and_test_parts()\n",
    "print(\"Train and test sizes: {} {}\".format(X_train.shape, X_test.shape))\n",
    "print(\n",
    "    \"(1, 0) labels count in train test: {} {}\".format(\n",
    "        (np.count_nonzero(y_train == 1), np.count_nonzero(y_train == 0)),\n",
    "        (np.count_nonzero(y_test == 1), np.count_nonzero(y_test == 0)),\n",
    "    )\n",
    ")"
   ]
  },
  {
   "cell_type": "code",
   "execution_count": 3,
   "metadata": {
    "tags": [
     "parameters"
    ]
   },
   "outputs": [],
   "source": [
    "n_iter = 1\n",
    "cv_in = 2\n",
    "cv_out = 5\n",
    "scoring = 'roc_auc'"
   ]
  },
  {
   "cell_type": "code",
   "execution_count": null,
   "metadata": {},
   "outputs": [],
   "source": [
    "pca_pipeline, pca_params = get_dim_reduction_pipeline(PCA(random_state=random_state), {'n_components' : [50, 150, 200, 250]})\n",
    "mlcc_pipeline, mlcc_params = get_dim_reduction_pipeline(MLCCWrapper(), {})\n",
    "spca_pipeline, spca_params = get_dim_reduction_pipeline(SPCWrapper(), {'n_components' : [50, 150, 300, 450, 600, 750, 1000], \n",
    "                                                                       'threshold_val' : [0.01, 0.1, 0.5, 1, 3, 5, 10], \n",
    "                                                                       'threshold_mode': ['soft', 'hard', 'garrote'], \n",
    "                                                                       'max_iter': [25, 50, 100, 250]})\n",
    "pls_pipeline, pls_params = get_dim_reduction_pipeline(PLSRegressionWrapper(), {'n_components' : [50, 150, 300, 450, 600, 750, 1000]}, \n",
    "                                                      standardizer=stubTransformer)\n",
    "\n",
    "clf_params = {'lr' : np.linspace(0.0001, 0.1, 50) , 'module__dropout': np.linspace(0.0, 0.4, 30), 'module__num_hidden0': [5, 10, 20, 50], \n",
    "              'module__num_hidden1': [5, 10, 20, 50], 'optimizer__weight_decay': [0.001, 0.01, 0.1, 1, 5, 10]}\n",
    "dim_params = {'n_components' : [100, 250, 500], 'transformer': [RandomForestClassifier(max_depth=5, min_samples_leaf=20, random_state=random_state),\n",
    "                                                               RandomLogisticsRegressions(penalty='l1', C=0.5, n_variables=500)]}\n",
    "\n",
    "early_stopping = EarlyStopping(scoring, patience=10, threshold_mode='abs', threshold=1e-3)\n",
    "clf = NeuralNetClassifierWrapper(ClassifierModule, train_split=None, optimizer=torch.optim.Adam, callbacks=[skorch_scoring[scoring], early_stopping], \n",
    "                          max_epochs=1000, verbose=0)\n",
    "\n",
    "fdnn_pipeline, fdnn_params = get_dim_reduction_pipeline(RepresentationTransformer(transformer=RandomForestClassifier()), dim_params, \n",
    "                                                        standardizer=stubTransformer, clf=clf, clf_params=clf_params)\n"
   ]
  },
  {
   "cell_type": "code",
   "execution_count": null,
   "metadata": {},
   "outputs": [],
   "source": [
    "all_scores_names = ['roc_auc', 'precision', 'recall', 'f1']\n",
    "estimated_scores = {}\n",
    "randomized_cvs = {}\n",
    "models = {\n",
    "    'PCA': {\n",
    "         'model': pca_pipeline,\n",
    "         'params': pca_params\n",
    "    },\n",
    "    'SPCA': {\n",
    "         'model': spca_pipeline,\n",
    "         'params': spca_params\n",
    "    },\n",
    "    'MLCC': {\n",
    "         'model': mlcc_pipeline,\n",
    "         'params': mlcc_params\n",
    "    },\n",
    "    'PLS': {\n",
    "         'model': pls_pipeline,\n",
    "         'params': pls_params\n",
    "    },\n",
    "    'FDNN': {\n",
    "         'model': fdnn_pipeline,\n",
    "         'params': fdnn_params\n",
    "    },\n",
    "    'Nearest shrunken centroid': {\n",
    "        'model': NearestCentroidWrapper(),\n",
    "        'params': {'shrink_threshold' : np.linspace(0, 5, 50)}\n",
    "    },\n",
    "    'Logistic regression': {\n",
    "        'model': LogisticRegression(random_state=random_state),\n",
    "        'params': {'C' : np.linspace(0.01, 0.6, 50), 'penalty' : ['l1'], 'solver' : ['liblinear']}\n",
    "    },\n",
    "    'Regularized discriminant analysis': {\n",
    "        'model': LinearDiscriminantAnalysis(shrinkage='auto', solver='lsqr'),\n",
    "        'params': {}\n",
    "    },\n",
    "    'Random forest': {\n",
    "        'model': RandomForestClassifier(random_state=random_state),\n",
    "        'params': {'n_estimators' : [1000, 2500, 5000], 'max_depth': [4, 6, 8], 'min_samples_leaf' : [20, 30], \n",
    "               \"bootstrap\": [True, False], \"criterion\": [\"gini\", \"entropy\"]}\n",
    "    },\n",
    "    'Elastic net': {\n",
    "        'model': SGDClassifier(loss='log', penalty='elasticnet', max_iter=5000, tol=1e-3, random_state=random_state),\n",
    "        'params': {'l1_ratio' : np.linspace(0.001, 1, 50), 'alpha' : np.linspace(0.0001, 0.5, 100)}\n",
    "    },\n",
    "    'Linear SVM': {\n",
    "        'model': LinearSVC(penalty='l1', dual=False, max_iter=10000, random_state=random_state),\n",
    "        'params': {'C' : np.linspace(0.01, 0.6, 50)}\n",
    "    },\n",
    "    'Ada Boost': {\n",
    "        'model': AdaBoostClassifier(base_estimator= DecisionTreeClassifier(min_samples_leaf=10), random_state=random_state),\n",
    "        'params': {'n_estimators' : [100, 250, 500], \n",
    "              \"learning_rate\": [0.01, 0.1, 1, 10],\n",
    "              \"base_estimator__criterion\" : [\"gini\", \"entropy\"],\n",
    "              \"base_estimator__splitter\" :   [\"best\", \"random\"],\n",
    "              \"base_estimator__max_depth\": [1, 2, 4, 8, None], \n",
    "              \"base_estimator__min_samples_split\": [25, 50, 100] \n",
    "             }\n",
    "    },\n",
    "    'Random logistic regression': {\n",
    "        'model': RandomLogisticsRegressions(penalty='l1'),\n",
    "        'params': {'C' : np.linspace(0.1, 5, 50), 'n_estimators' : [100, 250, 500, 1000], 'n_variables' : [100, 250, 500, 1000]}\n",
    "    }\n",
    "}"
   ]
  },
  {
   "cell_type": "code",
   "execution_count": null,
   "metadata": {},
   "outputs": [],
   "source": [
    "for model_name, model_specification in models.items():\n",
    "    rcv = RandomizedSearchCV(estimator=model_specification['model'], param_distributions=model_specification['params'],\n",
    "                             cv=cv_in, scoring=scoring, n_iter=n_iter, iid=False, random_state=random_state)\n",
    "    randomized_cvs[model_name] = rcv"
   ]
  },
  {
   "cell_type": "code",
   "execution_count": null,
   "metadata": {},
   "outputs": [
    {
     "name": "stdout",
     "output_type": "stream",
     "text": [
      "Done for PCA\n",
      "Done for SPCA\n",
      "Done for MLCC\n"
     ]
    },
    {
     "name": "stderr",
     "output_type": "stream",
     "text": [
      "/pio/scratch/1/i272955/anaconda3/envs/master/lib/python3.7/site-packages/sklearn/cross_decomposition/pls_.py:291: UserWarning: Y residual constant at iteration 76\n",
      "  warnings.warn('Y residual constant at iteration %s' % k)\n",
      "/pio/scratch/1/i272955/anaconda3/envs/master/lib/python3.7/site-packages/sklearn/cross_decomposition/pls_.py:291: UserWarning: Y residual constant at iteration 63\n",
      "  warnings.warn('Y residual constant at iteration %s' % k)\n",
      "/pio/scratch/1/i272955/anaconda3/envs/master/lib/python3.7/site-packages/sklearn/cross_decomposition/pls_.py:291: UserWarning: Y residual constant at iteration 99\n",
      "  warnings.warn('Y residual constant at iteration %s' % k)\n",
      "/pio/scratch/1/i272955/anaconda3/envs/master/lib/python3.7/site-packages/sklearn/cross_decomposition/pls_.py:291: UserWarning: Y residual constant at iteration 76\n",
      "  warnings.warn('Y residual constant at iteration %s' % k)\n",
      "/pio/scratch/1/i272955/anaconda3/envs/master/lib/python3.7/site-packages/sklearn/cross_decomposition/pls_.py:291: UserWarning: Y residual constant at iteration 72\n",
      "  warnings.warn('Y residual constant at iteration %s' % k)\n",
      "/pio/scratch/1/i272955/anaconda3/envs/master/lib/python3.7/site-packages/sklearn/cross_decomposition/pls_.py:291: UserWarning: Y residual constant at iteration 100\n",
      "  warnings.warn('Y residual constant at iteration %s' % k)\n",
      "/pio/scratch/1/i272955/anaconda3/envs/master/lib/python3.7/site-packages/sklearn/cross_decomposition/pls_.py:291: UserWarning: Y residual constant at iteration 73\n",
      "  warnings.warn('Y residual constant at iteration %s' % k)\n",
      "/pio/scratch/1/i272955/anaconda3/envs/master/lib/python3.7/site-packages/sklearn/cross_decomposition/pls_.py:291: UserWarning: Y residual constant at iteration 65\n",
      "  warnings.warn('Y residual constant at iteration %s' % k)\n",
      "/pio/scratch/1/i272955/anaconda3/envs/master/lib/python3.7/site-packages/sklearn/cross_decomposition/pls_.py:291: UserWarning: Y residual constant at iteration 96\n",
      "  warnings.warn('Y residual constant at iteration %s' % k)\n",
      "/pio/scratch/1/i272955/anaconda3/envs/master/lib/python3.7/site-packages/sklearn/cross_decomposition/pls_.py:291: UserWarning: Y residual constant at iteration 73\n",
      "  warnings.warn('Y residual constant at iteration %s' % k)\n",
      "/pio/scratch/1/i272955/anaconda3/envs/master/lib/python3.7/site-packages/sklearn/cross_decomposition/pls_.py:291: UserWarning: Y residual constant at iteration 65\n",
      "  warnings.warn('Y residual constant at iteration %s' % k)\n",
      "/pio/scratch/1/i272955/anaconda3/envs/master/lib/python3.7/site-packages/sklearn/cross_decomposition/pls_.py:291: UserWarning: Y residual constant at iteration 95\n",
      "  warnings.warn('Y residual constant at iteration %s' % k)\n",
      "/pio/scratch/1/i272955/anaconda3/envs/master/lib/python3.7/site-packages/sklearn/cross_decomposition/pls_.py:291: UserWarning: Y residual constant at iteration 67\n",
      "  warnings.warn('Y residual constant at iteration %s' % k)\n",
      "/pio/scratch/1/i272955/anaconda3/envs/master/lib/python3.7/site-packages/sklearn/cross_decomposition/pls_.py:291: UserWarning: Y residual constant at iteration 65\n",
      "  warnings.warn('Y residual constant at iteration %s' % k)\n",
      "/pio/scratch/1/i272955/anaconda3/envs/master/lib/python3.7/site-packages/sklearn/cross_decomposition/pls_.py:291: UserWarning: Y residual constant at iteration 93\n",
      "  warnings.warn('Y residual constant at iteration %s' % k)\n"
     ]
    },
    {
     "name": "stdout",
     "output_type": "stream",
     "text": [
      "Done for PLS\n"
     ]
    },
    {
     "name": "stderr",
     "output_type": "stream",
     "text": [
      "/pio/scratch/1/i272955/anaconda3/envs/master/lib/python3.7/site-packages/sklearn/metrics/classification.py:1143: UndefinedMetricWarning: Precision is ill-defined and being set to 0.0 due to no predicted samples.\n",
      "  'precision', 'predicted', average, warn_for)\n",
      "/pio/scratch/1/i272955/anaconda3/envs/master/lib/python3.7/site-packages/sklearn/metrics/classification.py:1143: UndefinedMetricWarning: F-score is ill-defined and being set to 0.0 due to no predicted samples.\n",
      "  'precision', 'predicted', average, warn_for)\n",
      "/pio/scratch/1/i272955/anaconda3/envs/master/lib/python3.7/site-packages/sklearn/metrics/classification.py:1143: UndefinedMetricWarning: Precision is ill-defined and being set to 0.0 due to no predicted samples.\n",
      "  'precision', 'predicted', average, warn_for)\n",
      "/pio/scratch/1/i272955/anaconda3/envs/master/lib/python3.7/site-packages/sklearn/metrics/classification.py:1143: UndefinedMetricWarning: F-score is ill-defined and being set to 0.0 due to no predicted samples.\n",
      "  'precision', 'predicted', average, warn_for)\n",
      "/pio/scratch/1/i272955/anaconda3/envs/master/lib/python3.7/site-packages/sklearn/metrics/classification.py:1143: UndefinedMetricWarning: Precision is ill-defined and being set to 0.0 due to no predicted samples.\n",
      "  'precision', 'predicted', average, warn_for)\n",
      "/pio/scratch/1/i272955/anaconda3/envs/master/lib/python3.7/site-packages/sklearn/metrics/classification.py:1143: UndefinedMetricWarning: F-score is ill-defined and being set to 0.0 due to no predicted samples.\n",
      "  'precision', 'predicted', average, warn_for)\n",
      "/pio/scratch/1/i272955/anaconda3/envs/master/lib/python3.7/site-packages/sklearn/metrics/classification.py:1143: UndefinedMetricWarning: Precision is ill-defined and being set to 0.0 due to no predicted samples.\n",
      "  'precision', 'predicted', average, warn_for)\n",
      "/pio/scratch/1/i272955/anaconda3/envs/master/lib/python3.7/site-packages/sklearn/metrics/classification.py:1143: UndefinedMetricWarning: F-score is ill-defined and being set to 0.0 due to no predicted samples.\n",
      "  'precision', 'predicted', average, warn_for)\n",
      "/pio/scratch/1/i272955/anaconda3/envs/master/lib/python3.7/site-packages/sklearn/metrics/classification.py:1143: UndefinedMetricWarning: Precision is ill-defined and being set to 0.0 due to no predicted samples.\n",
      "  'precision', 'predicted', average, warn_for)\n",
      "/pio/scratch/1/i272955/anaconda3/envs/master/lib/python3.7/site-packages/sklearn/metrics/classification.py:1143: UndefinedMetricWarning: F-score is ill-defined and being set to 0.0 due to no predicted samples.\n",
      "  'precision', 'predicted', average, warn_for)\n",
      "/pio/scratch/1/i272955/anaconda3/envs/master/lib/python3.7/site-packages/sklearn/metrics/classification.py:1143: UndefinedMetricWarning: Precision is ill-defined and being set to 0.0 due to no predicted samples.\n",
      "  'precision', 'predicted', average, warn_for)\n",
      "/pio/scratch/1/i272955/anaconda3/envs/master/lib/python3.7/site-packages/sklearn/metrics/classification.py:1143: UndefinedMetricWarning: F-score is ill-defined and being set to 0.0 due to no predicted samples.\n",
      "  'precision', 'predicted', average, warn_for)\n",
      "/pio/scratch/1/i272955/anaconda3/envs/master/lib/python3.7/site-packages/sklearn/metrics/classification.py:1143: UndefinedMetricWarning: Precision is ill-defined and being set to 0.0 due to no predicted samples.\n",
      "  'precision', 'predicted', average, warn_for)\n",
      "/pio/scratch/1/i272955/anaconda3/envs/master/lib/python3.7/site-packages/sklearn/metrics/classification.py:1143: UndefinedMetricWarning: F-score is ill-defined and being set to 0.0 due to no predicted samples.\n",
      "  'precision', 'predicted', average, warn_for)\n",
      "/pio/scratch/1/i272955/anaconda3/envs/master/lib/python3.7/site-packages/sklearn/metrics/classification.py:1143: UndefinedMetricWarning: Precision is ill-defined and being set to 0.0 due to no predicted samples.\n",
      "  'precision', 'predicted', average, warn_for)\n",
      "/pio/scratch/1/i272955/anaconda3/envs/master/lib/python3.7/site-packages/sklearn/metrics/classification.py:1143: UndefinedMetricWarning: F-score is ill-defined and being set to 0.0 due to no predicted samples.\n",
      "  'precision', 'predicted', average, warn_for)\n",
      "/pio/scratch/1/i272955/anaconda3/envs/master/lib/python3.7/site-packages/sklearn/metrics/classification.py:1143: UndefinedMetricWarning: Precision is ill-defined and being set to 0.0 due to no predicted samples.\n",
      "  'precision', 'predicted', average, warn_for)\n",
      "/pio/scratch/1/i272955/anaconda3/envs/master/lib/python3.7/site-packages/sklearn/metrics/classification.py:1143: UndefinedMetricWarning: F-score is ill-defined and being set to 0.0 due to no predicted samples.\n",
      "  'precision', 'predicted', average, warn_for)\n",
      "/pio/scratch/1/i272955/anaconda3/envs/master/lib/python3.7/site-packages/sklearn/metrics/classification.py:1143: UndefinedMetricWarning: Precision is ill-defined and being set to 0.0 due to no predicted samples.\n",
      "  'precision', 'predicted', average, warn_for)\n",
      "/pio/scratch/1/i272955/anaconda3/envs/master/lib/python3.7/site-packages/sklearn/metrics/classification.py:1143: UndefinedMetricWarning: F-score is ill-defined and being set to 0.0 due to no predicted samples.\n",
      "  'precision', 'predicted', average, warn_for)\n"
     ]
    },
    {
     "name": "stdout",
     "output_type": "stream",
     "text": [
      "Done for FDNN\n",
      "Done for Nearest shrunken centroid\n",
      "Done for Logistic regression\n"
     ]
    }
   ],
   "source": [
    "for name, rcv in randomized_cvs.items():\n",
    "    nested_scores = cross_validate(rcv, X_train, y_train, scoring = all_scores_names, cv=cv_out)\n",
    "    estimated_scores[name] = {}\n",
    "    for score_name in all_scores_names:\n",
    "        estimated_scores[name][score_name] = {\n",
    "            'mean': np.mean(nested_scores['test_' + score_name]),\n",
    "            'std': np.std(nested_scores['test_' + score_name])\n",
    "        }\n",
    "    print('Done for ' + name)"
   ]
  },
  {
   "cell_type": "code",
   "execution_count": null,
   "metadata": {},
   "outputs": [],
   "source": [
    "print_summarized_scores(estimated_scores, models, latex=True)"
   ]
  }
 ],
 "metadata": {
  "kernelspec": {
   "display_name": "Python 3",
   "language": "python",
   "name": "python3"
  },
  "language_info": {
   "codemirror_mode": {
    "name": "ipython",
    "version": 3
   },
   "file_extension": ".py",
   "mimetype": "text/x-python",
   "name": "python",
   "nbconvert_exporter": "python",
   "pygments_lexer": "ipython3",
   "version": "3.7.3"
  }
 },
 "nbformat": 4,
 "nbformat_minor": 4
}
