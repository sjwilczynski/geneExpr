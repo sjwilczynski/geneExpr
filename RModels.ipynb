{
 "cells": [
  {
   "cell_type": "code",
   "execution_count": 1,
   "metadata": {},
   "outputs": [
    {
     "name": "stderr",
     "output_type": "stream",
     "text": [
      "\n",
      "Attaching package: ‘MLmetrics’\n",
      "\n",
      "The following object is masked from ‘package:base’:\n",
      "\n",
      "    Recall\n",
      "\n"
     ]
    }
   ],
   "source": [
    "library(devtools)\n",
    "library(glmSLOPE)\n",
    "library(MLmetrics)"
   ]
  },
  {
   "cell_type": "code",
   "execution_count": 2,
   "metadata": {},
   "outputs": [],
   "source": [
    "X_train <- as.matrix(read.csv(file=\"./data/microarray_train.csv\", header=TRUE, sep=\",\"))\n",
    "y_train <- as.vector(read.csv(file=\"./data/labels_train.csv\", header=TRUE, sep=\",\"))\n",
    "X_test <- as.matrix(read.csv(file=\"./data/microarray_test.csv\", header=TRUE, sep=\",\"))\n",
    "y_test <- as.vector(read.csv(file=\"./data/labels_test.csv\", header=TRUE, sep=\",\"))"
   ]
  },
  {
   "cell_type": "code",
   "execution_count": 3,
   "metadata": {},
   "outputs": [
    {
     "name": "stdout",
     "output_type": "stream",
     "text": [
      "[1] \"726 12179\"\n"
     ]
    }
   ],
   "source": [
    "n <- dim(X_train)[1]\n",
    "p <- dim(X_train)[2]\n",
    "print(paste(n, p))"
   ]
  },
  {
   "cell_type": "code",
   "execution_count": 7,
   "metadata": {},
   "outputs": [],
   "source": [
    "lambda <- 0.5*qnorm(1-seq(1:p)*0.1/p)*sqrt(n);\n",
    "y_train_new = rep(y_train, times=1)\n",
    "y_train_new[y_train == 0] = -1\n",
    "obj <- solve_slope(X_train, y_train_new, lambda=lambda, model='logistic');"
   ]
  },
  {
   "cell_type": "code",
   "execution_count": 8,
   "metadata": {},
   "outputs": [
    {
     "name": "stdout",
     "output_type": "stream",
     "text": [
      "[1] \"2019-05-16 14:38:38 CEST\"\n"
     ]
    }
   ],
   "source": [
    "print(Sys.time())\n",
    "# around one hour of calculations - not very efficient - also quite hard to tune lambdas "
   ]
  },
  {
   "cell_type": "code",
   "execution_count": 9,
   "metadata": {},
   "outputs": [],
   "source": [
    "weights <- obj$w\n",
    "\n",
    "#logistic regression\n",
    "predict_proba <- function(weights, X) {\n",
    "    as.vector(plogis(X %*% matrix(weights, nrow=length(weights), ncol=1)))\n",
    "}\n",
    "\n",
    "predict <- function(weights, X) {\n",
    "    probs <- predict_proba(weights, X)\n",
    "    round(probs)\n",
    "}"
   ]
  },
  {
   "cell_type": "code",
   "execution_count": 10,
   "metadata": {},
   "outputs": [
    {
     "name": "stdout",
     "output_type": "stream",
     "text": [
      "[1] \"AUC on train set 0.640664961636829 Accuracy on train set 0.68732782369146\"\n",
      "[1] \"AUC on test set 0.634788323187604 Accuracy on test set 0.666666666666667\"\n"
     ]
    }
   ],
   "source": [
    "predicted_probs_train <- predict(weights, X_train)\n",
    "predicted_probs_test <- predict(weights, X_test)\n",
    "\n",
    "predicted_train <- round(predicted_probs_train)\n",
    "predicted_test <- round(predicted_probs_test)\n",
    "\n",
    "auc_train = AUC(predicted_probs_train, y_train)\n",
    "auc_test = AUC(predicted_probs_test, y_test)\n",
    "\n",
    "acc_train = Accuracy(predicted_train, y_train)\n",
    "acc_test = Accuracy(predicted_test, y_test)\n",
    "\n",
    "print(paste(\"AUC on train set\", auc_train, \"Accuracy on train set\", acc_train))\n",
    "print(paste(\"AUC on test set\", auc_test, \"Accuracy on test set\", acc_test))"
   ]
  },
  {
   "cell_type": "code",
   "execution_count": null,
   "metadata": {},
   "outputs": [],
   "source": []
  }
 ],
 "metadata": {
  "kernelspec": {
   "display_name": "R",
   "language": "R",
   "name": "ir"
  },
  "language_info": {
   "codemirror_mode": "r",
   "file_extension": ".r",
   "mimetype": "text/x-r-source",
   "name": "R",
   "pygments_lexer": "r",
   "version": "3.5.1"
  }
 },
 "nbformat": 4,
 "nbformat_minor": 2
}
