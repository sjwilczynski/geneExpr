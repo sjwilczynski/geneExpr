{
 "cells": [
  {
   "cell_type": "code",
   "execution_count": 1,
   "metadata": {},
   "outputs": [
    {
     "name": "stdout",
     "output_type": "stream",
     "text": [
      "Populating the interactive namespace from numpy and matplotlib\n"
     ]
    }
   ],
   "source": [
    "%run functions.ipynb\n",
    "%load_ext autoreload\n",
    "%autoreload 2"
   ]
  },
  {
   "cell_type": "code",
   "execution_count": 2,
   "metadata": {},
   "outputs": [
    {
     "name": "stdout",
     "output_type": "stream",
     "text": [
      "Train and test sizes: (726, 12179) (243, 12179)\n",
      "(1, 0) labels count in train test: (289, 437) (104, 139)\n"
     ]
    }
   ],
   "source": [
    "X_train, X_test, y_train, y_test = load_train_and_test_parts()\n",
    "print(\"Train and test sizes: {} {}\".format(X_train.shape, X_test.shape))\n",
    "print(\n",
    "    \"(1, 0) labels count in train test: {} {}\".format(\n",
    "        (np.count_nonzero(y_train == 1), np.count_nonzero(y_train == 0)),\n",
    "        (np.count_nonzero(y_test == 1), np.count_nonzero(y_test == 0)),\n",
    "    )\n",
    ")"
   ]
  },
  {
   "cell_type": "code",
   "execution_count": 3,
   "metadata": {
    "tags": [
     "parameters"
    ]
   },
   "outputs": [],
   "source": [
    "scoring = 'roc_auc'\n",
    "cv = 4\n",
    "cv_out = 5\n",
    "cv_in = 2\n",
    "n_iter = 1\n",
    "n_jobs = 3"
   ]
  },
  {
   "cell_type": "code",
   "execution_count": 4,
   "metadata": {},
   "outputs": [],
   "source": [
    "pca_pipeline, pca_params = get_dim_reduction_pipeline(PCA(random_state=random_state), {'n_components' : [50, 150, 200, 250]})\n",
    "mlcc_filenames = get_mlcc_result_files()\n",
    "mlcc_pipeline, mlcc_params = get_dim_reduction_pipeline(MLCCWrapper(), {'filename' : mlcc_filenames})\n",
    "spca_pipeline, spca_params = get_dim_reduction_pipeline(SPCWrapper(), {'n_components' : [50, 150, 300, 450, 600, 750, 1000], \n",
    "                                                                       'threshold_val' : [0.01, 0.1, 0.5, 1, 3, 5, 10], \n",
    "                                                                       'threshold_mode': ['soft', 'hard', 'garrote'], \n",
    "                                                                       'max_iter': [25, 50, 100, 250]})\n",
    "pls_pipeline, pls_params = get_dim_reduction_pipeline(PLSRegressionWrapper(), {'n_components' : [50, 150, 300, 450, 600, 750, 1000]}, \n",
    "                                                      standardizer=stubTransformer)\n",
    "\n",
    "clf_params = {'lr' : np.linspace(0.0001, 0.1, 50) , 'module__dropout': np.linspace(0.0, 0.4, 30), 'module__num_hidden0': [5, 10, 20, 50], \n",
    "              'module__num_hidden1': [5, 10, 20, 50], 'optimizer__weight_decay': [0.001, 0.01, 0.1, 1, 5, 10]}\n",
    "dim_params = {'n_components' : [100, 250, 500], 'transformer': [RandomForestClassifier(max_depth=5, min_samples_leaf=20, random_state=random_state),\n",
    "                                                               RandomLogisticsRegressions(penalty='l1', C=0.5, n_variables=500)]}\n",
    "\n",
    "early_stopping = EarlyStopping(scoring, patience=10, threshold_mode='abs', threshold=1e-3)\n",
    "clf = NeuralNetClassifierWrapper(ClassifierModule, train_split=None, optimizer=torch.optim.Adam, callbacks=[skorch_scoring[scoring], early_stopping], \n",
    "                          max_epochs=1000, verbose=0)\n",
    "\n",
    "fdnn_pipeline, fdnn_params = get_dim_reduction_pipeline(RepresentationTransformer(transformer=RandomForestClassifier()), dim_params, \n",
    "                                                        standardizer=stubTransformer, clf=clf, clf_params=clf_params)\n"
   ]
  },
  {
   "cell_type": "code",
   "execution_count": 5,
   "metadata": {},
   "outputs": [],
   "source": [
    "all_scores_names = ['roc_auc', 'precision', 'recall', 'f1']\n",
    "estimated_scores = {}\n",
    "randomized_cvs = {}\n",
    "models = {\n",
    "    'PCA': {\n",
    "         'model': pca_pipeline,\n",
    "         'params': pca_params\n",
    "    },\n",
    "    'SPCA': {\n",
    "         'model': spca_pipeline,\n",
    "         'params': spca_params\n",
    "    },\n",
    "    'MLCC': {\n",
    "         'model': mlcc_pipeline,\n",
    "         'params': mlcc_params\n",
    "    },\n",
    "    'PLS': {\n",
    "         'model': pls_pipeline,\n",
    "         'params': pls_params\n",
    "    },\n",
    "    'FDNN': {\n",
    "         'model': fdnn_pipeline,\n",
    "         'params': fdnn_params\n",
    "    },\n",
    "    'Nearest shrunken centroid': {\n",
    "        'model': NearestCentroidWrapper(),\n",
    "        'params': {'shrink_threshold' : np.linspace(0, 5, 50)}\n",
    "    },\n",
    "    'Logistic regression': {\n",
    "        'model': LogisticRegression(random_state=random_state),\n",
    "        'params': {'C' : np.linspace(0.01, 0.6, 50), 'penalty' : ['l1'], 'solver' : ['liblinear']}\n",
    "    },\n",
    "    'Regularized discriminant analysis': {\n",
    "        'model': LinearDiscriminantAnalysis(shrinkage='auto', solver='lsqr'),\n",
    "        'params': {}\n",
    "    },\n",
    "    'Random forest': {\n",
    "        'model': RandomForestClassifier(random_state=random_state),\n",
    "        'params': {'n_estimators' : [500, 1000, 2500, 5000], 'max_depth': [4, 6, 8], 'min_samples_leaf' : [20, 30], \n",
    "               \"bootstrap\": [True, False], \"criterion\": [\"gini\", \"entropy\"]}\n",
    "    },\n",
    "    'Elastic net': {\n",
    "        'model': SGDClassifier(loss='log', penalty='elasticnet', max_iter=5000, tol=1e-3, random_state=random_state),\n",
    "        'params': {'l1_ratio' : np.linspace(0.001, 1, 50), 'alpha' : np.linspace(0.0001, 0.5, 100)}\n",
    "    },\n",
    "    'Linear SVM': {\n",
    "        'model': LinearSVC(penalty='l1', dual=False, max_iter=10000, random_state=random_state),\n",
    "        'params': {'C' : np.linspace(0.01, 0.6, 50)}\n",
    "    }\n",
    "}"
   ]
  },
  {
   "cell_type": "code",
   "execution_count": 6,
   "metadata": {},
   "outputs": [],
   "source": [
    "for model_name, model_specification in models.items():\n",
    "    rcv = RandomizedSearchCV(estimator=model_specification['model'], param_distributions=model_specification['params'],\n",
    "                             cv=cv_in, scoring=scoring, n_iter=n_iter, iid=False, random_state=random_state)\n",
    "    randomized_cvs[model_name] = rcv"
   ]
  },
  {
   "cell_type": "code",
   "execution_count": 7,
   "metadata": {},
   "outputs": [
    {
     "name": "stdout",
     "output_type": "stream",
     "text": [
      "Done for PCA\n",
      "Done for SPCA\n",
      "Done for MLCC\n"
     ]
    },
    {
     "name": "stderr",
     "output_type": "stream",
     "text": [
      "/pio/scratch/1/i272955/anaconda3/envs/master/lib/python3.7/site-packages/sklearn/cross_decomposition/pls_.py:291: UserWarning: Y residual constant at iteration 76\n",
      "  warnings.warn('Y residual constant at iteration %s' % k)\n",
      "/pio/scratch/1/i272955/anaconda3/envs/master/lib/python3.7/site-packages/sklearn/cross_decomposition/pls_.py:291: UserWarning: Y residual constant at iteration 63\n",
      "  warnings.warn('Y residual constant at iteration %s' % k)\n",
      "/pio/scratch/1/i272955/anaconda3/envs/master/lib/python3.7/site-packages/sklearn/cross_decomposition/pls_.py:291: UserWarning: Y residual constant at iteration 99\n",
      "  warnings.warn('Y residual constant at iteration %s' % k)\n",
      "/pio/scratch/1/i272955/anaconda3/envs/master/lib/python3.7/site-packages/sklearn/cross_decomposition/pls_.py:291: UserWarning: Y residual constant at iteration 76\n",
      "  warnings.warn('Y residual constant at iteration %s' % k)\n",
      "/pio/scratch/1/i272955/anaconda3/envs/master/lib/python3.7/site-packages/sklearn/cross_decomposition/pls_.py:291: UserWarning: Y residual constant at iteration 72\n",
      "  warnings.warn('Y residual constant at iteration %s' % k)\n",
      "/pio/scratch/1/i272955/anaconda3/envs/master/lib/python3.7/site-packages/sklearn/cross_decomposition/pls_.py:291: UserWarning: Y residual constant at iteration 100\n",
      "  warnings.warn('Y residual constant at iteration %s' % k)\n",
      "/pio/scratch/1/i272955/anaconda3/envs/master/lib/python3.7/site-packages/sklearn/cross_decomposition/pls_.py:291: UserWarning: Y residual constant at iteration 73\n",
      "  warnings.warn('Y residual constant at iteration %s' % k)\n",
      "/pio/scratch/1/i272955/anaconda3/envs/master/lib/python3.7/site-packages/sklearn/cross_decomposition/pls_.py:291: UserWarning: Y residual constant at iteration 65\n",
      "  warnings.warn('Y residual constant at iteration %s' % k)\n",
      "/pio/scratch/1/i272955/anaconda3/envs/master/lib/python3.7/site-packages/sklearn/cross_decomposition/pls_.py:291: UserWarning: Y residual constant at iteration 96\n",
      "  warnings.warn('Y residual constant at iteration %s' % k)\n",
      "/pio/scratch/1/i272955/anaconda3/envs/master/lib/python3.7/site-packages/sklearn/cross_decomposition/pls_.py:291: UserWarning: Y residual constant at iteration 73\n",
      "  warnings.warn('Y residual constant at iteration %s' % k)\n",
      "/pio/scratch/1/i272955/anaconda3/envs/master/lib/python3.7/site-packages/sklearn/cross_decomposition/pls_.py:291: UserWarning: Y residual constant at iteration 65\n",
      "  warnings.warn('Y residual constant at iteration %s' % k)\n",
      "/pio/scratch/1/i272955/anaconda3/envs/master/lib/python3.7/site-packages/sklearn/cross_decomposition/pls_.py:291: UserWarning: Y residual constant at iteration 95\n",
      "  warnings.warn('Y residual constant at iteration %s' % k)\n",
      "/pio/scratch/1/i272955/anaconda3/envs/master/lib/python3.7/site-packages/sklearn/cross_decomposition/pls_.py:291: UserWarning: Y residual constant at iteration 67\n",
      "  warnings.warn('Y residual constant at iteration %s' % k)\n",
      "/pio/scratch/1/i272955/anaconda3/envs/master/lib/python3.7/site-packages/sklearn/cross_decomposition/pls_.py:291: UserWarning: Y residual constant at iteration 65\n",
      "  warnings.warn('Y residual constant at iteration %s' % k)\n",
      "/pio/scratch/1/i272955/anaconda3/envs/master/lib/python3.7/site-packages/sklearn/cross_decomposition/pls_.py:291: UserWarning: Y residual constant at iteration 93\n",
      "  warnings.warn('Y residual constant at iteration %s' % k)\n"
     ]
    },
    {
     "name": "stdout",
     "output_type": "stream",
     "text": [
      "Done for PLS\n"
     ]
    },
    {
     "name": "stderr",
     "output_type": "stream",
     "text": [
      "/pio/scratch/1/i272955/anaconda3/envs/master/lib/python3.7/site-packages/sklearn/metrics/classification.py:1143: UndefinedMetricWarning: Precision is ill-defined and being set to 0.0 due to no predicted samples.\n",
      "  'precision', 'predicted', average, warn_for)\n",
      "/pio/scratch/1/i272955/anaconda3/envs/master/lib/python3.7/site-packages/sklearn/metrics/classification.py:1143: UndefinedMetricWarning: F-score is ill-defined and being set to 0.0 due to no predicted samples.\n",
      "  'precision', 'predicted', average, warn_for)\n",
      "/pio/scratch/1/i272955/anaconda3/envs/master/lib/python3.7/site-packages/sklearn/metrics/classification.py:1143: UndefinedMetricWarning: Precision is ill-defined and being set to 0.0 due to no predicted samples.\n",
      "  'precision', 'predicted', average, warn_for)\n",
      "/pio/scratch/1/i272955/anaconda3/envs/master/lib/python3.7/site-packages/sklearn/metrics/classification.py:1143: UndefinedMetricWarning: F-score is ill-defined and being set to 0.0 due to no predicted samples.\n",
      "  'precision', 'predicted', average, warn_for)\n",
      "/pio/scratch/1/i272955/anaconda3/envs/master/lib/python3.7/site-packages/sklearn/metrics/classification.py:1143: UndefinedMetricWarning: Precision is ill-defined and being set to 0.0 due to no predicted samples.\n",
      "  'precision', 'predicted', average, warn_for)\n",
      "/pio/scratch/1/i272955/anaconda3/envs/master/lib/python3.7/site-packages/sklearn/metrics/classification.py:1143: UndefinedMetricWarning: F-score is ill-defined and being set to 0.0 due to no predicted samples.\n",
      "  'precision', 'predicted', average, warn_for)\n",
      "/pio/scratch/1/i272955/anaconda3/envs/master/lib/python3.7/site-packages/sklearn/metrics/classification.py:1143: UndefinedMetricWarning: Precision is ill-defined and being set to 0.0 due to no predicted samples.\n",
      "  'precision', 'predicted', average, warn_for)\n",
      "/pio/scratch/1/i272955/anaconda3/envs/master/lib/python3.7/site-packages/sklearn/metrics/classification.py:1143: UndefinedMetricWarning: F-score is ill-defined and being set to 0.0 due to no predicted samples.\n",
      "  'precision', 'predicted', average, warn_for)\n",
      "/pio/scratch/1/i272955/anaconda3/envs/master/lib/python3.7/site-packages/sklearn/metrics/classification.py:1143: UndefinedMetricWarning: Precision is ill-defined and being set to 0.0 due to no predicted samples.\n",
      "  'precision', 'predicted', average, warn_for)\n",
      "/pio/scratch/1/i272955/anaconda3/envs/master/lib/python3.7/site-packages/sklearn/metrics/classification.py:1143: UndefinedMetricWarning: F-score is ill-defined and being set to 0.0 due to no predicted samples.\n",
      "  'precision', 'predicted', average, warn_for)\n",
      "/pio/scratch/1/i272955/anaconda3/envs/master/lib/python3.7/site-packages/sklearn/metrics/classification.py:1143: UndefinedMetricWarning: Precision is ill-defined and being set to 0.0 due to no predicted samples.\n",
      "  'precision', 'predicted', average, warn_for)\n",
      "/pio/scratch/1/i272955/anaconda3/envs/master/lib/python3.7/site-packages/sklearn/metrics/classification.py:1143: UndefinedMetricWarning: F-score is ill-defined and being set to 0.0 due to no predicted samples.\n",
      "  'precision', 'predicted', average, warn_for)\n",
      "/pio/scratch/1/i272955/anaconda3/envs/master/lib/python3.7/site-packages/sklearn/metrics/classification.py:1143: UndefinedMetricWarning: Precision is ill-defined and being set to 0.0 due to no predicted samples.\n",
      "  'precision', 'predicted', average, warn_for)\n",
      "/pio/scratch/1/i272955/anaconda3/envs/master/lib/python3.7/site-packages/sklearn/metrics/classification.py:1143: UndefinedMetricWarning: F-score is ill-defined and being set to 0.0 due to no predicted samples.\n",
      "  'precision', 'predicted', average, warn_for)\n",
      "/pio/scratch/1/i272955/anaconda3/envs/master/lib/python3.7/site-packages/sklearn/metrics/classification.py:1143: UndefinedMetricWarning: Precision is ill-defined and being set to 0.0 due to no predicted samples.\n",
      "  'precision', 'predicted', average, warn_for)\n",
      "/pio/scratch/1/i272955/anaconda3/envs/master/lib/python3.7/site-packages/sklearn/metrics/classification.py:1143: UndefinedMetricWarning: F-score is ill-defined and being set to 0.0 due to no predicted samples.\n",
      "  'precision', 'predicted', average, warn_for)\n",
      "/pio/scratch/1/i272955/anaconda3/envs/master/lib/python3.7/site-packages/sklearn/metrics/classification.py:1143: UndefinedMetricWarning: Precision is ill-defined and being set to 0.0 due to no predicted samples.\n",
      "  'precision', 'predicted', average, warn_for)\n",
      "/pio/scratch/1/i272955/anaconda3/envs/master/lib/python3.7/site-packages/sklearn/metrics/classification.py:1143: UndefinedMetricWarning: F-score is ill-defined and being set to 0.0 due to no predicted samples.\n",
      "  'precision', 'predicted', average, warn_for)\n",
      "/pio/scratch/1/i272955/anaconda3/envs/master/lib/python3.7/site-packages/sklearn/metrics/classification.py:1143: UndefinedMetricWarning: Precision is ill-defined and being set to 0.0 due to no predicted samples.\n",
      "  'precision', 'predicted', average, warn_for)\n",
      "/pio/scratch/1/i272955/anaconda3/envs/master/lib/python3.7/site-packages/sklearn/metrics/classification.py:1143: UndefinedMetricWarning: F-score is ill-defined and being set to 0.0 due to no predicted samples.\n",
      "  'precision', 'predicted', average, warn_for)\n"
     ]
    },
    {
     "name": "stdout",
     "output_type": "stream",
     "text": [
      "Done for FDNN\n",
      "Done for Nearest shrunken centroid\n",
      "Done for Logistic regression\n",
      "Done for Regularized discriminant analysis\n",
      "Done for Random forest\n",
      "Done for Elastic net\n"
     ]
    },
    {
     "name": "stderr",
     "output_type": "stream",
     "text": [
      "/pio/scratch/1/i272955/anaconda3/envs/master/lib/python3.7/site-packages/sklearn/svm/base.py:931: ConvergenceWarning: Liblinear failed to converge, increase the number of iterations.\n",
      "  \"the number of iterations.\", ConvergenceWarning)\n",
      "/pio/scratch/1/i272955/anaconda3/envs/master/lib/python3.7/site-packages/sklearn/svm/base.py:931: ConvergenceWarning: Liblinear failed to converge, increase the number of iterations.\n",
      "  \"the number of iterations.\", ConvergenceWarning)\n",
      "/pio/scratch/1/i272955/anaconda3/envs/master/lib/python3.7/site-packages/sklearn/svm/base.py:931: ConvergenceWarning: Liblinear failed to converge, increase the number of iterations.\n",
      "  \"the number of iterations.\", ConvergenceWarning)\n",
      "/pio/scratch/1/i272955/anaconda3/envs/master/lib/python3.7/site-packages/sklearn/svm/base.py:931: ConvergenceWarning: Liblinear failed to converge, increase the number of iterations.\n",
      "  \"the number of iterations.\", ConvergenceWarning)\n",
      "/pio/scratch/1/i272955/anaconda3/envs/master/lib/python3.7/site-packages/sklearn/svm/base.py:931: ConvergenceWarning: Liblinear failed to converge, increase the number of iterations.\n",
      "  \"the number of iterations.\", ConvergenceWarning)\n",
      "/pio/scratch/1/i272955/anaconda3/envs/master/lib/python3.7/site-packages/sklearn/svm/base.py:931: ConvergenceWarning: Liblinear failed to converge, increase the number of iterations.\n",
      "  \"the number of iterations.\", ConvergenceWarning)\n",
      "/pio/scratch/1/i272955/anaconda3/envs/master/lib/python3.7/site-packages/sklearn/svm/base.py:931: ConvergenceWarning: Liblinear failed to converge, increase the number of iterations.\n",
      "  \"the number of iterations.\", ConvergenceWarning)\n",
      "/pio/scratch/1/i272955/anaconda3/envs/master/lib/python3.7/site-packages/sklearn/svm/base.py:931: ConvergenceWarning: Liblinear failed to converge, increase the number of iterations.\n",
      "  \"the number of iterations.\", ConvergenceWarning)\n",
      "/pio/scratch/1/i272955/anaconda3/envs/master/lib/python3.7/site-packages/sklearn/svm/base.py:931: ConvergenceWarning: Liblinear failed to converge, increase the number of iterations.\n",
      "  \"the number of iterations.\", ConvergenceWarning)\n",
      "/pio/scratch/1/i272955/anaconda3/envs/master/lib/python3.7/site-packages/sklearn/svm/base.py:931: ConvergenceWarning: Liblinear failed to converge, increase the number of iterations.\n",
      "  \"the number of iterations.\", ConvergenceWarning)\n",
      "/pio/scratch/1/i272955/anaconda3/envs/master/lib/python3.7/site-packages/sklearn/svm/base.py:931: ConvergenceWarning: Liblinear failed to converge, increase the number of iterations.\n",
      "  \"the number of iterations.\", ConvergenceWarning)\n",
      "/pio/scratch/1/i272955/anaconda3/envs/master/lib/python3.7/site-packages/sklearn/svm/base.py:931: ConvergenceWarning: Liblinear failed to converge, increase the number of iterations.\n",
      "  \"the number of iterations.\", ConvergenceWarning)\n",
      "/pio/scratch/1/i272955/anaconda3/envs/master/lib/python3.7/site-packages/sklearn/svm/base.py:931: ConvergenceWarning: Liblinear failed to converge, increase the number of iterations.\n",
      "  \"the number of iterations.\", ConvergenceWarning)\n",
      "/pio/scratch/1/i272955/anaconda3/envs/master/lib/python3.7/site-packages/sklearn/svm/base.py:931: ConvergenceWarning: Liblinear failed to converge, increase the number of iterations.\n",
      "  \"the number of iterations.\", ConvergenceWarning)\n"
     ]
    },
    {
     "name": "stdout",
     "output_type": "stream",
     "text": [
      "Done for Linear SVM\n"
     ]
    },
    {
     "name": "stderr",
     "output_type": "stream",
     "text": [
      "/pio/scratch/1/i272955/anaconda3/envs/master/lib/python3.7/site-packages/sklearn/svm/base.py:931: ConvergenceWarning: Liblinear failed to converge, increase the number of iterations.\n",
      "  \"the number of iterations.\", ConvergenceWarning)\n"
     ]
    }
   ],
   "source": [
    "for name, rcv in randomized_cvs.items():\n",
    "    nested_scores = cross_validate(rcv, X_train, y_train, scoring = all_scores_names, cv=cv_out)\n",
    "    estimated_scores[name] = {}\n",
    "    for score_name in all_scores_names:\n",
    "        estimated_scores[name][score_name] = {\n",
    "            'mean': np.mean(nested_scores['test_' + score_name]),\n",
    "            'std': np.std(nested_scores['test_' + score_name])\n",
    "        }\n",
    "    print('Done for ' + name)"
   ]
  },
  {
   "cell_type": "code",
   "execution_count": 8,
   "metadata": {},
   "outputs": [
    {
     "data": {
      "text/html": [
       "<div>\n",
       "<style scoped>\n",
       "    .dataframe tbody tr th:only-of-type {\n",
       "        vertical-align: middle;\n",
       "    }\n",
       "\n",
       "    .dataframe tbody tr th {\n",
       "        vertical-align: top;\n",
       "    }\n",
       "\n",
       "    .dataframe thead th {\n",
       "        text-align: right;\n",
       "    }\n",
       "</style>\n",
       "<table border=\"1\" class=\"dataframe\">\n",
       "  <thead>\n",
       "    <tr style=\"text-align: right;\">\n",
       "      <th></th>\n",
       "      <th>ROC AUC</th>\n",
       "      <th>Precision</th>\n",
       "      <th>Recall</th>\n",
       "      <th>F1</th>\n",
       "    </tr>\n",
       "  </thead>\n",
       "  <tbody>\n",
       "    <tr>\n",
       "      <th>PCA</th>\n",
       "      <td>0.763 $\\pm$ 0.022</td>\n",
       "      <td>0.637 $\\pm$ 0.036</td>\n",
       "      <td>0.609 $\\pm$ 0.062</td>\n",
       "      <td>0.622 $\\pm$ 0.048</td>\n",
       "    </tr>\n",
       "    <tr>\n",
       "      <th>SPCA</th>\n",
       "      <td>0.789 $\\pm$ 0.033</td>\n",
       "      <td>0.665 $\\pm$ 0.054</td>\n",
       "      <td>0.592 $\\pm$ 0.036</td>\n",
       "      <td>0.626 $\\pm$ 0.041</td>\n",
       "    </tr>\n",
       "    <tr>\n",
       "      <th>MLCC</th>\n",
       "      <td>0.766 $\\pm$ 0.041</td>\n",
       "      <td>0.637 $\\pm$ 0.042</td>\n",
       "      <td>0.592 $\\pm$ 0.073</td>\n",
       "      <td>0.613 $\\pm$ 0.056</td>\n",
       "    </tr>\n",
       "    <tr>\n",
       "      <th>PLS</th>\n",
       "      <td>0.804 $\\pm$ 0.023</td>\n",
       "      <td>0.625 $\\pm$ 0.016</td>\n",
       "      <td>0.751 $\\pm$ 0.035</td>\n",
       "      <td>0.682 $\\pm$ 0.023</td>\n",
       "    </tr>\n",
       "    <tr>\n",
       "      <th>FDNN</th>\n",
       "      <td>0.490 $\\pm$ 0.136</td>\n",
       "      <td>0.000 $\\pm$ 0.000</td>\n",
       "      <td>0.000 $\\pm$ 0.000</td>\n",
       "      <td>0.000 $\\pm$ 0.000</td>\n",
       "    </tr>\n",
       "    <tr>\n",
       "      <th>Nearest shrunken centroid</th>\n",
       "      <td>0.656 $\\pm$ 0.045</td>\n",
       "      <td>0.576 $\\pm$ 0.052</td>\n",
       "      <td>0.613 $\\pm$ 0.066</td>\n",
       "      <td>0.593 $\\pm$ 0.054</td>\n",
       "    </tr>\n",
       "    <tr>\n",
       "      <th>Logistic regression</th>\n",
       "      <td>0.777 $\\pm$ 0.022</td>\n",
       "      <td>0.654 $\\pm$ 0.035</td>\n",
       "      <td>0.574 $\\pm$ 0.044</td>\n",
       "      <td>0.611 $\\pm$ 0.037</td>\n",
       "    </tr>\n",
       "    <tr>\n",
       "      <th>Regularized discriminant analysis</th>\n",
       "      <td>0.797 $\\pm$ 0.019</td>\n",
       "      <td>0.673 $\\pm$ 0.047</td>\n",
       "      <td>0.602 $\\pm$ 0.051</td>\n",
       "      <td>0.635 $\\pm$ 0.045</td>\n",
       "    </tr>\n",
       "    <tr>\n",
       "      <th>Random forest</th>\n",
       "      <td>0.796 $\\pm$ 0.033</td>\n",
       "      <td>0.722 $\\pm$ 0.041</td>\n",
       "      <td>0.533 $\\pm$ 0.025</td>\n",
       "      <td>0.612 $\\pm$ 0.021</td>\n",
       "    </tr>\n",
       "    <tr>\n",
       "      <th>Elastic net</th>\n",
       "      <td>0.774 $\\pm$ 0.030</td>\n",
       "      <td>0.623 $\\pm$ 0.067</td>\n",
       "      <td>0.565 $\\pm$ 0.252</td>\n",
       "      <td>0.551 $\\pm$ 0.144</td>\n",
       "    </tr>\n",
       "    <tr>\n",
       "      <th>Linear SVM</th>\n",
       "      <td>0.759 $\\pm$ 0.025</td>\n",
       "      <td>0.644 $\\pm$ 0.061</td>\n",
       "      <td>0.626 $\\pm$ 0.061</td>\n",
       "      <td>0.635 $\\pm$ 0.061</td>\n",
       "    </tr>\n",
       "  </tbody>\n",
       "</table>\n",
       "</div>"
      ],
      "text/plain": [
       "                                             ROC AUC          Precision             Recall                 F1\n",
       "PCA                                0.763 $\\pm$ 0.022  0.637 $\\pm$ 0.036  0.609 $\\pm$ 0.062  0.622 $\\pm$ 0.048\n",
       "SPCA                               0.789 $\\pm$ 0.033  0.665 $\\pm$ 0.054  0.592 $\\pm$ 0.036  0.626 $\\pm$ 0.041\n",
       "MLCC                               0.766 $\\pm$ 0.041  0.637 $\\pm$ 0.042  0.592 $\\pm$ 0.073  0.613 $\\pm$ 0.056\n",
       "PLS                                0.804 $\\pm$ 0.023  0.625 $\\pm$ 0.016  0.751 $\\pm$ 0.035  0.682 $\\pm$ 0.023\n",
       "FDNN                               0.490 $\\pm$ 0.136  0.000 $\\pm$ 0.000  0.000 $\\pm$ 0.000  0.000 $\\pm$ 0.000\n",
       "Nearest shrunken centroid          0.656 $\\pm$ 0.045  0.576 $\\pm$ 0.052  0.613 $\\pm$ 0.066  0.593 $\\pm$ 0.054\n",
       "Logistic regression                0.777 $\\pm$ 0.022  0.654 $\\pm$ 0.035  0.574 $\\pm$ 0.044  0.611 $\\pm$ 0.037\n",
       "Regularized discriminant analysis  0.797 $\\pm$ 0.019  0.673 $\\pm$ 0.047  0.602 $\\pm$ 0.051  0.635 $\\pm$ 0.045\n",
       "Random forest                      0.796 $\\pm$ 0.033  0.722 $\\pm$ 0.041  0.533 $\\pm$ 0.025  0.612 $\\pm$ 0.021\n",
       "Elastic net                        0.774 $\\pm$ 0.030  0.623 $\\pm$ 0.067  0.565 $\\pm$ 0.252  0.551 $\\pm$ 0.144\n",
       "Linear SVM                         0.759 $\\pm$ 0.025  0.644 $\\pm$ 0.061  0.626 $\\pm$ 0.061  0.635 $\\pm$ 0.061"
      ]
     },
     "metadata": {},
     "output_type": "display_data"
    },
    {
     "name": "stdout",
     "output_type": "stream",
     "text": [
      "\\begin{tabular}{lllll}\n",
      "\\toprule\n",
      "{} &            ROC AUC &          Precision &             Recall &                 F1 \\\\\n",
      "\\midrule\n",
      "PCA                               &  0.763 \\$\\textbackslash pm\\$ 0.022 &  0.637 \\$\\textbackslash pm\\$ 0.036 &  0.609 \\$\\textbackslash pm\\$ 0.062 &  0.622 \\$\\textbackslash pm\\$ 0.048 \\\\\n",
      "SPCA                              &  0.789 \\$\\textbackslash pm\\$ 0.033 &  0.665 \\$\\textbackslash pm\\$ 0.054 &  0.592 \\$\\textbackslash pm\\$ 0.036 &  0.626 \\$\\textbackslash pm\\$ 0.041 \\\\\n",
      "MLCC                              &  0.766 \\$\\textbackslash pm\\$ 0.041 &  0.637 \\$\\textbackslash pm\\$ 0.042 &  0.592 \\$\\textbackslash pm\\$ 0.073 &  0.613 \\$\\textbackslash pm\\$ 0.056 \\\\\n",
      "PLS                               &  0.804 \\$\\textbackslash pm\\$ 0.023 &  0.625 \\$\\textbackslash pm\\$ 0.016 &  0.751 \\$\\textbackslash pm\\$ 0.035 &  0.682 \\$\\textbackslash pm\\$ 0.023 \\\\\n",
      "FDNN                              &  0.490 \\$\\textbackslash pm\\$ 0.136 &  0.000 \\$\\textbackslash pm\\$ 0.000 &  0.000 \\$\\textbackslash pm\\$ 0.000 &  0.000 \\$\\textbackslash pm\\$ 0.000 \\\\\n",
      "Nearest shrunken centroid         &  0.656 \\$\\textbackslash pm\\$ 0.045 &  0.576 \\$\\textbackslash pm\\$ 0.052 &  0.613 \\$\\textbackslash pm\\$ 0.066 &  0.593 \\$\\textbackslash pm\\$ 0.054 \\\\\n",
      "Logistic regression               &  0.777 \\$\\textbackslash pm\\$ 0.022 &  0.654 \\$\\textbackslash pm\\$ 0.035 &  0.574 \\$\\textbackslash pm\\$ 0.044 &  0.611 \\$\\textbackslash pm\\$ 0.037 \\\\\n",
      "Regularized discriminant analysis &  0.797 \\$\\textbackslash pm\\$ 0.019 &  0.673 \\$\\textbackslash pm\\$ 0.047 &  0.602 \\$\\textbackslash pm\\$ 0.051 &  0.635 \\$\\textbackslash pm\\$ 0.045 \\\\\n",
      "Random forest                     &  0.796 \\$\\textbackslash pm\\$ 0.033 &  0.722 \\$\\textbackslash pm\\$ 0.041 &  0.533 \\$\\textbackslash pm\\$ 0.025 &  0.612 \\$\\textbackslash pm\\$ 0.021 \\\\\n",
      "Elastic net                       &  0.774 \\$\\textbackslash pm\\$ 0.030 &  0.623 \\$\\textbackslash pm\\$ 0.067 &  0.565 \\$\\textbackslash pm\\$ 0.252 &  0.551 \\$\\textbackslash pm\\$ 0.144 \\\\\n",
      "Linear SVM                        &  0.759 \\$\\textbackslash pm\\$ 0.025 &  0.644 \\$\\textbackslash pm\\$ 0.061 &  0.626 \\$\\textbackslash pm\\$ 0.061 &  0.635 \\$\\textbackslash pm\\$ 0.061 \\\\\n",
      "\\bottomrule\n",
      "\\end{tabular}\n",
      "\n"
     ]
    }
   ],
   "source": [
    "print_summarized_scores(estimated_scores, models, latex=True)"
   ]
  }
 ],
 "metadata": {
  "kernelspec": {
   "display_name": "Python 3",
   "language": "python",
   "name": "python3"
  },
  "language_info": {
   "codemirror_mode": {
    "name": "ipython",
    "version": 3
   },
   "file_extension": ".py",
   "mimetype": "text/x-python",
   "name": "python",
   "nbconvert_exporter": "python",
   "pygments_lexer": "ipython3",
   "version": "3.7.3"
  }
 },
 "nbformat": 4,
 "nbformat_minor": 4
}
